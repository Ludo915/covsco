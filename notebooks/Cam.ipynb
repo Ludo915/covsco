{
 "cells": [
  {
   "cell_type": "code",
   "execution_count": 1,
   "metadata": {
    "ExecuteTime": {
     "end_time": "2021-04-16T10:06:58.526123Z",
     "start_time": "2021-04-16T10:06:55.549502Z"
    }
   },
   "outputs": [],
   "source": [
    "from hdx.hdx_configuration import Configuration \n",
    "from hdx.data.dataset import Dataset\n",
    "import requests\n",
    "import pandas as pd\n",
    "import numpy as np\n",
    "import csv\n",
    "from zipfile import ZipFile\n",
    "import os"
   ]
  },
  {
   "cell_type": "code",
   "execution_count": 2,
   "metadata": {
    "ExecuteTime": {
     "end_time": "2021-04-16T10:06:58.868490Z",
     "start_time": "2021-04-16T10:06:58.860764Z"
    }
   },
   "outputs": [],
   "source": [
    "def download_url(url, save_path, chunk_size=128):\n",
    "    r = requests.get(url, stream=True)\n",
    "    with open(save_path, 'wb') as fd:\n",
    "        for chunk in r.iter_content(chunk_size=chunk_size):\n",
    "            fd.write(chunk)"
   ]
  },
  {
   "cell_type": "markdown",
   "metadata": {
    "ExecuteTime": {
     "end_time": "2021-04-14T13:02:46.676618Z",
     "start_time": "2021-04-14T13:02:46.631505Z"
    },
    "heading_collapsed": true
   },
   "source": [
    "# Population"
   ]
  },
  {
   "cell_type": "code",
   "execution_count": null,
   "metadata": {
    "ExecuteTime": {
     "end_time": "2021-04-14T13:30:00.049658Z",
     "start_time": "2021-04-14T13:29:59.799395Z"
    },
    "hidden": true
   },
   "outputs": [],
   "source": [
    "#url_pop = 'https://www.regions-et-departements.fr/fichiers/departements-francais.csv'\n",
    "#download_url(url_pop, 'pop.csv')\n",
    "#\n",
    "#live = pd.read_csv('pop.csv', sep='\\t')\n",
    "#live.drop(index=[101,102], inplace=True)\n",
    "#\n",
    "#live\n",
    "#\n",
    "#live.columns = ['dep_num', 'name', 'region', 'capital', 'area', 'total', 'density']\n",
    "#live['dep_num'] = live['dep_num'].replace({'2A':'201','2B':'202'}).astype(int)\n",
    "#\n",
    "#depts = pd.read_csv('../data/train/pop/fr/departements-francais.csv', sep=';')\n",
    "#depts.columns = ['dep_num', 'name', 'region', 'capital', 'area', 'total', 'density']\n",
    "#\n",
    "#\n",
    "#live == depts"
   ]
  },
  {
   "cell_type": "markdown",
   "metadata": {
    "heading_collapsed": true
   },
   "source": [
    "# Covid"
   ]
  },
  {
   "cell_type": "code",
   "execution_count": null,
   "metadata": {
    "hidden": true
   },
   "outputs": [],
   "source": [
    "#import requests\n",
    "#import pandas as pd\n",
    "#import datetime\n",
    "#departements = pd.read_csv(\"data/pop/fr/departements-francais.csv\", sep = \";\")\n",
    "#hospi = []\n",
    "#url = \"https://coronavirusapi-france.now.sh/AllLiveData\"\n",
    "#response = requests.get(url).json()\n",
    "#counter = 0\n",
    "#for numero in departements.NUMÉRO:\n",
    "#    nom = str(departements[departements[\"NUMÉRO\"]==numero][\"NOM\"].values[0])\n",
    "#    hospi.append((nom, numero, response[\"allLiveFranceData\"][counter][\"nouvellesHospitalisations\"]))\n",
    "#    counter+=1\n",
    "#\n",
    "#df = pd.DataFrame(hospi, columns =[\"depname\",\"depnum\",\"newhospi\"])\n",
    "#print(df)\n",
    "#df.to_csv(\"covid_daily_data.csv\", index = False)"
   ]
  },
  {
   "cell_type": "markdown",
   "metadata": {
    "heading_collapsed": true
   },
   "source": [
    "# CAMS"
   ]
  },
  {
   "cell_type": "code",
   "execution_count": null,
   "metadata": {
    "hidden": true
   },
   "outputs": [],
   "source": [
    "#to_do (Niclas ?)"
   ]
  },
  {
   "cell_type": "markdown",
   "metadata": {},
   "source": [
    "# Mobility"
   ]
  },
  {
   "cell_type": "code",
   "execution_count": null,
   "metadata": {
    "ExecuteTime": {
     "end_time": "2021-04-16T09:22:39.383478Z",
     "start_time": "2021-04-16T09:22:11.101456Z"
    }
   },
   "outputs": [],
   "source": [
    "Configuration.create(hdx_site='prod', user_agent='A_Quick_Example', hdx_read_only=True)\n",
    "dataset = Dataset.read_from_hdx('movement-range-maps')\n",
    "resources = dataset.get_resources()\n",
    "dic = resources[1]\n",
    "url_mobility = dic['download_url']\n",
    "\n",
    "file_mobility = \"mvt_range.zip\"\n",
    "download_url(url_mobility, file_mobility)"
   ]
  },
  {
   "cell_type": "code",
   "execution_count": null,
   "metadata": {
    "ExecuteTime": {
     "end_time": "2021-04-16T09:23:15.969102Z",
     "start_time": "2021-04-16T09:23:12.594414Z"
    }
   },
   "outputs": [],
   "source": [
    "with ZipFile(file_mobility, 'r') as zip:\n",
    "    # printing all the contents of the zip file\n",
    "    zip.printdir()\n",
    "  \n",
    "    # extracting all the files\n",
    "    print('Extracting mv_range file now...')\n",
    "    mvt_range = zip.namelist()[-1]\n",
    "    zip.extract(mvt_range)\n",
    "    print('Done!')"
   ]
  },
  {
   "cell_type": "code",
   "execution_count": null,
   "metadata": {
    "ExecuteTime": {
     "end_time": "2021-04-16T09:24:00.046970Z",
     "start_time": "2021-04-16T09:23:25.710663Z"
    }
   },
   "outputs": [],
   "source": [
    "with open(mvt_range) as f:\n",
    "    reader = csv.reader(f, delimiter=\"\\t\")\n",
    "    d = list(reader)"
   ]
  },
  {
   "cell_type": "code",
   "execution_count": null,
   "metadata": {
    "ExecuteTime": {
     "end_time": "2021-04-16T09:26:54.929097Z",
     "start_time": "2021-04-16T09:26:40.908667Z"
    }
   },
   "outputs": [],
   "source": [
    "data_mob = pd.DataFrame(d[1:], columns=d[0])\n",
    "data_mob = data_mob[data_mob['country']=='FRA']"
   ]
  },
  {
   "cell_type": "code",
   "execution_count": null,
   "metadata": {
    "ExecuteTime": {
     "end_time": "2021-04-16T09:29:32.097045Z",
     "start_time": "2021-04-16T09:29:32.077392Z"
    }
   },
   "outputs": [],
   "source": [
    "last_date = data_mob.iloc[[-1]]['ds']\n",
    "list(last_date)[0]"
   ]
  },
  {
   "cell_type": "code",
   "execution_count": null,
   "metadata": {
    "ExecuteTime": {
     "end_time": "2021-04-16T09:31:36.677008Z",
     "start_time": "2021-04-16T09:31:36.635042Z"
    },
    "scrolled": true
   },
   "outputs": [],
   "source": [
    "data_mob"
   ]
  },
  {
   "cell_type": "code",
   "execution_count": null,
   "metadata": {
    "ExecuteTime": {
     "end_time": "2021-04-16T09:39:39.890441Z",
     "start_time": "2021-04-16T09:39:39.843855Z"
    }
   },
   "outputs": [],
   "source": [
    "data_mob = data_mob[data_mob['ds']==list(last_date)[0]][['ds', 'polygon_name', 'all_day_bing_tiles_visited_relative_change', 'all_day_ratio_single_tile_users']]\n",
    "data_mob"
   ]
  },
  {
   "cell_type": "code",
   "execution_count": null,
   "metadata": {
    "ExecuteTime": {
     "end_time": "2021-04-16T10:06:23.734104Z",
     "start_time": "2021-04-16T10:06:23.684543Z"
    }
   },
   "outputs": [],
   "source": [
    "depts  = pd.read_csv('../data/train/pop/fr/departements-francais.csv', sep=';')\n",
    "depts.columns = ['dep_num', 'name', 'region', 'capital', 'area', 'total', 'density']\n",
    "depts = depts.sort_values('dep_num')\n",
    "depts = depts[:-5]\n",
    "depts"
   ]
  },
  {
   "cell_type": "code",
   "execution_count": null,
   "metadata": {
    "ExecuteTime": {
     "end_time": "2021-04-16T10:02:27.165418Z",
     "start_time": "2021-04-16T10:02:27.153416Z"
    }
   },
   "outputs": [],
   "source": [
    "list(data_mob[data_mob['polygon_name']=='Auvergne-Rhône-Alpes']['all_day_bing_tiles_visited_relative_change'])[0]"
   ]
  },
  {
   "cell_type": "code",
   "execution_count": null,
   "metadata": {
    "ExecuteTime": {
     "start_time": "2021-04-16T10:06:31.325Z"
    }
   },
   "outputs": [],
   "source": [
    "def add_relative_change(row):\n",
    "    row['relative_change'] = list(data_mob[data_mob['polygon_name']=='Auvergne-Rhône-Alpes']['all_day_bing_tiles_visited_relative_change'])[0]\n",
    "#    print(row['relative_change'])\n",
    "    row['ratio'] = 'A'\n",
    "    return None"
   ]
  },
  {
   "cell_type": "code",
   "execution_count": null,
   "metadata": {
    "ExecuteTime": {
     "end_time": "2021-04-16T09:59:40.009425Z",
     "start_time": "2021-04-16T09:59:39.999414Z"
    }
   },
   "outputs": [],
   "source": [
    "depts['relative_change'] = ''\n",
    "depts['ratio'] = ''"
   ]
  },
  {
   "cell_type": "code",
   "execution_count": null,
   "metadata": {
    "ExecuteTime": {
     "end_time": "2021-04-16T10:06:00.927829Z",
     "start_time": "2021-04-16T10:06:00.776760Z"
    }
   },
   "outputs": [],
   "source": [
    "depts.apply(add_relative_change, axis=1)"
   ]
  },
  {
   "cell_type": "code",
   "execution_count": null,
   "metadata": {
    "ExecuteTime": {
     "end_time": "2021-04-16T10:06:06.440970Z",
     "start_time": "2021-04-16T10:06:06.423491Z"
    }
   },
   "outputs": [],
   "source": [
    "depts"
   ]
  },
  {
   "cell_type": "markdown",
   "metadata": {},
   "source": [
    "# Positive test"
   ]
  },
  {
   "cell_type": "code",
   "execution_count": null,
   "metadata": {},
   "outputs": [],
   "source": []
  },
  {
   "cell_type": "code",
   "execution_count": null,
   "metadata": {},
   "outputs": [],
   "source": []
  },
  {
   "cell_type": "code",
   "execution_count": null,
   "metadata": {},
   "outputs": [],
   "source": []
  },
  {
   "cell_type": "code",
   "execution_count": null,
   "metadata": {},
   "outputs": [],
   "source": []
  }
 ],
 "metadata": {
  "kernelspec": {
   "display_name": "Python 3",
   "language": "python",
   "name": "python3"
  },
  "language_info": {
   "codemirror_mode": {
    "name": "ipython",
    "version": 3
   },
   "file_extension": ".py",
   "mimetype": "text/x-python",
   "name": "python",
   "nbconvert_exporter": "python",
   "pygments_lexer": "ipython3",
   "version": "3.8.5"
  },
  "toc": {
   "base_numbering": 1,
   "nav_menu": {},
   "number_sections": true,
   "sideBar": true,
   "skip_h1_title": false,
   "title_cell": "Table of Contents",
   "title_sidebar": "Contents",
   "toc_cell": false,
   "toc_position": {},
   "toc_section_display": true,
   "toc_window_display": false
  },
  "varInspector": {
   "cols": {
    "lenName": 16,
    "lenType": 16,
    "lenVar": 40
   },
   "kernels_config": {
    "python": {
     "delete_cmd_postfix": "",
     "delete_cmd_prefix": "del ",
     "library": "var_list.py",
     "varRefreshCmd": "print(var_dic_list())"
    },
    "r": {
     "delete_cmd_postfix": ") ",
     "delete_cmd_prefix": "rm(",
     "library": "var_list.r",
     "varRefreshCmd": "cat(var_dic_list()) "
    }
   },
   "types_to_exclude": [
    "module",
    "function",
    "builtin_function_or_method",
    "instance",
    "_Feature"
   ],
   "window_display": false
  }
 },
 "nbformat": 4,
 "nbformat_minor": 4
}
