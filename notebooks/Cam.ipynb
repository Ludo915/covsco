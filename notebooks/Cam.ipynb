{
 "cells": [
  {
   "cell_type": "code",
   "execution_count": 1,
   "metadata": {
    "ExecuteTime": {
     "end_time": "2021-04-19T13:39:12.826646Z",
     "start_time": "2021-04-19T13:38:59.567413Z"
    }
   },
   "outputs": [],
   "source": [
    "from hdx.hdx_configuration import Configuration \n",
    "from hdx.data.dataset import Dataset\n",
    "import requests\n",
    "import pandas as pd\n",
    "import numpy as np\n",
    "import csv\n",
    "from zipfile import ZipFile\n",
    "import os"
   ]
  },
  {
   "cell_type": "code",
   "execution_count": 2,
   "metadata": {
    "ExecuteTime": {
     "end_time": "2021-04-19T13:39:12.877374Z",
     "start_time": "2021-04-19T13:39:12.869058Z"
    }
   },
   "outputs": [],
   "source": [
    "def download_url(url, save_path, chunk_size=128):\n",
    "    r = requests.get(url, stream=True)\n",
    "    with open(save_path, 'wb') as fd:\n",
    "        for chunk in r.iter_content(chunk_size=chunk_size):\n",
    "            fd.write(chunk)"
   ]
  },
  {
   "cell_type": "markdown",
   "metadata": {
    "ExecuteTime": {
     "end_time": "2021-04-14T13:02:46.676618Z",
     "start_time": "2021-04-14T13:02:46.631505Z"
    },
    "heading_collapsed": true
   },
   "source": [
    "# Population"
   ]
  },
  {
   "cell_type": "code",
   "execution_count": null,
   "metadata": {
    "ExecuteTime": {
     "end_time": "2021-04-16T10:59:36.185036Z",
     "start_time": "2021-04-16T10:59:36.168841Z"
    },
    "hidden": true
   },
   "outputs": [],
   "source": [
    "#url_pop = 'https://www.regions-et-departements.fr/fichiers/departements-francais.csv'\n",
    "#download_url(url_pop, 'pop.csv')\n",
    "#\n",
    "#live = pd.read_csv('pop.csv', sep='\\t')\n",
    "#live.drop(index=[101,102], inplace=True)\n",
    "#\n",
    "#live\n",
    "#\n",
    "#live.columns = ['dep_num', 'name', 'region', 'capital', 'area', 'total', 'density']\n",
    "#live['dep_num'] = live['dep_num'].replace({'2A':'201','2B':'202'}).astype(int)\n",
    "#\n",
    "#depts = pd.read_csv('../data/train/pop/fr/departements-francais.csv', sep=';')\n",
    "#depts.columns = ['dep_num', 'name', 'region', 'capital', 'area', 'total', 'density']\n",
    "#\n",
    "#\n",
    "#live == depts"
   ]
  },
  {
   "cell_type": "markdown",
   "metadata": {
    "heading_collapsed": true
   },
   "source": [
    "# Covid"
   ]
  },
  {
   "cell_type": "code",
   "execution_count": null,
   "metadata": {
    "ExecuteTime": {
     "end_time": "2021-04-16T10:59:36.205694Z",
     "start_time": "2021-04-16T10:59:36.195334Z"
    },
    "hidden": true
   },
   "outputs": [],
   "source": [
    "#import requests\n",
    "#import pandas as pd\n",
    "#import datetime\n",
    "#departements = pd.read_csv(\"data/pop/fr/departements-francais.csv\", sep = \";\")\n",
    "#hospi = []\n",
    "#url = \"https://coronavirusapi-france.now.sh/AllLiveData\"\n",
    "#response = requests.get(url).json()\n",
    "#counter = 0\n",
    "#for numero in departements.NUMÉRO:\n",
    "#    nom = str(departements[departements[\"NUMÉRO\"]==numero][\"NOM\"].values[0])\n",
    "#    hospi.append((nom, numero, response[\"allLiveFranceData\"][counter][\"nouvellesHospitalisations\"]))\n",
    "#    counter+=1\n",
    "#\n",
    "#df = pd.DataFrame(hospi, columns =[\"depname\",\"depnum\",\"newhospi\"])\n",
    "#print(df)\n",
    "#df.to_csv(\"covid_daily_data.csv\", index = False)"
   ]
  },
  {
   "cell_type": "markdown",
   "metadata": {
    "heading_collapsed": true
   },
   "source": [
    "# CAMS"
   ]
  },
  {
   "cell_type": "code",
   "execution_count": null,
   "metadata": {
    "ExecuteTime": {
     "end_time": "2021-04-16T10:59:36.222417Z",
     "start_time": "2021-04-16T10:59:36.213496Z"
    },
    "hidden": true
   },
   "outputs": [],
   "source": [
    "#to_do (Niclas ?)"
   ]
  },
  {
   "cell_type": "markdown",
   "metadata": {},
   "source": [
    "# Mobility"
   ]
  },
  {
   "cell_type": "code",
   "execution_count": null,
   "metadata": {
    "ExecuteTime": {
     "end_time": "2021-04-16T11:00:12.226617Z",
     "start_time": "2021-04-16T10:59:36.227593Z"
    }
   },
   "outputs": [],
   "source": [
    "Configuration.create(hdx_site='prod', user_agent='A_Quick_Example', hdx_read_only=True)\n",
    "dataset = Dataset.read_from_hdx('movement-range-maps')\n",
    "resources = dataset.get_resources()\n",
    "dic = resources[1]\n",
    "url_mobility = dic['download_url']\n",
    "\n",
    "file_mobility = \"mvt_range.zip\"\n",
    "download_url(url_mobility, file_mobility)"
   ]
  },
  {
   "cell_type": "code",
   "execution_count": null,
   "metadata": {
    "ExecuteTime": {
     "end_time": "2021-04-16T11:00:15.119585Z",
     "start_time": "2021-04-16T11:00:12.229615Z"
    }
   },
   "outputs": [],
   "source": [
    "with ZipFile(file_mobility, 'r') as zip:\n",
    "    # printing all the contents of the zip file\n",
    "    zip.printdir()\n",
    "  \n",
    "    # extracting all the files\n",
    "    print('Extracting mv_range file now...')\n",
    "    mvt_range = zip.namelist()[-1]\n",
    "    zip.extract(mvt_range)\n",
    "    print('Done!')"
   ]
  },
  {
   "cell_type": "code",
   "execution_count": null,
   "metadata": {
    "ExecuteTime": {
     "end_time": "2021-04-16T11:00:49.007706Z",
     "start_time": "2021-04-16T11:00:15.125280Z"
    }
   },
   "outputs": [],
   "source": [
    "with open(mvt_range) as f:\n",
    "    reader = csv.reader(f, delimiter=\"\\t\")\n",
    "    d = list(reader)"
   ]
  },
  {
   "cell_type": "code",
   "execution_count": null,
   "metadata": {
    "ExecuteTime": {
     "end_time": "2021-04-16T11:01:01.504179Z",
     "start_time": "2021-04-16T11:00:49.018097Z"
    }
   },
   "outputs": [],
   "source": [
    "data_mob = pd.DataFrame(d[1:], columns=d[0])\n",
    "data_mob = data_mob[data_mob['country']=='FRA']"
   ]
  },
  {
   "cell_type": "code",
   "execution_count": null,
   "metadata": {
    "ExecuteTime": {
     "end_time": "2021-04-16T11:01:01.653132Z",
     "start_time": "2021-04-16T11:01:01.558850Z"
    }
   },
   "outputs": [],
   "source": [
    "data_mob = data_mob[data_mob['ds']==list(data_mob.iloc[[-1]]['ds'])[0]][['ds', 'polygon_name', 'all_day_bing_tiles_visited_relative_change', 'all_day_ratio_single_tile_users']]"
   ]
  },
  {
   "cell_type": "code",
   "execution_count": null,
   "metadata": {
    "ExecuteTime": {
     "end_time": "2021-04-16T11:01:01.766508Z",
     "start_time": "2021-04-16T11:01:01.677527Z"
    }
   },
   "outputs": [],
   "source": [
    "depts  = pd.read_csv('../data/train/pop/fr/departements-francais.csv', sep=';')\n",
    "depts.columns = ['dep_num', 'name', 'region', 'capital', 'area', 'total', 'density']\n",
    "depts = depts.sort_values('dep_num')\n",
    "depts = depts[:-5]\n",
    "depts['region'] = depts['region'].replace({'Ile-de-France':'Île-de-France'})\n",
    "depts"
   ]
  },
  {
   "cell_type": "code",
   "execution_count": null,
   "metadata": {
    "ExecuteTime": {
     "end_time": "2021-04-16T11:01:01.882348Z",
     "start_time": "2021-04-16T11:01:01.857709Z"
    }
   },
   "outputs": [],
   "source": [
    "depts['stay_put'] = 0.0\n",
    "depts['go_out'] = 0.0"
   ]
  },
  {
   "cell_type": "code",
   "execution_count": null,
   "metadata": {
    "ExecuteTime": {
     "end_time": "2021-04-16T11:07:16.556311Z",
     "start_time": "2021-04-16T11:07:16.545641Z"
    }
   },
   "outputs": [],
   "source": [
    "def add_go_out(row):\n",
    "    region = row['region']\n",
    "    go_out = data_mob[data_mob['polygon_name']==region]['all_day_bing_tiles_visited_relative_change']\n",
    "    return float(list(go_out)[0])\n",
    "     \n",
    "def add_stay_put(row):   \n",
    "    region = row['region']\n",
    "    stay_put = data_mob[data_mob['polygon_name']==region]['all_day_ratio_single_tile_users']\n",
    "    return float(list(stay_put)[0])"
   ]
  },
  {
   "cell_type": "code",
   "execution_count": null,
   "metadata": {
    "ExecuteTime": {
     "end_time": "2021-04-16T11:08:00.200148Z",
     "start_time": "2021-04-16T11:07:59.991378Z"
    }
   },
   "outputs": [],
   "source": [
    "depts['go_out'] = depts.apply(add_go_out, axis=1)\n",
    "depts['stay_put'] = depts.apply(add_stay_put, axis=1)\n",
    "depts"
   ]
  },
  {
   "cell_type": "code",
   "execution_count": null,
   "metadata": {
    "ExecuteTime": {
     "end_time": "2021-04-16T10:23:45.510174Z",
     "start_time": "2021-04-16T10:23:45.460713Z"
    }
   },
   "outputs": [],
   "source": [
    "def add_stay_put(row)"
   ]
  },
  {
   "cell_type": "markdown",
   "metadata": {},
   "source": [
    "# Positive test"
   ]
  },
  {
   "cell_type": "code",
   "execution_count": 3,
   "metadata": {
    "ExecuteTime": {
     "end_time": "2021-04-19T13:39:13.340589Z",
     "start_time": "2021-04-19T13:39:12.917997Z"
    }
   },
   "outputs": [],
   "source": [
    "url_positive_test = 'https://www.data.gouv.fr/es/datasets/r/59aeab47-c364-462c-9087-ce233b6acbbc'\n",
    "download_url(url_positive_test, 'live_positive_test.csv')"
   ]
  },
  {
   "cell_type": "code",
   "execution_count": 5,
   "metadata": {
    "ExecuteTime": {
     "end_time": "2021-04-19T13:41:20.575156Z",
     "start_time": "2021-04-19T13:41:20.513141Z"
    }
   },
   "outputs": [
    {
     "data": {
      "text/html": [
       "<div>\n",
       "<style scoped>\n",
       "    .dataframe tbody tr th:only-of-type {\n",
       "        vertical-align: middle;\n",
       "    }\n",
       "\n",
       "    .dataframe tbody tr th {\n",
       "        vertical-align: top;\n",
       "    }\n",
       "\n",
       "    .dataframe thead th {\n",
       "        text-align: right;\n",
       "    }\n",
       "</style>\n",
       "<table border=\"1\" class=\"dataframe\">\n",
       "  <thead>\n",
       "    <tr style=\"text-align: right;\">\n",
       "      <th></th>\n",
       "      <th>code_region</th>\n",
       "      <th>region</th>\n",
       "      <th>departement</th>\n",
       "      <th>rang_vaccinal</th>\n",
       "      <th>date_debut_semaine</th>\n",
       "      <th>nb</th>\n",
       "    </tr>\n",
       "  </thead>\n",
       "  <tbody>\n",
       "    <tr>\n",
       "      <th>0</th>\n",
       "      <td>84</td>\n",
       "      <td>ARA</td>\n",
       "      <td>01</td>\n",
       "      <td>1</td>\n",
       "      <td>2021-01-18</td>\n",
       "      <td>1694</td>\n",
       "    </tr>\n",
       "    <tr>\n",
       "      <th>1</th>\n",
       "      <td>84</td>\n",
       "      <td>ARA</td>\n",
       "      <td>01</td>\n",
       "      <td>1</td>\n",
       "      <td>2021-01-25</td>\n",
       "      <td>2014</td>\n",
       "    </tr>\n",
       "    <tr>\n",
       "      <th>2</th>\n",
       "      <td>84</td>\n",
       "      <td>ARA</td>\n",
       "      <td>01</td>\n",
       "      <td>2</td>\n",
       "      <td>2021-01-25</td>\n",
       "      <td>119</td>\n",
       "    </tr>\n",
       "    <tr>\n",
       "      <th>3</th>\n",
       "      <td>84</td>\n",
       "      <td>ARA</td>\n",
       "      <td>01</td>\n",
       "      <td>1</td>\n",
       "      <td>2021-02-01</td>\n",
       "      <td>2017</td>\n",
       "    </tr>\n",
       "    <tr>\n",
       "      <th>4</th>\n",
       "      <td>84</td>\n",
       "      <td>ARA</td>\n",
       "      <td>01</td>\n",
       "      <td>2</td>\n",
       "      <td>2021-02-01</td>\n",
       "      <td>1269</td>\n",
       "    </tr>\n",
       "    <tr>\n",
       "      <th>...</th>\n",
       "      <td>...</td>\n",
       "      <td>...</td>\n",
       "      <td>...</td>\n",
       "      <td>...</td>\n",
       "      <td>...</td>\n",
       "      <td>...</td>\n",
       "    </tr>\n",
       "    <tr>\n",
       "      <th>3361</th>\n",
       "      <td>4</td>\n",
       "      <td>REU</td>\n",
       "      <td>974</td>\n",
       "      <td>2</td>\n",
       "      <td>2021-04-26</td>\n",
       "      <td>3267</td>\n",
       "    </tr>\n",
       "    <tr>\n",
       "      <th>3362</th>\n",
       "      <td>4</td>\n",
       "      <td>REU</td>\n",
       "      <td>974</td>\n",
       "      <td>1</td>\n",
       "      <td>2021-05-03</td>\n",
       "      <td>685</td>\n",
       "    </tr>\n",
       "    <tr>\n",
       "      <th>3363</th>\n",
       "      <td>4</td>\n",
       "      <td>REU</td>\n",
       "      <td>974</td>\n",
       "      <td>2</td>\n",
       "      <td>2021-05-03</td>\n",
       "      <td>4515</td>\n",
       "    </tr>\n",
       "    <tr>\n",
       "      <th>3364</th>\n",
       "      <td>4</td>\n",
       "      <td>REU</td>\n",
       "      <td>974</td>\n",
       "      <td>1</td>\n",
       "      <td>2021-05-10</td>\n",
       "      <td>73</td>\n",
       "    </tr>\n",
       "    <tr>\n",
       "      <th>3365</th>\n",
       "      <td>4</td>\n",
       "      <td>REU</td>\n",
       "      <td>974</td>\n",
       "      <td>2</td>\n",
       "      <td>2021-05-10</td>\n",
       "      <td>4354</td>\n",
       "    </tr>\n",
       "  </tbody>\n",
       "</table>\n",
       "<p>3366 rows × 6 columns</p>\n",
       "</div>"
      ],
      "text/plain": [
       "      code_region region departement  rang_vaccinal date_debut_semaine    nb\n",
       "0              84    ARA          01              1         2021-01-18  1694\n",
       "1              84    ARA          01              1         2021-01-25  2014\n",
       "2              84    ARA          01              2         2021-01-25   119\n",
       "3              84    ARA          01              1         2021-02-01  2017\n",
       "4              84    ARA          01              2         2021-02-01  1269\n",
       "...           ...    ...         ...            ...                ...   ...\n",
       "3361            4    REU         974              2         2021-04-26  3267\n",
       "3362            4    REU         974              1         2021-05-03   685\n",
       "3363            4    REU         974              2         2021-05-03  4515\n",
       "3364            4    REU         974              1         2021-05-10    73\n",
       "3365            4    REU         974              2         2021-05-10  4354\n",
       "\n",
       "[3366 rows x 6 columns]"
      ]
     },
     "execution_count": 5,
     "metadata": {},
     "output_type": "execute_result"
    }
   ],
   "source": [
    "live_test = pd.read_csv('live_positive_test.csv')\n",
    "live_test"
   ]
  },
  {
   "cell_type": "code",
   "execution_count": null,
   "metadata": {},
   "outputs": [],
   "source": []
  },
  {
   "cell_type": "code",
   "execution_count": null,
   "metadata": {},
   "outputs": [],
   "source": []
  }
 ],
 "metadata": {
  "kernelspec": {
   "display_name": "Python 3",
   "language": "python",
   "name": "python3"
  },
  "language_info": {
   "codemirror_mode": {
    "name": "ipython",
    "version": 3
   },
   "file_extension": ".py",
   "mimetype": "text/x-python",
   "name": "python",
   "nbconvert_exporter": "python",
   "pygments_lexer": "ipython3",
   "version": "3.8.5"
  },
  "toc": {
   "base_numbering": 1,
   "nav_menu": {},
   "number_sections": true,
   "sideBar": true,
   "skip_h1_title": false,
   "title_cell": "Table of Contents",
   "title_sidebar": "Contents",
   "toc_cell": false,
   "toc_position": {},
   "toc_section_display": true,
   "toc_window_display": false
  },
  "varInspector": {
   "cols": {
    "lenName": 16,
    "lenType": 16,
    "lenVar": 40
   },
   "kernels_config": {
    "python": {
     "delete_cmd_postfix": "",
     "delete_cmd_prefix": "del ",
     "library": "var_list.py",
     "varRefreshCmd": "print(var_dic_list())"
    },
    "r": {
     "delete_cmd_postfix": ") ",
     "delete_cmd_prefix": "rm(",
     "library": "var_list.r",
     "varRefreshCmd": "cat(var_dic_list()) "
    }
   },
   "types_to_exclude": [
    "module",
    "function",
    "builtin_function_or_method",
    "instance",
    "_Feature"
   ],
   "window_display": false
  }
 },
 "nbformat": 4,
 "nbformat_minor": 4
}
