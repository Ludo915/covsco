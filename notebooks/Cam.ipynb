{
 "cells": [
  {
   "cell_type": "code",
   "execution_count": 1,
   "metadata": {
    "ExecuteTime": {
     "end_time": "2021-04-16T10:59:36.129595Z",
     "start_time": "2021-04-16T10:59:32.106928Z"
    }
   },
   "outputs": [],
   "source": [
    "from hdx.hdx_configuration import Configuration \n",
    "from hdx.data.dataset import Dataset\n",
    "import requests\n",
    "import pandas as pd\n",
    "import numpy as np\n",
    "import csv\n",
    "from zipfile import ZipFile\n",
    "import os"
   ]
  },
  {
   "cell_type": "code",
   "execution_count": 2,
   "metadata": {
    "ExecuteTime": {
     "end_time": "2021-04-16T10:59:36.157667Z",
     "start_time": "2021-04-16T10:59:36.134220Z"
    }
   },
   "outputs": [],
   "source": [
    "def download_url(url, save_path, chunk_size=128):\n",
    "    r = requests.get(url, stream=True)\n",
    "    with open(save_path, 'wb') as fd:\n",
    "        for chunk in r.iter_content(chunk_size=chunk_size):\n",
    "            fd.write(chunk)"
   ]
  },
  {
   "cell_type": "markdown",
   "metadata": {
    "ExecuteTime": {
     "end_time": "2021-04-14T13:02:46.676618Z",
     "start_time": "2021-04-14T13:02:46.631505Z"
    },
    "heading_collapsed": true
   },
   "source": [
    "# Population"
   ]
  },
  {
   "cell_type": "code",
   "execution_count": 3,
   "metadata": {
    "ExecuteTime": {
     "end_time": "2021-04-16T10:59:36.185036Z",
     "start_time": "2021-04-16T10:59:36.168841Z"
    },
    "hidden": true
   },
   "outputs": [],
   "source": [
    "#url_pop = 'https://www.regions-et-departements.fr/fichiers/departements-francais.csv'\n",
    "#download_url(url_pop, 'pop.csv')\n",
    "#\n",
    "#live = pd.read_csv('pop.csv', sep='\\t')\n",
    "#live.drop(index=[101,102], inplace=True)\n",
    "#\n",
    "#live\n",
    "#\n",
    "#live.columns = ['dep_num', 'name', 'region', 'capital', 'area', 'total', 'density']\n",
    "#live['dep_num'] = live['dep_num'].replace({'2A':'201','2B':'202'}).astype(int)\n",
    "#\n",
    "#depts = pd.read_csv('../data/train/pop/fr/departements-francais.csv', sep=';')\n",
    "#depts.columns = ['dep_num', 'name', 'region', 'capital', 'area', 'total', 'density']\n",
    "#\n",
    "#\n",
    "#live == depts"
   ]
  },
  {
   "cell_type": "markdown",
   "metadata": {
    "heading_collapsed": true
   },
   "source": [
    "# Covid"
   ]
  },
  {
   "cell_type": "code",
   "execution_count": 4,
   "metadata": {
    "ExecuteTime": {
     "end_time": "2021-04-16T10:59:36.205694Z",
     "start_time": "2021-04-16T10:59:36.195334Z"
    },
    "hidden": true
   },
   "outputs": [],
   "source": [
    "#import requests\n",
    "#import pandas as pd\n",
    "#import datetime\n",
    "#departements = pd.read_csv(\"data/pop/fr/departements-francais.csv\", sep = \";\")\n",
    "#hospi = []\n",
    "#url = \"https://coronavirusapi-france.now.sh/AllLiveData\"\n",
    "#response = requests.get(url).json()\n",
    "#counter = 0\n",
    "#for numero in departements.NUMÉRO:\n",
    "#    nom = str(departements[departements[\"NUMÉRO\"]==numero][\"NOM\"].values[0])\n",
    "#    hospi.append((nom, numero, response[\"allLiveFranceData\"][counter][\"nouvellesHospitalisations\"]))\n",
    "#    counter+=1\n",
    "#\n",
    "#df = pd.DataFrame(hospi, columns =[\"depname\",\"depnum\",\"newhospi\"])\n",
    "#print(df)\n",
    "#df.to_csv(\"covid_daily_data.csv\", index = False)"
   ]
  },
  {
   "cell_type": "markdown",
   "metadata": {
    "heading_collapsed": true
   },
   "source": [
    "# CAMS"
   ]
  },
  {
   "cell_type": "code",
   "execution_count": 5,
   "metadata": {
    "ExecuteTime": {
     "end_time": "2021-04-16T10:59:36.222417Z",
     "start_time": "2021-04-16T10:59:36.213496Z"
    },
    "hidden": true
   },
   "outputs": [],
   "source": [
    "#to_do (Niclas ?)"
   ]
  },
  {
   "cell_type": "markdown",
   "metadata": {},
   "source": [
    "# Mobility"
   ]
  },
  {
   "cell_type": "code",
   "execution_count": 6,
   "metadata": {
    "ExecuteTime": {
     "end_time": "2021-04-16T11:00:12.226617Z",
     "start_time": "2021-04-16T10:59:36.227593Z"
    }
   },
   "outputs": [],
   "source": [
    "Configuration.create(hdx_site='prod', user_agent='A_Quick_Example', hdx_read_only=True)\n",
    "dataset = Dataset.read_from_hdx('movement-range-maps')\n",
    "resources = dataset.get_resources()\n",
    "dic = resources[1]\n",
    "url_mobility = dic['download_url']\n",
    "\n",
    "file_mobility = \"mvt_range.zip\"\n",
    "download_url(url_mobility, file_mobility)"
   ]
  },
  {
   "cell_type": "code",
   "execution_count": 7,
   "metadata": {
    "ExecuteTime": {
     "end_time": "2021-04-16T11:00:15.119585Z",
     "start_time": "2021-04-16T11:00:12.229615Z"
    }
   },
   "outputs": [
    {
     "name": "stdout",
     "output_type": "stream",
     "text": [
      "File Name                                             Modified             Size\n",
      "README.txt                                     2021-04-15 10:48:02          961\n",
      "movement-range-2021-04-14.txt                  2021-04-15 10:48:18    568169694\n",
      "Extracting mv_range file now...\n",
      "Done!\n"
     ]
    }
   ],
   "source": [
    "with ZipFile(file_mobility, 'r') as zip:\n",
    "    # printing all the contents of the zip file\n",
    "    zip.printdir()\n",
    "  \n",
    "    # extracting all the files\n",
    "    print('Extracting mv_range file now...')\n",
    "    mvt_range = zip.namelist()[-1]\n",
    "    zip.extract(mvt_range)\n",
    "    print('Done!')"
   ]
  },
  {
   "cell_type": "code",
   "execution_count": 8,
   "metadata": {
    "ExecuteTime": {
     "end_time": "2021-04-16T11:00:49.007706Z",
     "start_time": "2021-04-16T11:00:15.125280Z"
    }
   },
   "outputs": [],
   "source": [
    "with open(mvt_range) as f:\n",
    "    reader = csv.reader(f, delimiter=\"\\t\")\n",
    "    d = list(reader)"
   ]
  },
  {
   "cell_type": "code",
   "execution_count": 9,
   "metadata": {
    "ExecuteTime": {
     "end_time": "2021-04-16T11:01:01.504179Z",
     "start_time": "2021-04-16T11:00:49.018097Z"
    }
   },
   "outputs": [],
   "source": [
    "data_mob = pd.DataFrame(d[1:], columns=d[0])\n",
    "data_mob = data_mob[data_mob['country']=='FRA']"
   ]
  },
  {
   "cell_type": "code",
   "execution_count": 11,
   "metadata": {
    "ExecuteTime": {
     "end_time": "2021-04-16T11:01:01.653132Z",
     "start_time": "2021-04-16T11:01:01.558850Z"
    }
   },
   "outputs": [
    {
     "data": {
      "text/html": [
       "<div>\n",
       "<style scoped>\n",
       "    .dataframe tbody tr th:only-of-type {\n",
       "        vertical-align: middle;\n",
       "    }\n",
       "\n",
       "    .dataframe tbody tr th {\n",
       "        vertical-align: top;\n",
       "    }\n",
       "\n",
       "    .dataframe thead th {\n",
       "        text-align: right;\n",
       "    }\n",
       "</style>\n",
       "<table border=\"1\" class=\"dataframe\">\n",
       "  <thead>\n",
       "    <tr style=\"text-align: right;\">\n",
       "      <th></th>\n",
       "      <th>ds</th>\n",
       "      <th>polygon_name</th>\n",
       "      <th>all_day_bing_tiles_visited_relative_change</th>\n",
       "      <th>all_day_ratio_single_tile_users</th>\n",
       "    </tr>\n",
       "  </thead>\n",
       "  <tbody>\n",
       "    <tr>\n",
       "      <th>2396876</th>\n",
       "      <td>2021-04-14</td>\n",
       "      <td>Nouvelle-Aquitaine</td>\n",
       "      <td>-0.13703</td>\n",
       "      <td>0.20609</td>\n",
       "    </tr>\n",
       "    <tr>\n",
       "      <th>2397286</th>\n",
       "      <td>2021-04-14</td>\n",
       "      <td>Occitanie</td>\n",
       "      <td>-0.14055</td>\n",
       "      <td>0.20992</td>\n",
       "    </tr>\n",
       "    <tr>\n",
       "      <th>2397696</th>\n",
       "      <td>2021-04-14</td>\n",
       "      <td>Pays de la Loire</td>\n",
       "      <td>-0.14909</td>\n",
       "      <td>0.19821</td>\n",
       "    </tr>\n",
       "    <tr>\n",
       "      <th>2398106</th>\n",
       "      <td>2021-04-14</td>\n",
       "      <td>Provence-Alpes-Côte d'Azur</td>\n",
       "      <td>-0.16165</td>\n",
       "      <td>0.2216</td>\n",
       "    </tr>\n",
       "    <tr>\n",
       "      <th>2398516</th>\n",
       "      <td>2021-04-14</td>\n",
       "      <td>Auvergne-Rhône-Alpes</td>\n",
       "      <td>-0.11939</td>\n",
       "      <td>0.20583</td>\n",
       "    </tr>\n",
       "    <tr>\n",
       "      <th>2398926</th>\n",
       "      <td>2021-04-14</td>\n",
       "      <td>Bourgogne-Franche-Comté</td>\n",
       "      <td>-0.09288</td>\n",
       "      <td>0.21205</td>\n",
       "    </tr>\n",
       "    <tr>\n",
       "      <th>2399336</th>\n",
       "      <td>2021-04-14</td>\n",
       "      <td>Bretagne</td>\n",
       "      <td>-0.12397</td>\n",
       "      <td>0.19741</td>\n",
       "    </tr>\n",
       "    <tr>\n",
       "      <th>2399746</th>\n",
       "      <td>2021-04-14</td>\n",
       "      <td>Centre-Val de Loire</td>\n",
       "      <td>-0.111</td>\n",
       "      <td>0.21628</td>\n",
       "    </tr>\n",
       "    <tr>\n",
       "      <th>2400156</th>\n",
       "      <td>2021-04-14</td>\n",
       "      <td>Corse</td>\n",
       "      <td>-0.11303</td>\n",
       "      <td>0.19167</td>\n",
       "    </tr>\n",
       "    <tr>\n",
       "      <th>2400566</th>\n",
       "      <td>2021-04-14</td>\n",
       "      <td>Grand Est</td>\n",
       "      <td>-0.12887</td>\n",
       "      <td>0.2191</td>\n",
       "    </tr>\n",
       "    <tr>\n",
       "      <th>2400976</th>\n",
       "      <td>2021-04-14</td>\n",
       "      <td>Hauts-de-France</td>\n",
       "      <td>-0.1364</td>\n",
       "      <td>0.21761</td>\n",
       "    </tr>\n",
       "    <tr>\n",
       "      <th>2401386</th>\n",
       "      <td>2021-04-14</td>\n",
       "      <td>Île-de-France</td>\n",
       "      <td>-0.17126</td>\n",
       "      <td>0.21999</td>\n",
       "    </tr>\n",
       "    <tr>\n",
       "      <th>2401796</th>\n",
       "      <td>2021-04-14</td>\n",
       "      <td>Normandie</td>\n",
       "      <td>-0.13042</td>\n",
       "      <td>0.20686</td>\n",
       "    </tr>\n",
       "  </tbody>\n",
       "</table>\n",
       "</div>"
      ],
      "text/plain": [
       "                 ds                polygon_name  \\\n",
       "2396876  2021-04-14          Nouvelle-Aquitaine   \n",
       "2397286  2021-04-14                   Occitanie   \n",
       "2397696  2021-04-14            Pays de la Loire   \n",
       "2398106  2021-04-14  Provence-Alpes-Côte d'Azur   \n",
       "2398516  2021-04-14        Auvergne-Rhône-Alpes   \n",
       "2398926  2021-04-14     Bourgogne-Franche-Comté   \n",
       "2399336  2021-04-14                    Bretagne   \n",
       "2399746  2021-04-14         Centre-Val de Loire   \n",
       "2400156  2021-04-14                       Corse   \n",
       "2400566  2021-04-14                   Grand Est   \n",
       "2400976  2021-04-14             Hauts-de-France   \n",
       "2401386  2021-04-14               Île-de-France   \n",
       "2401796  2021-04-14                   Normandie   \n",
       "\n",
       "        all_day_bing_tiles_visited_relative_change  \\\n",
       "2396876                                   -0.13703   \n",
       "2397286                                   -0.14055   \n",
       "2397696                                   -0.14909   \n",
       "2398106                                   -0.16165   \n",
       "2398516                                   -0.11939   \n",
       "2398926                                   -0.09288   \n",
       "2399336                                   -0.12397   \n",
       "2399746                                     -0.111   \n",
       "2400156                                   -0.11303   \n",
       "2400566                                   -0.12887   \n",
       "2400976                                    -0.1364   \n",
       "2401386                                   -0.17126   \n",
       "2401796                                   -0.13042   \n",
       "\n",
       "        all_day_ratio_single_tile_users  \n",
       "2396876                         0.20609  \n",
       "2397286                         0.20992  \n",
       "2397696                         0.19821  \n",
       "2398106                          0.2216  \n",
       "2398516                         0.20583  \n",
       "2398926                         0.21205  \n",
       "2399336                         0.19741  \n",
       "2399746                         0.21628  \n",
       "2400156                         0.19167  \n",
       "2400566                          0.2191  \n",
       "2400976                         0.21761  \n",
       "2401386                         0.21999  \n",
       "2401796                         0.20686  "
      ]
     },
     "execution_count": 11,
     "metadata": {},
     "output_type": "execute_result"
    }
   ],
   "source": [
    "data_mob = data_mob[data_mob['ds']==list(data_mob.iloc[[-1]]['ds'])[0]][['ds', 'polygon_name', 'all_day_bing_tiles_visited_relative_change', 'all_day_ratio_single_tile_users']]"
   ]
  },
  {
   "cell_type": "code",
   "execution_count": 12,
   "metadata": {
    "ExecuteTime": {
     "end_time": "2021-04-16T11:01:01.766508Z",
     "start_time": "2021-04-16T11:01:01.677527Z"
    }
   },
   "outputs": [
    {
     "data": {
      "text/html": [
       "<div>\n",
       "<style scoped>\n",
       "    .dataframe tbody tr th:only-of-type {\n",
       "        vertical-align: middle;\n",
       "    }\n",
       "\n",
       "    .dataframe tbody tr th {\n",
       "        vertical-align: top;\n",
       "    }\n",
       "\n",
       "    .dataframe thead th {\n",
       "        text-align: right;\n",
       "    }\n",
       "</style>\n",
       "<table border=\"1\" class=\"dataframe\">\n",
       "  <thead>\n",
       "    <tr style=\"text-align: right;\">\n",
       "      <th></th>\n",
       "      <th>dep_num</th>\n",
       "      <th>name</th>\n",
       "      <th>region</th>\n",
       "      <th>capital</th>\n",
       "      <th>area</th>\n",
       "      <th>total</th>\n",
       "      <th>density</th>\n",
       "    </tr>\n",
       "  </thead>\n",
       "  <tbody>\n",
       "    <tr>\n",
       "      <th>0</th>\n",
       "      <td>1</td>\n",
       "      <td>Ain</td>\n",
       "      <td>Auvergne-Rhône-Alpes</td>\n",
       "      <td>Bourg-en-Bresse</td>\n",
       "      <td>5762</td>\n",
       "      <td>631877</td>\n",
       "      <td>109.7</td>\n",
       "    </tr>\n",
       "    <tr>\n",
       "      <th>1</th>\n",
       "      <td>2</td>\n",
       "      <td>Aisne</td>\n",
       "      <td>Hauts-de-France</td>\n",
       "      <td>Laon</td>\n",
       "      <td>7369</td>\n",
       "      <td>538659</td>\n",
       "      <td>73.1</td>\n",
       "    </tr>\n",
       "    <tr>\n",
       "      <th>2</th>\n",
       "      <td>3</td>\n",
       "      <td>Allier</td>\n",
       "      <td>Auvergne-Rhône-Alpes</td>\n",
       "      <td>Moulins</td>\n",
       "      <td>7340</td>\n",
       "      <td>341613</td>\n",
       "      <td>46.5</td>\n",
       "    </tr>\n",
       "    <tr>\n",
       "      <th>3</th>\n",
       "      <td>4</td>\n",
       "      <td>Alpes-de-Haute-Provence</td>\n",
       "      <td>Provence-Alpes-Côte d'Azur</td>\n",
       "      <td>Digne</td>\n",
       "      <td>6925</td>\n",
       "      <td>161799</td>\n",
       "      <td>23.4</td>\n",
       "    </tr>\n",
       "    <tr>\n",
       "      <th>4</th>\n",
       "      <td>5</td>\n",
       "      <td>Hautes-Alpes</td>\n",
       "      <td>Provence-Alpes-Côte d'Azur</td>\n",
       "      <td>Gap</td>\n",
       "      <td>5549</td>\n",
       "      <td>140916</td>\n",
       "      <td>25.4</td>\n",
       "    </tr>\n",
       "    <tr>\n",
       "      <th>...</th>\n",
       "      <td>...</td>\n",
       "      <td>...</td>\n",
       "      <td>...</td>\n",
       "      <td>...</td>\n",
       "      <td>...</td>\n",
       "      <td>...</td>\n",
       "      <td>...</td>\n",
       "    </tr>\n",
       "    <tr>\n",
       "      <th>93</th>\n",
       "      <td>93</td>\n",
       "      <td>Seine-Saint-Denis</td>\n",
       "      <td>Île-de-France</td>\n",
       "      <td>Bobigny</td>\n",
       "      <td>236</td>\n",
       "      <td>1592663</td>\n",
       "      <td>6742.9</td>\n",
       "    </tr>\n",
       "    <tr>\n",
       "      <th>94</th>\n",
       "      <td>94</td>\n",
       "      <td>Val-de-Marne</td>\n",
       "      <td>Île-de-France</td>\n",
       "      <td>Créteil</td>\n",
       "      <td>245</td>\n",
       "      <td>1372389</td>\n",
       "      <td>5601.6</td>\n",
       "    </tr>\n",
       "    <tr>\n",
       "      <th>95</th>\n",
       "      <td>95</td>\n",
       "      <td>Val-d'Oise</td>\n",
       "      <td>Île-de-France</td>\n",
       "      <td>Pontoise</td>\n",
       "      <td>1246</td>\n",
       "      <td>1215390</td>\n",
       "      <td>975.5</td>\n",
       "    </tr>\n",
       "    <tr>\n",
       "      <th>19</th>\n",
       "      <td>201</td>\n",
       "      <td>Corse-du-Sud</td>\n",
       "      <td>Corse</td>\n",
       "      <td>Ajaccio</td>\n",
       "      <td>4014</td>\n",
       "      <td>152730</td>\n",
       "      <td>38.0</td>\n",
       "    </tr>\n",
       "    <tr>\n",
       "      <th>20</th>\n",
       "      <td>202</td>\n",
       "      <td>Haute-Corse</td>\n",
       "      <td>Corse</td>\n",
       "      <td>Bastia</td>\n",
       "      <td>4666</td>\n",
       "      <td>174553</td>\n",
       "      <td>37.4</td>\n",
       "    </tr>\n",
       "  </tbody>\n",
       "</table>\n",
       "<p>96 rows × 7 columns</p>\n",
       "</div>"
      ],
      "text/plain": [
       "    dep_num                     name                      region  \\\n",
       "0         1                      Ain        Auvergne-Rhône-Alpes   \n",
       "1         2                    Aisne             Hauts-de-France   \n",
       "2         3                   Allier        Auvergne-Rhône-Alpes   \n",
       "3         4  Alpes-de-Haute-Provence  Provence-Alpes-Côte d'Azur   \n",
       "4         5             Hautes-Alpes  Provence-Alpes-Côte d'Azur   \n",
       "..      ...                      ...                         ...   \n",
       "93       93        Seine-Saint-Denis               Île-de-France   \n",
       "94       94             Val-de-Marne               Île-de-France   \n",
       "95       95               Val-d'Oise               Île-de-France   \n",
       "19      201             Corse-du-Sud                       Corse   \n",
       "20      202              Haute-Corse                       Corse   \n",
       "\n",
       "            capital  area    total  density  \n",
       "0   Bourg-en-Bresse  5762   631877    109.7  \n",
       "1              Laon  7369   538659     73.1  \n",
       "2           Moulins  7340   341613     46.5  \n",
       "3             Digne  6925   161799     23.4  \n",
       "4               Gap  5549   140916     25.4  \n",
       "..              ...   ...      ...      ...  \n",
       "93          Bobigny   236  1592663   6742.9  \n",
       "94          Créteil   245  1372389   5601.6  \n",
       "95         Pontoise  1246  1215390    975.5  \n",
       "19          Ajaccio  4014   152730     38.0  \n",
       "20           Bastia  4666   174553     37.4  \n",
       "\n",
       "[96 rows x 7 columns]"
      ]
     },
     "execution_count": 12,
     "metadata": {},
     "output_type": "execute_result"
    }
   ],
   "source": [
    "depts  = pd.read_csv('../data/train/pop/fr/departements-francais.csv', sep=';')\n",
    "depts.columns = ['dep_num', 'name', 'region', 'capital', 'area', 'total', 'density']\n",
    "depts = depts.sort_values('dep_num')\n",
    "depts = depts[:-5]\n",
    "depts['region'] = depts['region'].replace({'Ile-de-France':'Île-de-France'})\n",
    "depts"
   ]
  },
  {
   "cell_type": "code",
   "execution_count": 15,
   "metadata": {
    "ExecuteTime": {
     "end_time": "2021-04-16T11:01:01.882348Z",
     "start_time": "2021-04-16T11:01:01.857709Z"
    }
   },
   "outputs": [],
   "source": [
    "depts['stay_put'] = 0.0\n",
    "depts['go_out'] = 0.0"
   ]
  },
  {
   "cell_type": "code",
   "execution_count": 27,
   "metadata": {
    "ExecuteTime": {
     "end_time": "2021-04-16T11:07:16.556311Z",
     "start_time": "2021-04-16T11:07:16.545641Z"
    }
   },
   "outputs": [],
   "source": [
    "def add_go_out(row):\n",
    "    region = row['region']\n",
    "    go_out = data_mob[data_mob['polygon_name']==region]['all_day_bing_tiles_visited_relative_change']\n",
    "    return float(list(go_out)[0])\n",
    "     \n",
    "def add_stay_put(row):   \n",
    "    region = row['region']\n",
    "    stay_put = data_mob[data_mob['polygon_name']==region]['all_day_ratio_single_tile_users']\n",
    "    return float(list(stay_put)[0])"
   ]
  },
  {
   "cell_type": "code",
   "execution_count": 29,
   "metadata": {
    "ExecuteTime": {
     "end_time": "2021-04-16T11:08:00.200148Z",
     "start_time": "2021-04-16T11:07:59.991378Z"
    }
   },
   "outputs": [
    {
     "data": {
      "text/html": [
       "<div>\n",
       "<style scoped>\n",
       "    .dataframe tbody tr th:only-of-type {\n",
       "        vertical-align: middle;\n",
       "    }\n",
       "\n",
       "    .dataframe tbody tr th {\n",
       "        vertical-align: top;\n",
       "    }\n",
       "\n",
       "    .dataframe thead th {\n",
       "        text-align: right;\n",
       "    }\n",
       "</style>\n",
       "<table border=\"1\" class=\"dataframe\">\n",
       "  <thead>\n",
       "    <tr style=\"text-align: right;\">\n",
       "      <th></th>\n",
       "      <th>dep_num</th>\n",
       "      <th>name</th>\n",
       "      <th>region</th>\n",
       "      <th>capital</th>\n",
       "      <th>area</th>\n",
       "      <th>total</th>\n",
       "      <th>density</th>\n",
       "      <th>relative_change</th>\n",
       "      <th>ratio</th>\n",
       "      <th>go_out</th>\n",
       "      <th>stay_put</th>\n",
       "    </tr>\n",
       "  </thead>\n",
       "  <tbody>\n",
       "    <tr>\n",
       "      <th>0</th>\n",
       "      <td>1</td>\n",
       "      <td>Ain</td>\n",
       "      <td>Auvergne-Rhône-Alpes</td>\n",
       "      <td>Bourg-en-Bresse</td>\n",
       "      <td>5762</td>\n",
       "      <td>631877</td>\n",
       "      <td>109.7</td>\n",
       "      <td>-0.11939</td>\n",
       "      <td>0.0</td>\n",
       "      <td>-0.11939</td>\n",
       "      <td>0.20583</td>\n",
       "    </tr>\n",
       "    <tr>\n",
       "      <th>1</th>\n",
       "      <td>2</td>\n",
       "      <td>Aisne</td>\n",
       "      <td>Hauts-de-France</td>\n",
       "      <td>Laon</td>\n",
       "      <td>7369</td>\n",
       "      <td>538659</td>\n",
       "      <td>73.1</td>\n",
       "      <td>-0.13640</td>\n",
       "      <td>0.0</td>\n",
       "      <td>-0.13640</td>\n",
       "      <td>0.21761</td>\n",
       "    </tr>\n",
       "    <tr>\n",
       "      <th>2</th>\n",
       "      <td>3</td>\n",
       "      <td>Allier</td>\n",
       "      <td>Auvergne-Rhône-Alpes</td>\n",
       "      <td>Moulins</td>\n",
       "      <td>7340</td>\n",
       "      <td>341613</td>\n",
       "      <td>46.5</td>\n",
       "      <td>-0.11939</td>\n",
       "      <td>0.0</td>\n",
       "      <td>-0.11939</td>\n",
       "      <td>0.20583</td>\n",
       "    </tr>\n",
       "    <tr>\n",
       "      <th>3</th>\n",
       "      <td>4</td>\n",
       "      <td>Alpes-de-Haute-Provence</td>\n",
       "      <td>Provence-Alpes-Côte d'Azur</td>\n",
       "      <td>Digne</td>\n",
       "      <td>6925</td>\n",
       "      <td>161799</td>\n",
       "      <td>23.4</td>\n",
       "      <td>-0.16165</td>\n",
       "      <td>0.0</td>\n",
       "      <td>-0.16165</td>\n",
       "      <td>0.22160</td>\n",
       "    </tr>\n",
       "    <tr>\n",
       "      <th>4</th>\n",
       "      <td>5</td>\n",
       "      <td>Hautes-Alpes</td>\n",
       "      <td>Provence-Alpes-Côte d'Azur</td>\n",
       "      <td>Gap</td>\n",
       "      <td>5549</td>\n",
       "      <td>140916</td>\n",
       "      <td>25.4</td>\n",
       "      <td>-0.16165</td>\n",
       "      <td>0.0</td>\n",
       "      <td>-0.16165</td>\n",
       "      <td>0.22160</td>\n",
       "    </tr>\n",
       "    <tr>\n",
       "      <th>...</th>\n",
       "      <td>...</td>\n",
       "      <td>...</td>\n",
       "      <td>...</td>\n",
       "      <td>...</td>\n",
       "      <td>...</td>\n",
       "      <td>...</td>\n",
       "      <td>...</td>\n",
       "      <td>...</td>\n",
       "      <td>...</td>\n",
       "      <td>...</td>\n",
       "      <td>...</td>\n",
       "    </tr>\n",
       "    <tr>\n",
       "      <th>93</th>\n",
       "      <td>93</td>\n",
       "      <td>Seine-Saint-Denis</td>\n",
       "      <td>Île-de-France</td>\n",
       "      <td>Bobigny</td>\n",
       "      <td>236</td>\n",
       "      <td>1592663</td>\n",
       "      <td>6742.9</td>\n",
       "      <td>-0.17126</td>\n",
       "      <td>0.0</td>\n",
       "      <td>-0.17126</td>\n",
       "      <td>0.21999</td>\n",
       "    </tr>\n",
       "    <tr>\n",
       "      <th>94</th>\n",
       "      <td>94</td>\n",
       "      <td>Val-de-Marne</td>\n",
       "      <td>Île-de-France</td>\n",
       "      <td>Créteil</td>\n",
       "      <td>245</td>\n",
       "      <td>1372389</td>\n",
       "      <td>5601.6</td>\n",
       "      <td>-0.17126</td>\n",
       "      <td>0.0</td>\n",
       "      <td>-0.17126</td>\n",
       "      <td>0.21999</td>\n",
       "    </tr>\n",
       "    <tr>\n",
       "      <th>95</th>\n",
       "      <td>95</td>\n",
       "      <td>Val-d'Oise</td>\n",
       "      <td>Île-de-France</td>\n",
       "      <td>Pontoise</td>\n",
       "      <td>1246</td>\n",
       "      <td>1215390</td>\n",
       "      <td>975.5</td>\n",
       "      <td>-0.17126</td>\n",
       "      <td>0.0</td>\n",
       "      <td>-0.17126</td>\n",
       "      <td>0.21999</td>\n",
       "    </tr>\n",
       "    <tr>\n",
       "      <th>19</th>\n",
       "      <td>201</td>\n",
       "      <td>Corse-du-Sud</td>\n",
       "      <td>Corse</td>\n",
       "      <td>Ajaccio</td>\n",
       "      <td>4014</td>\n",
       "      <td>152730</td>\n",
       "      <td>38.0</td>\n",
       "      <td>-0.11303</td>\n",
       "      <td>0.0</td>\n",
       "      <td>-0.11303</td>\n",
       "      <td>0.19167</td>\n",
       "    </tr>\n",
       "    <tr>\n",
       "      <th>20</th>\n",
       "      <td>202</td>\n",
       "      <td>Haute-Corse</td>\n",
       "      <td>Corse</td>\n",
       "      <td>Bastia</td>\n",
       "      <td>4666</td>\n",
       "      <td>174553</td>\n",
       "      <td>37.4</td>\n",
       "      <td>-0.11303</td>\n",
       "      <td>0.0</td>\n",
       "      <td>-0.11303</td>\n",
       "      <td>0.19167</td>\n",
       "    </tr>\n",
       "  </tbody>\n",
       "</table>\n",
       "<p>96 rows × 11 columns</p>\n",
       "</div>"
      ],
      "text/plain": [
       "    dep_num                     name                      region  \\\n",
       "0         1                      Ain        Auvergne-Rhône-Alpes   \n",
       "1         2                    Aisne             Hauts-de-France   \n",
       "2         3                   Allier        Auvergne-Rhône-Alpes   \n",
       "3         4  Alpes-de-Haute-Provence  Provence-Alpes-Côte d'Azur   \n",
       "4         5             Hautes-Alpes  Provence-Alpes-Côte d'Azur   \n",
       "..      ...                      ...                         ...   \n",
       "93       93        Seine-Saint-Denis               Île-de-France   \n",
       "94       94             Val-de-Marne               Île-de-France   \n",
       "95       95               Val-d'Oise               Île-de-France   \n",
       "19      201             Corse-du-Sud                       Corse   \n",
       "20      202              Haute-Corse                       Corse   \n",
       "\n",
       "            capital  area    total  density  relative_change  ratio   go_out  \\\n",
       "0   Bourg-en-Bresse  5762   631877    109.7         -0.11939    0.0 -0.11939   \n",
       "1              Laon  7369   538659     73.1         -0.13640    0.0 -0.13640   \n",
       "2           Moulins  7340   341613     46.5         -0.11939    0.0 -0.11939   \n",
       "3             Digne  6925   161799     23.4         -0.16165    0.0 -0.16165   \n",
       "4               Gap  5549   140916     25.4         -0.16165    0.0 -0.16165   \n",
       "..              ...   ...      ...      ...              ...    ...      ...   \n",
       "93          Bobigny   236  1592663   6742.9         -0.17126    0.0 -0.17126   \n",
       "94          Créteil   245  1372389   5601.6         -0.17126    0.0 -0.17126   \n",
       "95         Pontoise  1246  1215390    975.5         -0.17126    0.0 -0.17126   \n",
       "19          Ajaccio  4014   152730     38.0         -0.11303    0.0 -0.11303   \n",
       "20           Bastia  4666   174553     37.4         -0.11303    0.0 -0.11303   \n",
       "\n",
       "    stay_put  \n",
       "0    0.20583  \n",
       "1    0.21761  \n",
       "2    0.20583  \n",
       "3    0.22160  \n",
       "4    0.22160  \n",
       "..       ...  \n",
       "93   0.21999  \n",
       "94   0.21999  \n",
       "95   0.21999  \n",
       "19   0.19167  \n",
       "20   0.19167  \n",
       "\n",
       "[96 rows x 11 columns]"
      ]
     },
     "execution_count": 29,
     "metadata": {},
     "output_type": "execute_result"
    }
   ],
   "source": [
    "depts['go_out'] = depts.apply(add_go_out, axis=1)\n",
    "depts['stay_put'] = depts.apply(add_stay_put, axis=1)\n",
    "depts"
   ]
  },
  {
   "cell_type": "code",
   "execution_count": null,
   "metadata": {
    "ExecuteTime": {
     "end_time": "2021-04-16T10:23:45.510174Z",
     "start_time": "2021-04-16T10:23:45.460713Z"
    }
   },
   "outputs": [],
   "source": [
    "def add_stay_put(row)"
   ]
  },
  {
   "cell_type": "markdown",
   "metadata": {},
   "source": [
    "# Positive test"
   ]
  },
  {
   "cell_type": "code",
   "execution_count": null,
   "metadata": {},
   "outputs": [],
   "source": []
  },
  {
   "cell_type": "code",
   "execution_count": null,
   "metadata": {},
   "outputs": [],
   "source": []
  },
  {
   "cell_type": "code",
   "execution_count": null,
   "metadata": {},
   "outputs": [],
   "source": []
  },
  {
   "cell_type": "code",
   "execution_count": null,
   "metadata": {},
   "outputs": [],
   "source": []
  }
 ],
 "metadata": {
  "kernelspec": {
   "display_name": "Python 3",
   "language": "python",
   "name": "python3"
  },
  "language_info": {
   "codemirror_mode": {
    "name": "ipython",
    "version": 3
   },
   "file_extension": ".py",
   "mimetype": "text/x-python",
   "name": "python",
   "nbconvert_exporter": "python",
   "pygments_lexer": "ipython3",
   "version": "3.8.5"
  },
  "toc": {
   "base_numbering": 1,
   "nav_menu": {},
   "number_sections": true,
   "sideBar": true,
   "skip_h1_title": false,
   "title_cell": "Table of Contents",
   "title_sidebar": "Contents",
   "toc_cell": false,
   "toc_position": {},
   "toc_section_display": true,
   "toc_window_display": false
  },
  "varInspector": {
   "cols": {
    "lenName": 16,
    "lenType": 16,
    "lenVar": 40
   },
   "kernels_config": {
    "python": {
     "delete_cmd_postfix": "",
     "delete_cmd_prefix": "del ",
     "library": "var_list.py",
     "varRefreshCmd": "print(var_dic_list())"
    },
    "r": {
     "delete_cmd_postfix": ") ",
     "delete_cmd_prefix": "rm(",
     "library": "var_list.r",
     "varRefreshCmd": "cat(var_dic_list()) "
    }
   },
   "types_to_exclude": [
    "module",
    "function",
    "builtin_function_or_method",
    "instance",
    "_Feature"
   ],
   "window_display": false
  }
 },
 "nbformat": 4,
 "nbformat_minor": 4
}
