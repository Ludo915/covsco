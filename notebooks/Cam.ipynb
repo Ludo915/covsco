{
 "cells": [
  {
   "cell_type": "code",
   "execution_count": 1,
   "metadata": {
    "ExecuteTime": {
     "end_time": "2021-04-20T14:28:05.459541Z",
     "start_time": "2021-04-20T14:28:03.307569Z"
    }
   },
   "outputs": [],
   "source": [
    "from hdx.hdx_configuration import Configuration \n",
    "from hdx.data.dataset import Dataset\n",
    "import requests\n",
    "import pandas as pd\n",
    "import numpy as np\n",
    "import csv\n",
    "from zipfile import ZipFile\n",
    "import os"
   ]
  },
  {
   "cell_type": "code",
   "execution_count": 2,
   "metadata": {
    "ExecuteTime": {
     "end_time": "2021-04-20T14:28:05.645430Z",
     "start_time": "2021-04-20T14:28:05.603737Z"
    }
   },
   "outputs": [],
   "source": [
    "def download_url(url, save_path, chunk_size=128):\n",
    "    r = requests.get(url, stream=True)\n",
    "    with open(save_path, 'wb') as fd:\n",
    "        for chunk in r.iter_content(chunk_size=chunk_size):\n",
    "            fd.write(chunk)"
   ]
  },
  {
   "cell_type": "markdown",
   "metadata": {
    "ExecuteTime": {
     "end_time": "2021-04-14T13:02:46.676618Z",
     "start_time": "2021-04-14T13:02:46.631505Z"
    }
   },
   "source": [
    "# Population"
   ]
  },
  {
   "cell_type": "code",
   "execution_count": 3,
   "metadata": {
    "ExecuteTime": {
     "end_time": "2021-04-20T14:28:05.895248Z",
     "start_time": "2021-04-20T14:28:05.816828Z"
    }
   },
   "outputs": [
    {
     "data": {
      "text/html": [
       "<div>\n",
       "<style scoped>\n",
       "    .dataframe tbody tr th:only-of-type {\n",
       "        vertical-align: middle;\n",
       "    }\n",
       "\n",
       "    .dataframe tbody tr th {\n",
       "        vertical-align: top;\n",
       "    }\n",
       "\n",
       "    .dataframe thead th {\n",
       "        text-align: right;\n",
       "    }\n",
       "</style>\n",
       "<table border=\"1\" class=\"dataframe\">\n",
       "  <thead>\n",
       "    <tr style=\"text-align: right;\">\n",
       "      <th></th>\n",
       "      <th>dep_num</th>\n",
       "      <th>name</th>\n",
       "      <th>region</th>\n",
       "      <th>capital</th>\n",
       "      <th>area</th>\n",
       "      <th>total</th>\n",
       "      <th>density</th>\n",
       "    </tr>\n",
       "  </thead>\n",
       "  <tbody>\n",
       "    <tr>\n",
       "      <th>0</th>\n",
       "      <td>1</td>\n",
       "      <td>Ain</td>\n",
       "      <td>Auvergne-Rhône-Alpes</td>\n",
       "      <td>Bourg-en-Bresse</td>\n",
       "      <td>5762</td>\n",
       "      <td>631877</td>\n",
       "      <td>109.7</td>\n",
       "    </tr>\n",
       "    <tr>\n",
       "      <th>1</th>\n",
       "      <td>2</td>\n",
       "      <td>Aisne</td>\n",
       "      <td>Hauts-de-France</td>\n",
       "      <td>Laon</td>\n",
       "      <td>7369</td>\n",
       "      <td>538659</td>\n",
       "      <td>73.1</td>\n",
       "    </tr>\n",
       "    <tr>\n",
       "      <th>2</th>\n",
       "      <td>3</td>\n",
       "      <td>Allier</td>\n",
       "      <td>Auvergne-Rhône-Alpes</td>\n",
       "      <td>Moulins</td>\n",
       "      <td>7340</td>\n",
       "      <td>341613</td>\n",
       "      <td>46.5</td>\n",
       "    </tr>\n",
       "    <tr>\n",
       "      <th>3</th>\n",
       "      <td>4</td>\n",
       "      <td>Alpes-de-Haute-Provence</td>\n",
       "      <td>Provence-Alpes-Côte d'Azur</td>\n",
       "      <td>Digne</td>\n",
       "      <td>6925</td>\n",
       "      <td>161799</td>\n",
       "      <td>23.4</td>\n",
       "    </tr>\n",
       "    <tr>\n",
       "      <th>4</th>\n",
       "      <td>5</td>\n",
       "      <td>Hautes-Alpes</td>\n",
       "      <td>Provence-Alpes-Côte d'Azur</td>\n",
       "      <td>Gap</td>\n",
       "      <td>5549</td>\n",
       "      <td>140916</td>\n",
       "      <td>25.4</td>\n",
       "    </tr>\n",
       "    <tr>\n",
       "      <th>...</th>\n",
       "      <td>...</td>\n",
       "      <td>...</td>\n",
       "      <td>...</td>\n",
       "      <td>...</td>\n",
       "      <td>...</td>\n",
       "      <td>...</td>\n",
       "      <td>...</td>\n",
       "    </tr>\n",
       "    <tr>\n",
       "      <th>93</th>\n",
       "      <td>93</td>\n",
       "      <td>Seine-Saint-Denis</td>\n",
       "      <td>Île-de-France</td>\n",
       "      <td>Bobigny</td>\n",
       "      <td>236</td>\n",
       "      <td>1592663</td>\n",
       "      <td>6742.9</td>\n",
       "    </tr>\n",
       "    <tr>\n",
       "      <th>94</th>\n",
       "      <td>94</td>\n",
       "      <td>Val-de-Marne</td>\n",
       "      <td>Île-de-France</td>\n",
       "      <td>Créteil</td>\n",
       "      <td>245</td>\n",
       "      <td>1372389</td>\n",
       "      <td>5601.6</td>\n",
       "    </tr>\n",
       "    <tr>\n",
       "      <th>95</th>\n",
       "      <td>95</td>\n",
       "      <td>Val-d'Oise</td>\n",
       "      <td>Île-de-France</td>\n",
       "      <td>Pontoise</td>\n",
       "      <td>1246</td>\n",
       "      <td>1215390</td>\n",
       "      <td>975.5</td>\n",
       "    </tr>\n",
       "    <tr>\n",
       "      <th>19</th>\n",
       "      <td>201</td>\n",
       "      <td>Corse-du-Sud</td>\n",
       "      <td>Corse</td>\n",
       "      <td>Ajaccio</td>\n",
       "      <td>4014</td>\n",
       "      <td>152730</td>\n",
       "      <td>38.0</td>\n",
       "    </tr>\n",
       "    <tr>\n",
       "      <th>20</th>\n",
       "      <td>202</td>\n",
       "      <td>Haute-Corse</td>\n",
       "      <td>Corse</td>\n",
       "      <td>Bastia</td>\n",
       "      <td>4666</td>\n",
       "      <td>174553</td>\n",
       "      <td>37.4</td>\n",
       "    </tr>\n",
       "  </tbody>\n",
       "</table>\n",
       "<p>96 rows × 7 columns</p>\n",
       "</div>"
      ],
      "text/plain": [
       "    dep_num                     name                      region  \\\n",
       "0         1                      Ain        Auvergne-Rhône-Alpes   \n",
       "1         2                    Aisne             Hauts-de-France   \n",
       "2         3                   Allier        Auvergne-Rhône-Alpes   \n",
       "3         4  Alpes-de-Haute-Provence  Provence-Alpes-Côte d'Azur   \n",
       "4         5             Hautes-Alpes  Provence-Alpes-Côte d'Azur   \n",
       "..      ...                      ...                         ...   \n",
       "93       93        Seine-Saint-Denis               Île-de-France   \n",
       "94       94             Val-de-Marne               Île-de-France   \n",
       "95       95               Val-d'Oise               Île-de-France   \n",
       "19      201             Corse-du-Sud                       Corse   \n",
       "20      202              Haute-Corse                       Corse   \n",
       "\n",
       "            capital  area    total  density  \n",
       "0   Bourg-en-Bresse  5762   631877    109.7  \n",
       "1              Laon  7369   538659     73.1  \n",
       "2           Moulins  7340   341613     46.5  \n",
       "3             Digne  6925   161799     23.4  \n",
       "4               Gap  5549   140916     25.4  \n",
       "..              ...   ...      ...      ...  \n",
       "93          Bobigny   236  1592663   6742.9  \n",
       "94          Créteil   245  1372389   5601.6  \n",
       "95         Pontoise  1246  1215390    975.5  \n",
       "19          Ajaccio  4014   152730     38.0  \n",
       "20           Bastia  4666   174553     37.4  \n",
       "\n",
       "[96 rows x 7 columns]"
      ]
     },
     "execution_count": 3,
     "metadata": {},
     "output_type": "execute_result"
    }
   ],
   "source": [
    "prediction_data  = pd.read_csv('../data/train/pop/fr/departements-francais.csv', sep=';')\n",
    "prediction_data.columns = ['dep_num', 'name', 'region', 'capital', 'area', 'total', 'density']\n",
    "prediction_data = prediction_data.sort_values('dep_num')\n",
    "prediction_data = prediction_data[:-5]\n",
    "prediction_data['region'] = prediction_data['region'].replace({'Ile-de-France':'Île-de-France'})\n",
    "prediction_data"
   ]
  },
  {
   "cell_type": "markdown",
   "metadata": {
    "heading_collapsed": true
   },
   "source": [
    "# Covid"
   ]
  },
  {
   "cell_type": "code",
   "execution_count": null,
   "metadata": {
    "ExecuteTime": {
     "end_time": "2021-04-19T17:31:21.125653Z",
     "start_time": "2021-04-19T17:31:21.112062Z"
    },
    "hidden": true
   },
   "outputs": [],
   "source": [
    "#import requests\n",
    "#import pandas as pd\n",
    "#import datetime\n",
    "#departements = pd.read_csv(\"data/pop/fr/departements-francais.csv\", sep = \";\")\n",
    "#hospi = []\n",
    "#url = \"https://coronavirusapi-france.now.sh/AllLiveData\"\n",
    "#response = requests.get(url).json()\n",
    "#counter = 0\n",
    "#for numero in departements.NUMÉRO:\n",
    "#    nom = str(departements[departements[\"NUMÉRO\"]==numero][\"NOM\"].values[0])\n",
    "#    hospi.append((nom, numero, response[\"allLiveFranceData\"][counter][\"nouvellesHospitalisations\"]))\n",
    "#    counter+=1\n",
    "#\n",
    "#df = pd.DataFrame(hospi, columns =[\"depname\",\"depnum\",\"newhospi\"])\n",
    "#print(df)\n",
    "#df.to_csv(\"covid_daily_data.csv\", index = False)"
   ]
  },
  {
   "cell_type": "markdown",
   "metadata": {
    "heading_collapsed": true
   },
   "source": [
    "# CAMS"
   ]
  },
  {
   "cell_type": "code",
   "execution_count": null,
   "metadata": {
    "ExecuteTime": {
     "end_time": "2021-04-19T17:31:21.145387Z",
     "start_time": "2021-04-19T17:31:21.135339Z"
    },
    "hidden": true
   },
   "outputs": [],
   "source": [
    "#to_do (Niclas ?)"
   ]
  },
  {
   "cell_type": "markdown",
   "metadata": {
    "heading_collapsed": true
   },
   "source": [
    "# Mobility"
   ]
  },
  {
   "cell_type": "code",
   "execution_count": null,
   "metadata": {
    "ExecuteTime": {
     "end_time": "2021-04-19T17:31:22.224545Z",
     "start_time": "2021-04-19T17:31:21.150840Z"
    },
    "hidden": true
   },
   "outputs": [],
   "source": [
    "Configuration.create(hdx_site='prod', user_agent='A_Quick_Example', hdx_read_only=True)\n",
    "dataset = Dataset.read_from_hdx('movement-range-maps')\n",
    "resources = dataset.get_resources()\n",
    "dic = resources[1]\n",
    "url_mobility = dic['download_url']\n",
    "\n",
    "file_mobility = \"../data/prediction/mvt_range.zip\"\n",
    "download_url(url_mobility, file_mobility)"
   ]
  },
  {
   "cell_type": "code",
   "execution_count": null,
   "metadata": {
    "ExecuteTime": {
     "end_time": "2021-04-19T17:31:22.264288Z",
     "start_time": "2021-04-19T17:31:17.501Z"
    },
    "hidden": true
   },
   "outputs": [],
   "source": [
    "with ZipFile(file_mobility, 'r') as zip:\n",
    "    # printing all the contents of the zip file\n",
    "    zip.printdir()\n",
    "  \n",
    "    # extracting all the files\n",
    "    print('Extracting mv_range file now...')\n",
    "    mvt_range = zip.namelist()[-1]\n",
    "    zip.extract(mvt_range)\n",
    "    print('Done!')"
   ]
  },
  {
   "cell_type": "code",
   "execution_count": null,
   "metadata": {
    "ExecuteTime": {
     "end_time": "2021-04-19T17:31:22.276611Z",
     "start_time": "2021-04-19T17:31:17.504Z"
    },
    "hidden": true
   },
   "outputs": [],
   "source": [
    "with open(mvt_range) as f:\n",
    "    reader = csv.reader(f, delimiter=\"\\t\")\n",
    "    d = list(reader)"
   ]
  },
  {
   "cell_type": "code",
   "execution_count": null,
   "metadata": {
    "ExecuteTime": {
     "end_time": "2021-04-19T17:31:22.280396Z",
     "start_time": "2021-04-19T17:31:17.510Z"
    },
    "hidden": true
   },
   "outputs": [],
   "source": [
    "data_mob = pd.DataFrame(d[1:], columns=d[0])\n",
    "data_mob = data_mob[data_mob['country']=='FRA']"
   ]
  },
  {
   "cell_type": "code",
   "execution_count": null,
   "metadata": {
    "ExecuteTime": {
     "end_time": "2021-04-19T17:31:22.299212Z",
     "start_time": "2021-04-19T17:31:17.514Z"
    },
    "hidden": true
   },
   "outputs": [],
   "source": [
    "data_mob = data_mob[data_mob['ds']==list(data_mob.iloc[[-1]]['ds'])[0]][['ds', 'polygon_name', 'all_day_bing_tiles_visited_relative_change', 'all_day_ratio_single_tile_users']]"
   ]
  },
  {
   "cell_type": "code",
   "execution_count": null,
   "metadata": {
    "ExecuteTime": {
     "end_time": "2021-04-16T11:01:01.766508Z",
     "start_time": "2021-04-16T11:01:01.677527Z"
    },
    "hidden": true
   },
   "outputs": [],
   "source": []
  },
  {
   "cell_type": "code",
   "execution_count": null,
   "metadata": {
    "ExecuteTime": {
     "end_time": "2021-04-19T17:31:22.309435Z",
     "start_time": "2021-04-19T17:31:17.519Z"
    },
    "hidden": true
   },
   "outputs": [],
   "source": [
    "prediction_data['stay_put'] = 0.0\n",
    "prediction_data['go_out'] = 0.0"
   ]
  },
  {
   "cell_type": "code",
   "execution_count": null,
   "metadata": {
    "ExecuteTime": {
     "end_time": "2021-04-19T17:31:22.328194Z",
     "start_time": "2021-04-19T17:31:17.523Z"
    },
    "hidden": true
   },
   "outputs": [],
   "source": [
    "def add_go_out(row):\n",
    "    region = row['region']\n",
    "    go_out = data_mob[data_mob['polygon_name']==region]['all_day_bing_tiles_visited_relative_change']\n",
    "    return float(list(go_out)[0])\n",
    "     \n",
    "def add_stay_put(row):   \n",
    "    region = row['region']\n",
    "    stay_put = data_mob[data_mob['polygon_name']==region]['all_day_ratio_single_tile_users']\n",
    "    return float(list(stay_put)[0])"
   ]
  },
  {
   "cell_type": "code",
   "execution_count": null,
   "metadata": {
    "ExecuteTime": {
     "end_time": "2021-04-19T17:31:22.334108Z",
     "start_time": "2021-04-19T17:31:17.527Z"
    },
    "hidden": true
   },
   "outputs": [],
   "source": [
    "prediction_data['go_out'] = prediction_data.apply(add_go_out, axis=1)\n",
    "prediction_data['stay_put'] = prediction_data.apply(add_stay_put, axis=1)\n",
    "prediction_data"
   ]
  },
  {
   "cell_type": "markdown",
   "metadata": {
    "heading_collapsed": true
   },
   "source": [
    "# Vaccins"
   ]
  },
  {
   "cell_type": "code",
   "execution_count": null,
   "metadata": {
    "ExecuteTime": {
     "end_time": "2021-04-19T17:31:22.341230Z",
     "start_time": "2021-04-19T17:31:17.531Z"
    },
    "hidden": true
   },
   "outputs": [],
   "source": [
    "url_positive_test = 'https://www.data.gouv.fr/es/datasets/r/59aeab47-c364-462c-9087-ce233b6acbbc'\n",
    "download_url(url_positive_test, '../data/prediction/live_vaccins.csv')"
   ]
  },
  {
   "cell_type": "code",
   "execution_count": null,
   "metadata": {
    "ExecuteTime": {
     "end_time": "2021-04-19T17:31:22.352183Z",
     "start_time": "2021-04-19T17:31:17.535Z"
    },
    "hidden": true
   },
   "outputs": [],
   "source": [
    "live_vacc = pd.read_csv('../data/prediction/live_vaccins.csv')\n",
    "live_vacc['date_debut_semaine'] = pd.to_datetime(live_vacc['date_debut_semaine'])\n",
    "date_max = live_vacc['date_debut_semaine'].max()"
   ]
  },
  {
   "cell_type": "code",
   "execution_count": null,
   "metadata": {
    "ExecuteTime": {
     "end_time": "2021-04-19T17:31:22.371254Z",
     "start_time": "2021-04-19T17:31:17.538Z"
    },
    "hidden": true
   },
   "outputs": [],
   "source": [
    "vacc_1 = live_vacc[live_vacc['rang_vaccinal']==1]\n",
    "vacc_2 = live_vacc[live_vacc['rang_vaccinal']==2]"
   ]
  },
  {
   "cell_type": "code",
   "execution_count": null,
   "metadata": {
    "ExecuteTime": {
     "end_time": "2021-04-19T17:31:22.382080Z",
     "start_time": "2021-04-19T17:31:17.542Z"
    },
    "hidden": true
   },
   "outputs": [],
   "source": [
    "def live_vacc_1(row):\n",
    "    dep = row['dep_num']\n",
    "    vacc_1_reg = vacc_1[vacc_1['code_region']==dep]\n",
    "    if vacc_1_reg.shape[0]!=0:\n",
    "        nb_series = vacc_1_reg[vacc_1_reg['date_debut_semaine']==date_max]['nb']\n",
    "        nb = list(nb_series)[0]\n",
    "    else : \n",
    "        nb=0\n",
    "    return nb\n",
    "\n",
    "def live_vacc_2(row):\n",
    "    dep = row['dep_num']\n",
    "    vacc_2_reg = vacc_2[vacc_2['code_region']==dep]\n",
    "    if vacc_2_reg.shape[0]!=0:\n",
    "        nb_series = vacc_2_reg[vacc_2_reg['date_debut_semaine']==date_max]['nb']\n",
    "        nb = list(nb_series)[0]\n",
    "    else : \n",
    "        nb=0\n",
    "    return nb"
   ]
  },
  {
   "cell_type": "code",
   "execution_count": null,
   "metadata": {
    "ExecuteTime": {
     "end_time": "2021-04-19T17:31:22.401539Z",
     "start_time": "2021-04-19T17:31:17.546Z"
    },
    "hidden": true
   },
   "outputs": [],
   "source": [
    "prediction_data['vacc_1'] = prediction_data.apply(live_vacc_1, axis=1)\n",
    "prediction_data['vacc_2'] = prediction_data.apply(live_vacc_2, axis=1)\n",
    "prediction_data"
   ]
  },
  {
   "cell_type": "markdown",
   "metadata": {
    "heading_collapsed": true
   },
   "source": [
    "# Positive tests"
   ]
  },
  {
   "cell_type": "code",
   "execution_count": null,
   "metadata": {
    "ExecuteTime": {
     "end_time": "2021-04-19T17:31:38.947014Z",
     "start_time": "2021-04-19T17:31:37.009952Z"
    },
    "hidden": true
   },
   "outputs": [],
   "source": [
    "url_positive = 'https://www.data.gouv.fr/en/datasets/r/406c6a23-e283-4300-9484-54e78c8ae675'\n",
    "\n",
    "with requests.Session() as s:\n",
    "    download = s.get(url_positive)\n",
    "\n",
    "    decoded_content = download.content.decode('utf-8')\n",
    "\n",
    "    cr = csv.reader(decoded_content.splitlines(), delimiter=';')\n",
    "    my_list = list(cr)"
   ]
  },
  {
   "cell_type": "code",
   "execution_count": null,
   "metadata": {
    "ExecuteTime": {
     "end_time": "2021-04-19T17:31:45.593978Z",
     "start_time": "2021-04-19T17:31:45.198970Z"
    },
    "hidden": true
   },
   "outputs": [],
   "source": [
    "live_positive = pd.DataFrame(my_list[1:],columns=my_list[0])\n",
    "\n",
    "live_positive"
   ]
  },
  {
   "cell_type": "code",
   "execution_count": null,
   "metadata": {
    "ExecuteTime": {
     "end_time": "2021-04-19T17:23:46.777303Z",
     "start_time": "2021-04-19T17:23:46.689863Z"
    },
    "hidden": true
   },
   "outputs": [],
   "source": [
    "live_positive['dep'].unique()"
   ]
  },
  {
   "cell_type": "code",
   "execution_count": null,
   "metadata": {
    "ExecuteTime": {
     "end_time": "2021-04-19T17:50:04.627140Z",
     "start_time": "2021-04-19T17:50:04.618535Z"
    },
    "hidden": true
   },
   "outputs": [],
   "source": [
    "def replace_dep(row):\n",
    "    if type(row['dep']) != int:\n",
    "        row['dep'] = int(row['dep'].replace('2A','201').replace('2B','202'))\n",
    "    return None"
   ]
  },
  {
   "cell_type": "code",
   "execution_count": null,
   "metadata": {
    "ExecuteTime": {
     "end_time": "2021-04-19T17:49:57.600280Z",
     "start_time": "2021-04-19T17:49:57.541084Z"
    },
    "hidden": true
   },
   "outputs": [],
   "source": [
    "live_positive.apply(replace_dep, axis=1)"
   ]
  },
  {
   "cell_type": "code",
   "execution_count": null,
   "metadata": {
    "ExecuteTime": {
     "end_time": "2021-04-19T17:51:20.380004Z",
     "start_time": "2021-04-19T17:51:20.323469Z"
    },
    "hidden": true
   },
   "outputs": [],
   "source": [
    "def P_to_int(row):\n",
    "    return int(row['P'])\n",
    "live_positive['P']= live_positive.apply(P_to_int, axis=1)"
   ]
  },
  {
   "cell_type": "code",
   "execution_count": null,
   "metadata": {
    "ExecuteTime": {
     "end_time": "2021-04-19T17:51:27.372138Z",
     "start_time": "2021-04-19T17:51:27.345720Z"
    },
    "hidden": true
   },
   "outputs": [],
   "source": [
    "live_positive= live_positive[live_positive[\"dep\"]<203]\n",
    "live_positive[\"jour\"]=pd.to_datetime(live_positive[\"jour\"], dayfirst = True)"
   ]
  },
  {
   "cell_type": "code",
   "execution_count": null,
   "metadata": {
    "ExecuteTime": {
     "end_time": "2021-04-19T17:51:32.314238Z",
     "start_time": "2021-04-19T17:51:32.305144Z"
    },
    "hidden": true
   },
   "outputs": [],
   "source": [
    "live_positive = live_positive[live_positive['jour']==live_positive['jour'].max()]"
   ]
  },
  {
   "cell_type": "code",
   "execution_count": null,
   "metadata": {
    "ExecuteTime": {
     "end_time": "2021-04-19T17:51:36.850214Z",
     "start_time": "2021-04-19T17:51:36.812878Z"
    },
    "hidden": true
   },
   "outputs": [],
   "source": [
    "live_positive['P'].unique()"
   ]
  },
  {
   "cell_type": "code",
   "execution_count": null,
   "metadata": {
    "ExecuteTime": {
     "end_time": "2021-04-19T17:52:21.720920Z",
     "start_time": "2021-04-19T17:52:21.709193Z"
    },
    "hidden": true
   },
   "outputs": [],
   "source": [
    "live_positive = live_positive.groupby('dep').sum().reset_index()"
   ]
  },
  {
   "cell_type": "code",
   "execution_count": null,
   "metadata": {
    "ExecuteTime": {
     "end_time": "2021-04-19T17:52:28.449651Z",
     "start_time": "2021-04-19T17:52:28.430037Z"
    },
    "hidden": true
   },
   "outputs": [],
   "source": [
    "live_positive"
   ]
  },
  {
   "cell_type": "markdown",
   "metadata": {},
   "source": [
    "# Variants"
   ]
  },
  {
   "cell_type": "code",
   "execution_count": 4,
   "metadata": {
    "ExecuteTime": {
     "end_time": "2021-04-20T14:28:10.493911Z",
     "start_time": "2021-04-20T14:28:09.699737Z"
    }
   },
   "outputs": [],
   "source": [
    "url_variants = 'https://www.data.gouv.fr/fr/datasets/r/16f4fd03-797f-4616-bca9-78ff212d06e8'\n",
    "file_variants = '../data/prediction/live_variants.csv'\n",
    "download_url(url_variants, file_variants)"
   ]
  },
  {
   "cell_type": "code",
   "execution_count": 5,
   "metadata": {
    "ExecuteTime": {
     "end_time": "2021-04-20T14:28:10.881108Z",
     "start_time": "2021-04-20T14:28:10.699906Z"
    }
   },
   "outputs": [
    {
     "name": "stderr",
     "output_type": "stream",
     "text": [
      "/Users/camillebenhaim/.pyenv/versions/3.8.5/envs/lewagon/lib/python3.8/site-packages/IPython/core/interactiveshell.py:3145: DtypeWarning: Columns (0) have mixed types.Specify dtype option on import or set low_memory=False.\n",
      "  has_raised = await self.run_ast_nodes(code_ast.body, cell_name,\n"
     ]
    }
   ],
   "source": [
    "live_variants = pd.read_csv(file_variants, sep=';')\n",
    "live_variants = live_variants[['dep','semaine','Nb_susp_501Y_V1','Nb_susp_501Y_V2_3']]"
   ]
  },
  {
   "cell_type": "code",
   "execution_count": 6,
   "metadata": {
    "ExecuteTime": {
     "end_time": "2021-04-20T14:28:13.313901Z",
     "start_time": "2021-04-20T14:28:11.203256Z"
    }
   },
   "outputs": [],
   "source": [
    "def replace_dep(row):\n",
    "    if type(row['dep']) != int:\n",
    "        return int(row['dep'].replace('2A','201').replace('2B', '202'))\n",
    "\n",
    "live_variants['dep'] = live_variants.apply(replace_dep, axis=1)\n",
    "live_variants = live_variants[live_variants['dep']<203]\n",
    "live_variants['dep'] = live_variants['dep'].astype(int)"
   ]
  },
  {
   "cell_type": "code",
   "execution_count": 7,
   "metadata": {
    "ExecuteTime": {
     "end_time": "2021-04-20T14:28:27.267668Z",
     "start_time": "2021-04-20T14:28:14.761434Z"
    }
   },
   "outputs": [],
   "source": [
    "def get_semaine(row):\n",
    "    return pd.to_datetime(row['semaine'][-10:])\n",
    "\n",
    "live_variants['semaine'] = live_variants.apply(get_semaine, axis=1)\n",
    "\n",
    "live_variants = live_variants.groupby(['dep', 'semaine']).sum().reset_index()"
   ]
  },
  {
   "cell_type": "code",
   "execution_count": 8,
   "metadata": {
    "ExecuteTime": {
     "end_time": "2021-04-20T14:28:27.603977Z",
     "start_time": "2021-04-20T14:28:27.592806Z"
    }
   },
   "outputs": [],
   "source": [
    "max_date = live_variants['semaine'].max()"
   ]
  },
  {
   "cell_type": "code",
   "execution_count": 9,
   "metadata": {
    "ExecuteTime": {
     "end_time": "2021-04-20T14:28:27.934084Z",
     "start_time": "2021-04-20T14:28:27.914367Z"
    }
   },
   "outputs": [],
   "source": [
    "def add_V1(row):\n",
    "    correct_dep = live_variants[live_variants['dep']==row['dep_num']]\n",
    "    V1 = correct_dep[correct_dep['semaine']==max_date]['Nb_susp_501Y_V1']\n",
    "    return int(list(V1)[0])\n",
    "\n",
    "def add_V2(row):\n",
    "    correct_dep = live_variants[live_variants['dep']==row['dep_num']]\n",
    "    V2 = correct_dep[correct_dep['semaine']==max_date]['Nb_susp_501Y_V2_3']\n",
    "    return int(list(V2)[0])"
   ]
  },
  {
   "cell_type": "code",
   "execution_count": 10,
   "metadata": {
    "ExecuteTime": {
     "end_time": "2021-04-20T14:28:28.644384Z",
     "start_time": "2021-04-20T14:28:28.234264Z"
    }
   },
   "outputs": [],
   "source": [
    "prediction_data['variant_1'] = prediction_data.apply(add_V1, axis=1)\n",
    "prediction_data['variant_2'] = prediction_data.apply(add_V2, axis=1)"
   ]
  },
  {
   "cell_type": "code",
   "execution_count": 11,
   "metadata": {
    "ExecuteTime": {
     "end_time": "2021-04-20T14:28:29.025627Z",
     "start_time": "2021-04-20T14:28:28.965893Z"
    }
   },
   "outputs": [
    {
     "data": {
      "text/html": [
       "<div>\n",
       "<style scoped>\n",
       "    .dataframe tbody tr th:only-of-type {\n",
       "        vertical-align: middle;\n",
       "    }\n",
       "\n",
       "    .dataframe tbody tr th {\n",
       "        vertical-align: top;\n",
       "    }\n",
       "\n",
       "    .dataframe thead th {\n",
       "        text-align: right;\n",
       "    }\n",
       "</style>\n",
       "<table border=\"1\" class=\"dataframe\">\n",
       "  <thead>\n",
       "    <tr style=\"text-align: right;\">\n",
       "      <th></th>\n",
       "      <th>dep_num</th>\n",
       "      <th>name</th>\n",
       "      <th>region</th>\n",
       "      <th>capital</th>\n",
       "      <th>area</th>\n",
       "      <th>total</th>\n",
       "      <th>density</th>\n",
       "      <th>variant_1</th>\n",
       "      <th>variant_2</th>\n",
       "    </tr>\n",
       "  </thead>\n",
       "  <tbody>\n",
       "    <tr>\n",
       "      <th>0</th>\n",
       "      <td>1</td>\n",
       "      <td>Ain</td>\n",
       "      <td>Auvergne-Rhône-Alpes</td>\n",
       "      <td>Bourg-en-Bresse</td>\n",
       "      <td>5762</td>\n",
       "      <td>631877</td>\n",
       "      <td>109.7</td>\n",
       "      <td>2082</td>\n",
       "      <td>44</td>\n",
       "    </tr>\n",
       "    <tr>\n",
       "      <th>1</th>\n",
       "      <td>2</td>\n",
       "      <td>Aisne</td>\n",
       "      <td>Hauts-de-France</td>\n",
       "      <td>Laon</td>\n",
       "      <td>7369</td>\n",
       "      <td>538659</td>\n",
       "      <td>73.1</td>\n",
       "      <td>1762</td>\n",
       "      <td>64</td>\n",
       "    </tr>\n",
       "    <tr>\n",
       "      <th>2</th>\n",
       "      <td>3</td>\n",
       "      <td>Allier</td>\n",
       "      <td>Auvergne-Rhône-Alpes</td>\n",
       "      <td>Moulins</td>\n",
       "      <td>7340</td>\n",
       "      <td>341613</td>\n",
       "      <td>46.5</td>\n",
       "      <td>782</td>\n",
       "      <td>28</td>\n",
       "    </tr>\n",
       "    <tr>\n",
       "      <th>3</th>\n",
       "      <td>4</td>\n",
       "      <td>Alpes-de-Haute-Provence</td>\n",
       "      <td>Provence-Alpes-Côte d'Azur</td>\n",
       "      <td>Digne</td>\n",
       "      <td>6925</td>\n",
       "      <td>161799</td>\n",
       "      <td>23.4</td>\n",
       "      <td>404</td>\n",
       "      <td>0</td>\n",
       "    </tr>\n",
       "    <tr>\n",
       "      <th>4</th>\n",
       "      <td>5</td>\n",
       "      <td>Hautes-Alpes</td>\n",
       "      <td>Provence-Alpes-Côte d'Azur</td>\n",
       "      <td>Gap</td>\n",
       "      <td>5549</td>\n",
       "      <td>140916</td>\n",
       "      <td>25.4</td>\n",
       "      <td>344</td>\n",
       "      <td>4</td>\n",
       "    </tr>\n",
       "    <tr>\n",
       "      <th>...</th>\n",
       "      <td>...</td>\n",
       "      <td>...</td>\n",
       "      <td>...</td>\n",
       "      <td>...</td>\n",
       "      <td>...</td>\n",
       "      <td>...</td>\n",
       "      <td>...</td>\n",
       "      <td>...</td>\n",
       "      <td>...</td>\n",
       "    </tr>\n",
       "    <tr>\n",
       "      <th>93</th>\n",
       "      <td>93</td>\n",
       "      <td>Seine-Saint-Denis</td>\n",
       "      <td>Île-de-France</td>\n",
       "      <td>Bobigny</td>\n",
       "      <td>236</td>\n",
       "      <td>1592663</td>\n",
       "      <td>6742.9</td>\n",
       "      <td>2153</td>\n",
       "      <td>235</td>\n",
       "    </tr>\n",
       "    <tr>\n",
       "      <th>94</th>\n",
       "      <td>94</td>\n",
       "      <td>Val-de-Marne</td>\n",
       "      <td>Île-de-France</td>\n",
       "      <td>Créteil</td>\n",
       "      <td>245</td>\n",
       "      <td>1372389</td>\n",
       "      <td>5601.6</td>\n",
       "      <td>1865</td>\n",
       "      <td>216</td>\n",
       "    </tr>\n",
       "    <tr>\n",
       "      <th>95</th>\n",
       "      <td>95</td>\n",
       "      <td>Val-d'Oise</td>\n",
       "      <td>Île-de-France</td>\n",
       "      <td>Pontoise</td>\n",
       "      <td>1246</td>\n",
       "      <td>1215390</td>\n",
       "      <td>975.5</td>\n",
       "      <td>2297</td>\n",
       "      <td>124</td>\n",
       "    </tr>\n",
       "    <tr>\n",
       "      <th>19</th>\n",
       "      <td>201</td>\n",
       "      <td>Corse-du-Sud</td>\n",
       "      <td>Corse</td>\n",
       "      <td>Ajaccio</td>\n",
       "      <td>4014</td>\n",
       "      <td>152730</td>\n",
       "      <td>38.0</td>\n",
       "      <td>348</td>\n",
       "      <td>4</td>\n",
       "    </tr>\n",
       "    <tr>\n",
       "      <th>20</th>\n",
       "      <td>202</td>\n",
       "      <td>Haute-Corse</td>\n",
       "      <td>Corse</td>\n",
       "      <td>Bastia</td>\n",
       "      <td>4666</td>\n",
       "      <td>174553</td>\n",
       "      <td>37.4</td>\n",
       "      <td>322</td>\n",
       "      <td>8</td>\n",
       "    </tr>\n",
       "  </tbody>\n",
       "</table>\n",
       "<p>96 rows × 9 columns</p>\n",
       "</div>"
      ],
      "text/plain": [
       "    dep_num                     name                      region  \\\n",
       "0         1                      Ain        Auvergne-Rhône-Alpes   \n",
       "1         2                    Aisne             Hauts-de-France   \n",
       "2         3                   Allier        Auvergne-Rhône-Alpes   \n",
       "3         4  Alpes-de-Haute-Provence  Provence-Alpes-Côte d'Azur   \n",
       "4         5             Hautes-Alpes  Provence-Alpes-Côte d'Azur   \n",
       "..      ...                      ...                         ...   \n",
       "93       93        Seine-Saint-Denis               Île-de-France   \n",
       "94       94             Val-de-Marne               Île-de-France   \n",
       "95       95               Val-d'Oise               Île-de-France   \n",
       "19      201             Corse-du-Sud                       Corse   \n",
       "20      202              Haute-Corse                       Corse   \n",
       "\n",
       "            capital  area    total  density  variant_1  variant_2  \n",
       "0   Bourg-en-Bresse  5762   631877    109.7       2082         44  \n",
       "1              Laon  7369   538659     73.1       1762         64  \n",
       "2           Moulins  7340   341613     46.5        782         28  \n",
       "3             Digne  6925   161799     23.4        404          0  \n",
       "4               Gap  5549   140916     25.4        344          4  \n",
       "..              ...   ...      ...      ...        ...        ...  \n",
       "93          Bobigny   236  1592663   6742.9       2153        235  \n",
       "94          Créteil   245  1372389   5601.6       1865        216  \n",
       "95         Pontoise  1246  1215390    975.5       2297        124  \n",
       "19          Ajaccio  4014   152730     38.0        348          4  \n",
       "20           Bastia  4666   174553     37.4        322          8  \n",
       "\n",
       "[96 rows x 9 columns]"
      ]
     },
     "execution_count": 11,
     "metadata": {},
     "output_type": "execute_result"
    }
   ],
   "source": [
    "prediction_data"
   ]
  },
  {
   "cell_type": "code",
   "execution_count": null,
   "metadata": {},
   "outputs": [],
   "source": []
  }
 ],
 "metadata": {
  "kernelspec": {
   "display_name": "Python 3",
   "language": "python",
   "name": "python3"
  },
  "language_info": {
   "codemirror_mode": {
    "name": "ipython",
    "version": 3
   },
   "file_extension": ".py",
   "mimetype": "text/x-python",
   "name": "python",
   "nbconvert_exporter": "python",
   "pygments_lexer": "ipython3",
   "version": "3.8.5"
  },
  "toc": {
   "base_numbering": 1,
   "nav_menu": {},
   "number_sections": true,
   "sideBar": true,
   "skip_h1_title": false,
   "title_cell": "Table of Contents",
   "title_sidebar": "Contents",
   "toc_cell": false,
   "toc_position": {},
   "toc_section_display": true,
   "toc_window_display": false
  },
  "varInspector": {
   "cols": {
    "lenName": 16,
    "lenType": 16,
    "lenVar": 40
   },
   "kernels_config": {
    "python": {
     "delete_cmd_postfix": "",
     "delete_cmd_prefix": "del ",
     "library": "var_list.py",
     "varRefreshCmd": "print(var_dic_list())"
    },
    "r": {
     "delete_cmd_postfix": ") ",
     "delete_cmd_prefix": "rm(",
     "library": "var_list.r",
     "varRefreshCmd": "cat(var_dic_list()) "
    }
   },
   "types_to_exclude": [
    "module",
    "function",
    "builtin_function_or_method",
    "instance",
    "_Feature"
   ],
   "window_display": false
  }
 },
 "nbformat": 4,
 "nbformat_minor": 4
}
