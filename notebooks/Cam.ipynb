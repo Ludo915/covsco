{
 "cells": [
  {
   "cell_type": "code",
   "execution_count": 1,
   "metadata": {
    "ExecuteTime": {
     "end_time": "2021-04-19T17:31:30.032323Z",
     "start_time": "2021-04-19T17:31:28.024635Z"
    }
   },
   "outputs": [],
   "source": [
    "from hdx.hdx_configuration import Configuration \n",
    "from hdx.data.dataset import Dataset\n",
    "import requests\n",
    "import pandas as pd\n",
    "import numpy as np\n",
    "import csv\n",
    "from zipfile import ZipFile\n",
    "import os"
   ]
  },
  {
   "cell_type": "code",
   "execution_count": 2,
   "metadata": {
    "ExecuteTime": {
     "end_time": "2021-04-19T17:31:30.331167Z",
     "start_time": "2021-04-19T17:31:30.320255Z"
    }
   },
   "outputs": [],
   "source": [
    "def download_url(url, save_path, chunk_size=128):\n",
    "    r = requests.get(url, stream=True)\n",
    "    with open(save_path, 'wb') as fd:\n",
    "        for chunk in r.iter_content(chunk_size=chunk_size):\n",
    "            fd.write(chunk)"
   ]
  },
  {
   "cell_type": "markdown",
   "metadata": {
    "ExecuteTime": {
     "end_time": "2021-04-14T13:02:46.676618Z",
     "start_time": "2021-04-14T13:02:46.631505Z"
    },
    "heading_collapsed": true
   },
   "source": [
    "# Population"
   ]
  },
  {
   "cell_type": "code",
   "execution_count": null,
   "metadata": {
    "ExecuteTime": {
     "end_time": "2021-04-19T17:31:21.106581Z",
     "start_time": "2021-04-19T17:31:20.998155Z"
    },
    "hidden": true
   },
   "outputs": [],
   "source": [
    "prediction_data  = pd.read_csv('../data/train/pop/fr/departements-francais.csv', sep=';')\n",
    "prediction_data.columns = ['dep_num', 'name', 'region', 'capital', 'area', 'total', 'density']\n",
    "prediction_data = prediction_data.sort_values('dep_num')\n",
    "prediction_data = prediction_data[:-5]\n",
    "prediction_data['region'] = prediction_data['region'].replace({'Ile-de-France':'Île-de-France'})\n",
    "prediction_data"
   ]
  },
  {
   "cell_type": "markdown",
   "metadata": {
    "heading_collapsed": true
   },
   "source": [
    "# Covid"
   ]
  },
  {
   "cell_type": "code",
   "execution_count": null,
   "metadata": {
    "ExecuteTime": {
     "end_time": "2021-04-19T17:31:21.125653Z",
     "start_time": "2021-04-19T17:31:21.112062Z"
    },
    "hidden": true
   },
   "outputs": [],
   "source": [
    "#import requests\n",
    "#import pandas as pd\n",
    "#import datetime\n",
    "#departements = pd.read_csv(\"data/pop/fr/departements-francais.csv\", sep = \";\")\n",
    "#hospi = []\n",
    "#url = \"https://coronavirusapi-france.now.sh/AllLiveData\"\n",
    "#response = requests.get(url).json()\n",
    "#counter = 0\n",
    "#for numero in departements.NUMÉRO:\n",
    "#    nom = str(departements[departements[\"NUMÉRO\"]==numero][\"NOM\"].values[0])\n",
    "#    hospi.append((nom, numero, response[\"allLiveFranceData\"][counter][\"nouvellesHospitalisations\"]))\n",
    "#    counter+=1\n",
    "#\n",
    "#df = pd.DataFrame(hospi, columns =[\"depname\",\"depnum\",\"newhospi\"])\n",
    "#print(df)\n",
    "#df.to_csv(\"covid_daily_data.csv\", index = False)"
   ]
  },
  {
   "cell_type": "markdown",
   "metadata": {
    "heading_collapsed": true
   },
   "source": [
    "# CAMS"
   ]
  },
  {
   "cell_type": "code",
   "execution_count": null,
   "metadata": {
    "ExecuteTime": {
     "end_time": "2021-04-19T17:31:21.145387Z",
     "start_time": "2021-04-19T17:31:21.135339Z"
    },
    "hidden": true
   },
   "outputs": [],
   "source": [
    "#to_do (Niclas ?)"
   ]
  },
  {
   "cell_type": "markdown",
   "metadata": {
    "heading_collapsed": true
   },
   "source": [
    "# Mobility"
   ]
  },
  {
   "cell_type": "code",
   "execution_count": null,
   "metadata": {
    "ExecuteTime": {
     "end_time": "2021-04-19T17:31:22.224545Z",
     "start_time": "2021-04-19T17:31:21.150840Z"
    },
    "hidden": true
   },
   "outputs": [],
   "source": [
    "Configuration.create(hdx_site='prod', user_agent='A_Quick_Example', hdx_read_only=True)\n",
    "dataset = Dataset.read_from_hdx('movement-range-maps')\n",
    "resources = dataset.get_resources()\n",
    "dic = resources[1]\n",
    "url_mobility = dic['download_url']\n",
    "\n",
    "file_mobility = \"../data/prediction/mvt_range.zip\"\n",
    "download_url(url_mobility, file_mobility)"
   ]
  },
  {
   "cell_type": "code",
   "execution_count": null,
   "metadata": {
    "ExecuteTime": {
     "end_time": "2021-04-19T17:31:22.264288Z",
     "start_time": "2021-04-19T17:31:17.501Z"
    },
    "hidden": true
   },
   "outputs": [],
   "source": [
    "with ZipFile(file_mobility, 'r') as zip:\n",
    "    # printing all the contents of the zip file\n",
    "    zip.printdir()\n",
    "  \n",
    "    # extracting all the files\n",
    "    print('Extracting mv_range file now...')\n",
    "    mvt_range = zip.namelist()[-1]\n",
    "    zip.extract(mvt_range)\n",
    "    print('Done!')"
   ]
  },
  {
   "cell_type": "code",
   "execution_count": null,
   "metadata": {
    "ExecuteTime": {
     "end_time": "2021-04-19T17:31:22.276611Z",
     "start_time": "2021-04-19T17:31:17.504Z"
    },
    "hidden": true
   },
   "outputs": [],
   "source": [
    "with open(mvt_range) as f:\n",
    "    reader = csv.reader(f, delimiter=\"\\t\")\n",
    "    d = list(reader)"
   ]
  },
  {
   "cell_type": "code",
   "execution_count": null,
   "metadata": {
    "ExecuteTime": {
     "end_time": "2021-04-19T17:31:22.280396Z",
     "start_time": "2021-04-19T17:31:17.510Z"
    },
    "hidden": true
   },
   "outputs": [],
   "source": [
    "data_mob = pd.DataFrame(d[1:], columns=d[0])\n",
    "data_mob = data_mob[data_mob['country']=='FRA']"
   ]
  },
  {
   "cell_type": "code",
   "execution_count": null,
   "metadata": {
    "ExecuteTime": {
     "end_time": "2021-04-19T17:31:22.299212Z",
     "start_time": "2021-04-19T17:31:17.514Z"
    },
    "hidden": true
   },
   "outputs": [],
   "source": [
    "data_mob = data_mob[data_mob['ds']==list(data_mob.iloc[[-1]]['ds'])[0]][['ds', 'polygon_name', 'all_day_bing_tiles_visited_relative_change', 'all_day_ratio_single_tile_users']]"
   ]
  },
  {
   "cell_type": "code",
   "execution_count": null,
   "metadata": {
    "ExecuteTime": {
     "end_time": "2021-04-16T11:01:01.766508Z",
     "start_time": "2021-04-16T11:01:01.677527Z"
    },
    "hidden": true
   },
   "outputs": [],
   "source": []
  },
  {
   "cell_type": "code",
   "execution_count": null,
   "metadata": {
    "ExecuteTime": {
     "end_time": "2021-04-19T17:31:22.309435Z",
     "start_time": "2021-04-19T17:31:17.519Z"
    },
    "hidden": true
   },
   "outputs": [],
   "source": [
    "prediction_data['stay_put'] = 0.0\n",
    "prediction_data['go_out'] = 0.0"
   ]
  },
  {
   "cell_type": "code",
   "execution_count": null,
   "metadata": {
    "ExecuteTime": {
     "end_time": "2021-04-19T17:31:22.328194Z",
     "start_time": "2021-04-19T17:31:17.523Z"
    },
    "hidden": true
   },
   "outputs": [],
   "source": [
    "def add_go_out(row):\n",
    "    region = row['region']\n",
    "    go_out = data_mob[data_mob['polygon_name']==region]['all_day_bing_tiles_visited_relative_change']\n",
    "    return float(list(go_out)[0])\n",
    "     \n",
    "def add_stay_put(row):   \n",
    "    region = row['region']\n",
    "    stay_put = data_mob[data_mob['polygon_name']==region]['all_day_ratio_single_tile_users']\n",
    "    return float(list(stay_put)[0])"
   ]
  },
  {
   "cell_type": "code",
   "execution_count": null,
   "metadata": {
    "ExecuteTime": {
     "end_time": "2021-04-19T17:31:22.334108Z",
     "start_time": "2021-04-19T17:31:17.527Z"
    },
    "hidden": true
   },
   "outputs": [],
   "source": [
    "prediction_data['go_out'] = prediction_data.apply(add_go_out, axis=1)\n",
    "prediction_data['stay_put'] = prediction_data.apply(add_stay_put, axis=1)\n",
    "prediction_data"
   ]
  },
  {
   "cell_type": "markdown",
   "metadata": {
    "heading_collapsed": true
   },
   "source": [
    "# Vaccins"
   ]
  },
  {
   "cell_type": "code",
   "execution_count": null,
   "metadata": {
    "ExecuteTime": {
     "end_time": "2021-04-19T17:31:22.341230Z",
     "start_time": "2021-04-19T17:31:17.531Z"
    },
    "hidden": true
   },
   "outputs": [],
   "source": [
    "url_positive_test = 'https://www.data.gouv.fr/es/datasets/r/59aeab47-c364-462c-9087-ce233b6acbbc'\n",
    "download_url(url_positive_test, '../data/prediction/live_vaccins.csv')"
   ]
  },
  {
   "cell_type": "code",
   "execution_count": null,
   "metadata": {
    "ExecuteTime": {
     "end_time": "2021-04-19T17:31:22.352183Z",
     "start_time": "2021-04-19T17:31:17.535Z"
    },
    "hidden": true
   },
   "outputs": [],
   "source": [
    "live_vacc = pd.read_csv('../data/prediction/live_vaccins.csv')\n",
    "live_vacc['date_debut_semaine'] = pd.to_datetime(live_vacc['date_debut_semaine'])\n",
    "date_max = live_vacc['date_debut_semaine'].max()"
   ]
  },
  {
   "cell_type": "code",
   "execution_count": null,
   "metadata": {
    "ExecuteTime": {
     "end_time": "2021-04-19T17:31:22.371254Z",
     "start_time": "2021-04-19T17:31:17.538Z"
    },
    "hidden": true
   },
   "outputs": [],
   "source": [
    "vacc_1 = live_vacc[live_vacc['rang_vaccinal']==1]\n",
    "vacc_2 = live_vacc[live_vacc['rang_vaccinal']==2]"
   ]
  },
  {
   "cell_type": "code",
   "execution_count": null,
   "metadata": {
    "ExecuteTime": {
     "end_time": "2021-04-19T17:31:22.382080Z",
     "start_time": "2021-04-19T17:31:17.542Z"
    },
    "hidden": true
   },
   "outputs": [],
   "source": [
    "def live_vacc_1(row):\n",
    "    dep = row['dep_num']\n",
    "    vacc_1_reg = vacc_1[vacc_1['code_region']==dep]\n",
    "    if vacc_1_reg.shape[0]!=0:\n",
    "        nb_series = vacc_1_reg[vacc_1_reg['date_debut_semaine']==date_max]['nb']\n",
    "        nb = list(nb_series)[0]\n",
    "    else : \n",
    "        nb=0\n",
    "    return nb\n",
    "\n",
    "def live_vacc_2(row):\n",
    "    dep = row['dep_num']\n",
    "    vacc_2_reg = vacc_2[vacc_2['code_region']==dep]\n",
    "    if vacc_2_reg.shape[0]!=0:\n",
    "        nb_series = vacc_2_reg[vacc_2_reg['date_debut_semaine']==date_max]['nb']\n",
    "        nb = list(nb_series)[0]\n",
    "    else : \n",
    "        nb=0\n",
    "    return nb"
   ]
  },
  {
   "cell_type": "code",
   "execution_count": null,
   "metadata": {
    "ExecuteTime": {
     "end_time": "2021-04-19T17:31:22.401539Z",
     "start_time": "2021-04-19T17:31:17.546Z"
    },
    "hidden": true
   },
   "outputs": [],
   "source": [
    "prediction_data['vacc_1'] = prediction_data.apply(live_vacc_1, axis=1)\n",
    "prediction_data['vacc_2'] = prediction_data.apply(live_vacc_2, axis=1)\n",
    "prediction_data"
   ]
  },
  {
   "cell_type": "markdown",
   "metadata": {},
   "source": [
    "# Positive tests"
   ]
  },
  {
   "cell_type": "code",
   "execution_count": 3,
   "metadata": {
    "ExecuteTime": {
     "end_time": "2021-04-19T17:31:38.947014Z",
     "start_time": "2021-04-19T17:31:37.009952Z"
    }
   },
   "outputs": [],
   "source": [
    "url_positive = 'https://www.data.gouv.fr/en/datasets/r/406c6a23-e283-4300-9484-54e78c8ae675'\n",
    "\n",
    "with requests.Session() as s:\n",
    "    download = s.get(url_positive)\n",
    "\n",
    "    decoded_content = download.content.decode('utf-8')\n",
    "\n",
    "    cr = csv.reader(decoded_content.splitlines(), delimiter=';')\n",
    "    my_list = list(cr)"
   ]
  },
  {
   "cell_type": "code",
   "execution_count": 4,
   "metadata": {
    "ExecuteTime": {
     "end_time": "2021-04-19T17:31:45.593978Z",
     "start_time": "2021-04-19T17:31:45.198970Z"
    }
   },
   "outputs": [
    {
     "data": {
      "text/html": [
       "<div>\n",
       "<style scoped>\n",
       "    .dataframe tbody tr th:only-of-type {\n",
       "        vertical-align: middle;\n",
       "    }\n",
       "\n",
       "    .dataframe tbody tr th {\n",
       "        vertical-align: top;\n",
       "    }\n",
       "\n",
       "    .dataframe thead th {\n",
       "        text-align: right;\n",
       "    }\n",
       "</style>\n",
       "<table border=\"1\" class=\"dataframe\">\n",
       "  <thead>\n",
       "    <tr style=\"text-align: right;\">\n",
       "      <th></th>\n",
       "      <th>dep</th>\n",
       "      <th>jour</th>\n",
       "      <th>P</th>\n",
       "      <th>T</th>\n",
       "      <th>cl_age90</th>\n",
       "      <th>pop</th>\n",
       "    </tr>\n",
       "  </thead>\n",
       "  <tbody>\n",
       "    <tr>\n",
       "      <th>0</th>\n",
       "      <td>01</td>\n",
       "      <td>2020-05-13</td>\n",
       "      <td>0</td>\n",
       "      <td>16</td>\n",
       "      <td>09</td>\n",
       "      <td>83001</td>\n",
       "    </tr>\n",
       "    <tr>\n",
       "      <th>1</th>\n",
       "      <td>01</td>\n",
       "      <td>2020-05-13</td>\n",
       "      <td>1</td>\n",
       "      <td>17</td>\n",
       "      <td>19</td>\n",
       "      <td>84665</td>\n",
       "    </tr>\n",
       "    <tr>\n",
       "      <th>2</th>\n",
       "      <td>01</td>\n",
       "      <td>2020-05-13</td>\n",
       "      <td>0</td>\n",
       "      <td>34</td>\n",
       "      <td>29</td>\n",
       "      <td>65496</td>\n",
       "    </tr>\n",
       "    <tr>\n",
       "      <th>3</th>\n",
       "      <td>01</td>\n",
       "      <td>2020-05-13</td>\n",
       "      <td>1</td>\n",
       "      <td>72</td>\n",
       "      <td>39</td>\n",
       "      <td>85588</td>\n",
       "    </tr>\n",
       "    <tr>\n",
       "      <th>4</th>\n",
       "      <td>01</td>\n",
       "      <td>2020-05-13</td>\n",
       "      <td>0</td>\n",
       "      <td>54</td>\n",
       "      <td>49</td>\n",
       "      <td>89678</td>\n",
       "    </tr>\n",
       "    <tr>\n",
       "      <th>...</th>\n",
       "      <td>...</td>\n",
       "      <td>...</td>\n",
       "      <td>...</td>\n",
       "      <td>...</td>\n",
       "      <td>...</td>\n",
       "      <td>...</td>\n",
       "    </tr>\n",
       "    <tr>\n",
       "      <th>387811</th>\n",
       "      <td>978</td>\n",
       "      <td>2021-04-16</td>\n",
       "      <td>0</td>\n",
       "      <td>29</td>\n",
       "      <td>69</td>\n",
       "      <td>3060.02499200135</td>\n",
       "    </tr>\n",
       "    <tr>\n",
       "      <th>387812</th>\n",
       "      <td>978</td>\n",
       "      <td>2021-04-16</td>\n",
       "      <td>0</td>\n",
       "      <td>6</td>\n",
       "      <td>79</td>\n",
       "      <td>1152.93437717932</td>\n",
       "    </tr>\n",
       "    <tr>\n",
       "      <th>387813</th>\n",
       "      <td>978</td>\n",
       "      <td>2021-04-16</td>\n",
       "      <td>0</td>\n",
       "      <td>0</td>\n",
       "      <td>89</td>\n",
       "      <td>346.012162334751</td>\n",
       "    </tr>\n",
       "    <tr>\n",
       "      <th>387814</th>\n",
       "      <td>978</td>\n",
       "      <td>2021-04-16</td>\n",
       "      <td>0</td>\n",
       "      <td>0</td>\n",
       "      <td>90</td>\n",
       "      <td>70.6551671722845</td>\n",
       "    </tr>\n",
       "    <tr>\n",
       "      <th>387815</th>\n",
       "      <td>978</td>\n",
       "      <td>2021-04-16</td>\n",
       "      <td>4</td>\n",
       "      <td>154</td>\n",
       "      <td>0</td>\n",
       "      <td>35334</td>\n",
       "    </tr>\n",
       "  </tbody>\n",
       "</table>\n",
       "<p>387816 rows × 6 columns</p>\n",
       "</div>"
      ],
      "text/plain": [
       "        dep        jour  P    T cl_age90               pop\n",
       "0        01  2020-05-13  0   16       09             83001\n",
       "1        01  2020-05-13  1   17       19             84665\n",
       "2        01  2020-05-13  0   34       29             65496\n",
       "3        01  2020-05-13  1   72       39             85588\n",
       "4        01  2020-05-13  0   54       49             89678\n",
       "...     ...         ... ..  ...      ...               ...\n",
       "387811  978  2021-04-16  0   29       69  3060.02499200135\n",
       "387812  978  2021-04-16  0    6       79  1152.93437717932\n",
       "387813  978  2021-04-16  0    0       89  346.012162334751\n",
       "387814  978  2021-04-16  0    0       90  70.6551671722845\n",
       "387815  978  2021-04-16  4  154        0             35334\n",
       "\n",
       "[387816 rows x 6 columns]"
      ]
     },
     "execution_count": 4,
     "metadata": {},
     "output_type": "execute_result"
    }
   ],
   "source": [
    "live_positive = pd.DataFrame(my_list[1:],columns=my_list[0])\n",
    "\n",
    "live_positive"
   ]
  },
  {
   "cell_type": "code",
   "execution_count": 51,
   "metadata": {
    "ExecuteTime": {
     "end_time": "2021-04-19T17:23:46.777303Z",
     "start_time": "2021-04-19T17:23:46.689863Z"
    }
   },
   "outputs": [
    {
     "data": {
      "text/plain": [
       "array(['01', '02', '03', '04', '05', '06', '07', '08', '09', '10', '11',\n",
       "       '12', '13', '14', '15', '16', '17', '18', '19', '21', '22', '23',\n",
       "       '24', '25', '26', '27', '28', '29', '2A', '2B', '30', '31', '32',\n",
       "       '33', '34', '35', '36', '37', '38', '39', '40', '41', '42', '43',\n",
       "       '44', '45', '46', '47', '48', '49', '50', '51', '52', '53', '54',\n",
       "       '55', '56', '57', '58', '59', '60', '61', '62', '63', '64', '65',\n",
       "       '66', '67', '68', '69', '70', '71', '72', '73', '74', '75', '76',\n",
       "       '77', '78', '79', '80', '81', '82', '83', '84', '85', '86', '87',\n",
       "       '88', '89', '90', '91', '92', '93', '94', '95', '971', '972',\n",
       "       '973', '974', '975', '976', '977', '978'], dtype=object)"
      ]
     },
     "execution_count": 51,
     "metadata": {},
     "output_type": "execute_result"
    }
   ],
   "source": [
    "live_positive['dep'].unique()"
   ]
  },
  {
   "cell_type": "code",
   "execution_count": 50,
   "metadata": {
    "ExecuteTime": {
     "end_time": "2021-04-19T17:50:04.627140Z",
     "start_time": "2021-04-19T17:50:04.618535Z"
    }
   },
   "outputs": [],
   "source": [
    "def replace_dep(row):\n",
    "    if type(row['dep']) != int:\n",
    "        row['dep'] = int(row['dep'].replace('2A','201').replace('2B','202'))\n",
    "    return None"
   ]
  },
  {
   "cell_type": "code",
   "execution_count": 49,
   "metadata": {
    "ExecuteTime": {
     "end_time": "2021-04-19T17:49:57.600280Z",
     "start_time": "2021-04-19T17:49:57.541084Z"
    }
   },
   "outputs": [
    {
     "data": {
      "text/plain": [
       "3718      None\n",
       "3719      None\n",
       "3720      None\n",
       "3721      None\n",
       "3722      None\n",
       "          ... \n",
       "357979    None\n",
       "357980    None\n",
       "357981    None\n",
       "357982    None\n",
       "357983    None\n",
       "Length: 1056, dtype: object"
      ]
     },
     "execution_count": 49,
     "metadata": {},
     "output_type": "execute_result"
    }
   ],
   "source": [
    "live_positive.apply(replace_dep, axis=1)"
   ]
  },
  {
   "cell_type": "code",
   "execution_count": 52,
   "metadata": {
    "ExecuteTime": {
     "end_time": "2021-04-19T17:51:20.380004Z",
     "start_time": "2021-04-19T17:51:20.323469Z"
    }
   },
   "outputs": [],
   "source": [
    "def P_to_int(row):\n",
    "    return int(row['P'])\n",
    "live_positive['P']= live_positive.apply(P_to_int, axis=1)"
   ]
  },
  {
   "cell_type": "code",
   "execution_count": 53,
   "metadata": {
    "ExecuteTime": {
     "end_time": "2021-04-19T17:51:27.372138Z",
     "start_time": "2021-04-19T17:51:27.345720Z"
    }
   },
   "outputs": [],
   "source": [
    "live_positive= live_positive[live_positive[\"dep\"]<203]\n",
    "live_positive[\"jour\"]=pd.to_datetime(live_positive[\"jour\"], dayfirst = True)"
   ]
  },
  {
   "cell_type": "code",
   "execution_count": 54,
   "metadata": {
    "ExecuteTime": {
     "end_time": "2021-04-19T17:51:32.314238Z",
     "start_time": "2021-04-19T17:51:32.305144Z"
    }
   },
   "outputs": [],
   "source": [
    "live_positive = live_positive[live_positive['jour']==live_positive['jour'].max()]"
   ]
  },
  {
   "cell_type": "code",
   "execution_count": 55,
   "metadata": {
    "ExecuteTime": {
     "end_time": "2021-04-19T17:51:36.850214Z",
     "start_time": "2021-04-19T17:51:36.812878Z"
    }
   },
   "outputs": [
    {
     "data": {
      "text/plain": [
       "array([   8,   46,   38,   55,   64,   47,   25,   10,    3,    1,  297,\n",
       "         19,   48,   50,   56,   58,   43,   39,   14,  338,    5,   13,\n",
       "         16,   17,   22,    9,  117,   15,    7,   18,    2,    0,   84,\n",
       "          6,   11,   12,   36,   67,   51,   44,   49,    4,  336,   23,\n",
       "        118,   26,   21,  135,   53,   34,   28,  159,  145,   24,   85,\n",
       "         99,  212,  294,  302,  273,  249,  162,   88, 1738,   54,   41,\n",
       "         27,  286,   37,   20,   29,  178,  137,  116,   30,  173,  210,\n",
       "        120,   70,   62,   35,  246,   33,  267,   40,  228,   45,   60,\n",
       "         65,   92,   86,   75,   31,  475,   68,   96,   90,  464,   78,\n",
       "         95,   79,   42,  531,   83,  111,   87,  106,   76,  572,   82,\n",
       "         74,  465,   81,   63,   52,  339,   97,  115,  578,  109,  156,\n",
       "         61,  512,  148,  503,  349,   89,   66,  342,  305,  121,   59,\n",
       "        346,  253,  392,   93,  301,  293,  334,  279,  218,  131,   32,\n",
       "       1756,  105,  107,  667,  147,  163,  138,  126,  879,   69,  498,\n",
       "        281,  213,  229,  184,   94, 1251,  220,  401,  217,  328,  165,\n",
       "        443,  271,  222,  130, 1741,  108,  123,  744,  144,  205,  179,\n",
       "        183,  139, 1008,  140,  153,  171,  903,  167,  322,  219,  124,\n",
       "         77,  558,  367,  291,  160,  161,  158,  128,  180,  200,  127,\n",
       "        944,  122,  198,  194,  202,  166, 1104,  352,  350,  278,  141,\n",
       "       1707,  247,  256,  170, 1220,  143,  248,   91, 1194])"
      ]
     },
     "execution_count": 55,
     "metadata": {},
     "output_type": "execute_result"
    }
   ],
   "source": [
    "live_positive['P'].unique()"
   ]
  },
  {
   "cell_type": "code",
   "execution_count": 57,
   "metadata": {
    "ExecuteTime": {
     "end_time": "2021-04-19T17:52:21.720920Z",
     "start_time": "2021-04-19T17:52:21.709193Z"
    }
   },
   "outputs": [],
   "source": [
    "live_positive = live_positive.groupby('dep').sum().reset_index()"
   ]
  },
  {
   "cell_type": "code",
   "execution_count": 58,
   "metadata": {
    "ExecuteTime": {
     "end_time": "2021-04-19T17:52:28.449651Z",
     "start_time": "2021-04-19T17:52:28.430037Z"
    }
   },
   "outputs": [
    {
     "data": {
      "text/html": [
       "<div>\n",
       "<style scoped>\n",
       "    .dataframe tbody tr th:only-of-type {\n",
       "        vertical-align: middle;\n",
       "    }\n",
       "\n",
       "    .dataframe tbody tr th {\n",
       "        vertical-align: top;\n",
       "    }\n",
       "\n",
       "    .dataframe thead th {\n",
       "        text-align: right;\n",
       "    }\n",
       "</style>\n",
       "<table border=\"1\" class=\"dataframe\">\n",
       "  <thead>\n",
       "    <tr style=\"text-align: right;\">\n",
       "      <th></th>\n",
       "      <th>dep</th>\n",
       "      <th>P</th>\n",
       "    </tr>\n",
       "  </thead>\n",
       "  <tbody>\n",
       "    <tr>\n",
       "      <th>0</th>\n",
       "      <td>1</td>\n",
       "      <td>594</td>\n",
       "    </tr>\n",
       "    <tr>\n",
       "      <th>1</th>\n",
       "      <td>2</td>\n",
       "      <td>676</td>\n",
       "    </tr>\n",
       "    <tr>\n",
       "      <th>2</th>\n",
       "      <td>3</td>\n",
       "      <td>234</td>\n",
       "    </tr>\n",
       "    <tr>\n",
       "      <th>3</th>\n",
       "      <td>4</td>\n",
       "      <td>168</td>\n",
       "    </tr>\n",
       "    <tr>\n",
       "      <th>4</th>\n",
       "      <td>5</td>\n",
       "      <td>110</td>\n",
       "    </tr>\n",
       "    <tr>\n",
       "      <th>...</th>\n",
       "      <td>...</td>\n",
       "      <td>...</td>\n",
       "    </tr>\n",
       "    <tr>\n",
       "      <th>91</th>\n",
       "      <td>93</td>\n",
       "      <td>3414</td>\n",
       "    </tr>\n",
       "    <tr>\n",
       "      <th>92</th>\n",
       "      <td>94</td>\n",
       "      <td>2436</td>\n",
       "    </tr>\n",
       "    <tr>\n",
       "      <th>93</th>\n",
       "      <td>95</td>\n",
       "      <td>2388</td>\n",
       "    </tr>\n",
       "    <tr>\n",
       "      <th>94</th>\n",
       "      <td>201</td>\n",
       "      <td>90</td>\n",
       "    </tr>\n",
       "    <tr>\n",
       "      <th>95</th>\n",
       "      <td>202</td>\n",
       "      <td>120</td>\n",
       "    </tr>\n",
       "  </tbody>\n",
       "</table>\n",
       "<p>96 rows × 2 columns</p>\n",
       "</div>"
      ],
      "text/plain": [
       "    dep     P\n",
       "0     1   594\n",
       "1     2   676\n",
       "2     3   234\n",
       "3     4   168\n",
       "4     5   110\n",
       "..  ...   ...\n",
       "91   93  3414\n",
       "92   94  2436\n",
       "93   95  2388\n",
       "94  201    90\n",
       "95  202   120\n",
       "\n",
       "[96 rows x 2 columns]"
      ]
     },
     "execution_count": 58,
     "metadata": {},
     "output_type": "execute_result"
    }
   ],
   "source": [
    "live_positive"
   ]
  }
 ],
 "metadata": {
  "kernelspec": {
   "display_name": "Python 3",
   "language": "python",
   "name": "python3"
  },
  "language_info": {
   "codemirror_mode": {
    "name": "ipython",
    "version": 3
   },
   "file_extension": ".py",
   "mimetype": "text/x-python",
   "name": "python",
   "nbconvert_exporter": "python",
   "pygments_lexer": "ipython3",
   "version": "3.8.5"
  },
  "toc": {
   "base_numbering": 1,
   "nav_menu": {},
   "number_sections": true,
   "sideBar": true,
   "skip_h1_title": false,
   "title_cell": "Table of Contents",
   "title_sidebar": "Contents",
   "toc_cell": false,
   "toc_position": {},
   "toc_section_display": true,
   "toc_window_display": false
  },
  "varInspector": {
   "cols": {
    "lenName": 16,
    "lenType": 16,
    "lenVar": 40
   },
   "kernels_config": {
    "python": {
     "delete_cmd_postfix": "",
     "delete_cmd_prefix": "del ",
     "library": "var_list.py",
     "varRefreshCmd": "print(var_dic_list())"
    },
    "r": {
     "delete_cmd_postfix": ") ",
     "delete_cmd_prefix": "rm(",
     "library": "var_list.r",
     "varRefreshCmd": "cat(var_dic_list()) "
    }
   },
   "types_to_exclude": [
    "module",
    "function",
    "builtin_function_or_method",
    "instance",
    "_Feature"
   ],
   "window_display": false
  }
 },
 "nbformat": 4,
 "nbformat_minor": 4
}
