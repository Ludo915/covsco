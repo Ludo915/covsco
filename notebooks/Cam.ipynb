{
 "cells": [
  {
   "cell_type": "code",
   "execution_count": 1,
   "metadata": {
    "ExecuteTime": {
     "end_time": "2021-04-11T11:28:56.695623Z",
     "start_time": "2021-04-11T11:28:56.234776Z"
    }
   },
   "outputs": [],
   "source": [
    "import pandas as pd\n",
    "\n",
    "df = pd.read_csv('low_income.csv', sep=';')\n",
    "\n",
    "df.rename(columns={\n",
    "    'Corse du sud': 'Corse-du-Sud',\n",
    "    'Haute Corse': 'Haute-Corse',\n",
    "    \"Côtes d'Armor\": \"Côtes-d'Armor\"\n",
    "},\n",
    "            inplace=True)\n",
    "\n",
    "\n",
    "data = pd.read_csv(\n",
    "    '../data/train/all_data_merged/fr/Enriched_Covid_history_data.csv')\n",
    "depts = pd.read_csv('../data/train/pop/fr/departements-francais.csv', sep=';')\n",
    "\n",
    "depts_list = [element for element in depts['NOM']]\n",
    "\n",
    "pauvrete_dic = {\n",
    "    k: ('Unknown' if df[k][0] == 'nd' else\n",
    "        float(df[k][0].replace(\"\\u202f\", '.').replace(',','.')) if k in depts_list else 'todo') for k in df.columns}\n",
    "rsa_dic = {\n",
    "    k: ('Unknown' if df[k][1] == 'nd' else\n",
    "        float(df[k][1].replace(\"\\u202f\", '.').replace(',','.')) if k in depts_list else 'todo') for k in df.columns}\n",
    "ouvriers_dic = {\n",
    "    k: ('Unknown' if df[k][2] == 'nd' else\n",
    "        float(df[k][2].replace(\"\\u202f\", '.').replace(',','.')) if k in depts_list else 'todo') for k in df.columns}\n",
    "\n",
    "def add_feature(row, feature):\n",
    "    return feature[row['nom']]\n",
    "\n",
    "data['pauvrete'] = data.apply(add_feature, axis=1, feature=pauvrete_dic)\n",
    "data['rsa'] = data.apply(add_feature, axis=1, feature=rsa_dic)\n",
    "data['ouvriers'] = data.apply(add_feature, axis=1, feature=ouvriers_dic)\n"
   ]
  }
 ],
 "metadata": {
  "kernelspec": {
   "display_name": "Python 3",
   "language": "python",
   "name": "python3"
  },
  "language_info": {
   "codemirror_mode": {
    "name": "ipython",
    "version": 3
   },
   "file_extension": ".py",
   "mimetype": "text/x-python",
   "name": "python",
   "nbconvert_exporter": "python",
   "pygments_lexer": "ipython3",
   "version": "3.8.5"
  },
  "toc": {
   "base_numbering": 1,
   "nav_menu": {},
   "number_sections": true,
   "sideBar": true,
   "skip_h1_title": false,
   "title_cell": "Table of Contents",
   "title_sidebar": "Contents",
   "toc_cell": false,
   "toc_position": {},
   "toc_section_display": true,
   "toc_window_display": false
  },
  "varInspector": {
   "cols": {
    "lenName": 16,
    "lenType": 16,
    "lenVar": 40
   },
   "kernels_config": {
    "python": {
     "delete_cmd_postfix": "",
     "delete_cmd_prefix": "del ",
     "library": "var_list.py",
     "varRefreshCmd": "print(var_dic_list())"
    },
    "r": {
     "delete_cmd_postfix": ") ",
     "delete_cmd_prefix": "rm(",
     "library": "var_list.r",
     "varRefreshCmd": "cat(var_dic_list()) "
    }
   },
   "types_to_exclude": [
    "module",
    "function",
    "builtin_function_or_method",
    "instance",
    "_Feature"
   ],
   "window_display": false
  }
 },
 "nbformat": 4,
 "nbformat_minor": 4
}
