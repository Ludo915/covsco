{
 "cells": [
  {
   "cell_type": "code",
   "execution_count": 1,
   "metadata": {
    "ExecuteTime": {
     "end_time": "2021-04-19T16:12:36.326235Z",
     "start_time": "2021-04-19T16:12:33.669954Z"
    }
   },
   "outputs": [],
   "source": [
    "from hdx.hdx_configuration import Configuration \n",
    "from hdx.data.dataset import Dataset\n",
    "import requests\n",
    "import pandas as pd\n",
    "import numpy as np\n",
    "import csv\n",
    "from zipfile import ZipFile\n",
    "import os"
   ]
  },
  {
   "cell_type": "code",
   "execution_count": 2,
   "metadata": {
    "ExecuteTime": {
     "end_time": "2021-04-19T16:12:36.340733Z",
     "start_time": "2021-04-19T16:12:36.329145Z"
    }
   },
   "outputs": [],
   "source": [
    "def download_url(url, save_path, chunk_size=128):\n",
    "    r = requests.get(url, stream=True)\n",
    "    with open(save_path, 'wb') as fd:\n",
    "        for chunk in r.iter_content(chunk_size=chunk_size):\n",
    "            fd.write(chunk)"
   ]
  },
  {
   "cell_type": "markdown",
   "metadata": {
    "ExecuteTime": {
     "end_time": "2021-04-14T13:02:46.676618Z",
     "start_time": "2021-04-14T13:02:46.631505Z"
    }
   },
   "source": [
    "# Population"
   ]
  },
  {
   "cell_type": "code",
   "execution_count": 3,
   "metadata": {
    "ExecuteTime": {
     "end_time": "2021-04-19T16:12:36.411544Z",
     "start_time": "2021-04-19T16:12:36.348409Z"
    }
   },
   "outputs": [
    {
     "data": {
      "text/html": [
       "<div>\n",
       "<style scoped>\n",
       "    .dataframe tbody tr th:only-of-type {\n",
       "        vertical-align: middle;\n",
       "    }\n",
       "\n",
       "    .dataframe tbody tr th {\n",
       "        vertical-align: top;\n",
       "    }\n",
       "\n",
       "    .dataframe thead th {\n",
       "        text-align: right;\n",
       "    }\n",
       "</style>\n",
       "<table border=\"1\" class=\"dataframe\">\n",
       "  <thead>\n",
       "    <tr style=\"text-align: right;\">\n",
       "      <th></th>\n",
       "      <th>dep_num</th>\n",
       "      <th>name</th>\n",
       "      <th>region</th>\n",
       "      <th>capital</th>\n",
       "      <th>area</th>\n",
       "      <th>total</th>\n",
       "      <th>density</th>\n",
       "    </tr>\n",
       "  </thead>\n",
       "  <tbody>\n",
       "    <tr>\n",
       "      <th>0</th>\n",
       "      <td>1</td>\n",
       "      <td>Ain</td>\n",
       "      <td>Auvergne-Rhône-Alpes</td>\n",
       "      <td>Bourg-en-Bresse</td>\n",
       "      <td>5762</td>\n",
       "      <td>631877</td>\n",
       "      <td>109.7</td>\n",
       "    </tr>\n",
       "    <tr>\n",
       "      <th>1</th>\n",
       "      <td>2</td>\n",
       "      <td>Aisne</td>\n",
       "      <td>Hauts-de-France</td>\n",
       "      <td>Laon</td>\n",
       "      <td>7369</td>\n",
       "      <td>538659</td>\n",
       "      <td>73.1</td>\n",
       "    </tr>\n",
       "    <tr>\n",
       "      <th>2</th>\n",
       "      <td>3</td>\n",
       "      <td>Allier</td>\n",
       "      <td>Auvergne-Rhône-Alpes</td>\n",
       "      <td>Moulins</td>\n",
       "      <td>7340</td>\n",
       "      <td>341613</td>\n",
       "      <td>46.5</td>\n",
       "    </tr>\n",
       "    <tr>\n",
       "      <th>3</th>\n",
       "      <td>4</td>\n",
       "      <td>Alpes-de-Haute-Provence</td>\n",
       "      <td>Provence-Alpes-Côte d'Azur</td>\n",
       "      <td>Digne</td>\n",
       "      <td>6925</td>\n",
       "      <td>161799</td>\n",
       "      <td>23.4</td>\n",
       "    </tr>\n",
       "    <tr>\n",
       "      <th>4</th>\n",
       "      <td>5</td>\n",
       "      <td>Hautes-Alpes</td>\n",
       "      <td>Provence-Alpes-Côte d'Azur</td>\n",
       "      <td>Gap</td>\n",
       "      <td>5549</td>\n",
       "      <td>140916</td>\n",
       "      <td>25.4</td>\n",
       "    </tr>\n",
       "    <tr>\n",
       "      <th>...</th>\n",
       "      <td>...</td>\n",
       "      <td>...</td>\n",
       "      <td>...</td>\n",
       "      <td>...</td>\n",
       "      <td>...</td>\n",
       "      <td>...</td>\n",
       "      <td>...</td>\n",
       "    </tr>\n",
       "    <tr>\n",
       "      <th>93</th>\n",
       "      <td>93</td>\n",
       "      <td>Seine-Saint-Denis</td>\n",
       "      <td>Île-de-France</td>\n",
       "      <td>Bobigny</td>\n",
       "      <td>236</td>\n",
       "      <td>1592663</td>\n",
       "      <td>6742.9</td>\n",
       "    </tr>\n",
       "    <tr>\n",
       "      <th>94</th>\n",
       "      <td>94</td>\n",
       "      <td>Val-de-Marne</td>\n",
       "      <td>Île-de-France</td>\n",
       "      <td>Créteil</td>\n",
       "      <td>245</td>\n",
       "      <td>1372389</td>\n",
       "      <td>5601.6</td>\n",
       "    </tr>\n",
       "    <tr>\n",
       "      <th>95</th>\n",
       "      <td>95</td>\n",
       "      <td>Val-d'Oise</td>\n",
       "      <td>Île-de-France</td>\n",
       "      <td>Pontoise</td>\n",
       "      <td>1246</td>\n",
       "      <td>1215390</td>\n",
       "      <td>975.5</td>\n",
       "    </tr>\n",
       "    <tr>\n",
       "      <th>19</th>\n",
       "      <td>201</td>\n",
       "      <td>Corse-du-Sud</td>\n",
       "      <td>Corse</td>\n",
       "      <td>Ajaccio</td>\n",
       "      <td>4014</td>\n",
       "      <td>152730</td>\n",
       "      <td>38.0</td>\n",
       "    </tr>\n",
       "    <tr>\n",
       "      <th>20</th>\n",
       "      <td>202</td>\n",
       "      <td>Haute-Corse</td>\n",
       "      <td>Corse</td>\n",
       "      <td>Bastia</td>\n",
       "      <td>4666</td>\n",
       "      <td>174553</td>\n",
       "      <td>37.4</td>\n",
       "    </tr>\n",
       "  </tbody>\n",
       "</table>\n",
       "<p>96 rows × 7 columns</p>\n",
       "</div>"
      ],
      "text/plain": [
       "    dep_num                     name                      region  \\\n",
       "0         1                      Ain        Auvergne-Rhône-Alpes   \n",
       "1         2                    Aisne             Hauts-de-France   \n",
       "2         3                   Allier        Auvergne-Rhône-Alpes   \n",
       "3         4  Alpes-de-Haute-Provence  Provence-Alpes-Côte d'Azur   \n",
       "4         5             Hautes-Alpes  Provence-Alpes-Côte d'Azur   \n",
       "..      ...                      ...                         ...   \n",
       "93       93        Seine-Saint-Denis               Île-de-France   \n",
       "94       94             Val-de-Marne               Île-de-France   \n",
       "95       95               Val-d'Oise               Île-de-France   \n",
       "19      201             Corse-du-Sud                       Corse   \n",
       "20      202              Haute-Corse                       Corse   \n",
       "\n",
       "            capital  area    total  density  \n",
       "0   Bourg-en-Bresse  5762   631877    109.7  \n",
       "1              Laon  7369   538659     73.1  \n",
       "2           Moulins  7340   341613     46.5  \n",
       "3             Digne  6925   161799     23.4  \n",
       "4               Gap  5549   140916     25.4  \n",
       "..              ...   ...      ...      ...  \n",
       "93          Bobigny   236  1592663   6742.9  \n",
       "94          Créteil   245  1372389   5601.6  \n",
       "95         Pontoise  1246  1215390    975.5  \n",
       "19          Ajaccio  4014   152730     38.0  \n",
       "20           Bastia  4666   174553     37.4  \n",
       "\n",
       "[96 rows x 7 columns]"
      ]
     },
     "execution_count": 3,
     "metadata": {},
     "output_type": "execute_result"
    }
   ],
   "source": [
    "prediction_data  = pd.read_csv('../data/train/pop/fr/departements-francais.csv', sep=';')\n",
    "prediction_data.columns = ['dep_num', 'name', 'region', 'capital', 'area', 'total', 'density']\n",
    "prediction_data = prediction_data.sort_values('dep_num')\n",
    "prediction_data = prediction_data[:-5]\n",
    "prediction_data['region'] = prediction_data['region'].replace({'Ile-de-France':'Île-de-France'})\n",
    "prediction_data"
   ]
  },
  {
   "cell_type": "markdown",
   "metadata": {
    "heading_collapsed": true
   },
   "source": [
    "# Covid"
   ]
  },
  {
   "cell_type": "code",
   "execution_count": 4,
   "metadata": {
    "ExecuteTime": {
     "end_time": "2021-04-19T16:12:36.430128Z",
     "start_time": "2021-04-19T16:12:36.422789Z"
    },
    "hidden": true
   },
   "outputs": [],
   "source": [
    "#import requests\n",
    "#import pandas as pd\n",
    "#import datetime\n",
    "#departements = pd.read_csv(\"data/pop/fr/departements-francais.csv\", sep = \";\")\n",
    "#hospi = []\n",
    "#url = \"https://coronavirusapi-france.now.sh/AllLiveData\"\n",
    "#response = requests.get(url).json()\n",
    "#counter = 0\n",
    "#for numero in departements.NUMÉRO:\n",
    "#    nom = str(departements[departements[\"NUMÉRO\"]==numero][\"NOM\"].values[0])\n",
    "#    hospi.append((nom, numero, response[\"allLiveFranceData\"][counter][\"nouvellesHospitalisations\"]))\n",
    "#    counter+=1\n",
    "#\n",
    "#df = pd.DataFrame(hospi, columns =[\"depname\",\"depnum\",\"newhospi\"])\n",
    "#print(df)\n",
    "#df.to_csv(\"covid_daily_data.csv\", index = False)"
   ]
  },
  {
   "cell_type": "markdown",
   "metadata": {
    "heading_collapsed": true
   },
   "source": [
    "# CAMS"
   ]
  },
  {
   "cell_type": "code",
   "execution_count": 5,
   "metadata": {
    "ExecuteTime": {
     "end_time": "2021-04-19T16:12:36.446357Z",
     "start_time": "2021-04-19T16:12:36.437332Z"
    },
    "hidden": true
   },
   "outputs": [],
   "source": [
    "#to_do (Niclas ?)"
   ]
  },
  {
   "cell_type": "markdown",
   "metadata": {},
   "source": [
    "# Mobility"
   ]
  },
  {
   "cell_type": "code",
   "execution_count": 6,
   "metadata": {
    "ExecuteTime": {
     "end_time": "2021-04-19T16:12:51.661023Z",
     "start_time": "2021-04-19T16:12:36.456109Z"
    }
   },
   "outputs": [],
   "source": [
    "Configuration.create(hdx_site='prod', user_agent='A_Quick_Example', hdx_read_only=True)\n",
    "dataset = Dataset.read_from_hdx('movement-range-maps')\n",
    "resources = dataset.get_resources()\n",
    "dic = resources[1]\n",
    "url_mobility = dic['download_url']\n",
    "\n",
    "file_mobility = \"../data/prediction/mvt_range.zip\"\n",
    "download_url(url_mobility, file_mobility)"
   ]
  },
  {
   "cell_type": "code",
   "execution_count": 7,
   "metadata": {
    "ExecuteTime": {
     "end_time": "2021-04-19T16:12:55.126937Z",
     "start_time": "2021-04-19T16:12:51.665511Z"
    }
   },
   "outputs": [
    {
     "name": "stdout",
     "output_type": "stream",
     "text": [
      "File Name                                             Modified             Size\n",
      "README.txt                                     2021-04-19 07:36:38          961\n",
      "movement-range-2021-04-18.txt                  2021-04-19 07:36:54    573204711\n",
      "Extracting mv_range file now...\n",
      "Done!\n"
     ]
    }
   ],
   "source": [
    "with ZipFile(file_mobility, 'r') as zip:\n",
    "    # printing all the contents of the zip file\n",
    "    zip.printdir()\n",
    "  \n",
    "    # extracting all the files\n",
    "    print('Extracting mv_range file now...')\n",
    "    mvt_range = zip.namelist()[-1]\n",
    "    zip.extract(mvt_range)\n",
    "    print('Done!')"
   ]
  },
  {
   "cell_type": "code",
   "execution_count": 8,
   "metadata": {
    "ExecuteTime": {
     "end_time": "2021-04-19T16:13:35.556821Z",
     "start_time": "2021-04-19T16:12:55.152669Z"
    }
   },
   "outputs": [],
   "source": [
    "with open(mvt_range) as f:\n",
    "    reader = csv.reader(f, delimiter=\"\\t\")\n",
    "    d = list(reader)"
   ]
  },
  {
   "cell_type": "code",
   "execution_count": 9,
   "metadata": {
    "ExecuteTime": {
     "end_time": "2021-04-19T16:13:49.040964Z",
     "start_time": "2021-04-19T16:13:35.564632Z"
    }
   },
   "outputs": [],
   "source": [
    "data_mob = pd.DataFrame(d[1:], columns=d[0])\n",
    "data_mob = data_mob[data_mob['country']=='FRA']"
   ]
  },
  {
   "cell_type": "code",
   "execution_count": 10,
   "metadata": {
    "ExecuteTime": {
     "end_time": "2021-04-19T16:13:49.062887Z",
     "start_time": "2021-04-19T16:13:49.043860Z"
    }
   },
   "outputs": [],
   "source": [
    "data_mob = data_mob[data_mob['ds']==list(data_mob.iloc[[-1]]['ds'])[0]][['ds', 'polygon_name', 'all_day_bing_tiles_visited_relative_change', 'all_day_ratio_single_tile_users']]"
   ]
  },
  {
   "cell_type": "code",
   "execution_count": null,
   "metadata": {
    "ExecuteTime": {
     "end_time": "2021-04-16T11:01:01.766508Z",
     "start_time": "2021-04-16T11:01:01.677527Z"
    }
   },
   "outputs": [],
   "source": []
  },
  {
   "cell_type": "code",
   "execution_count": 11,
   "metadata": {
    "ExecuteTime": {
     "end_time": "2021-04-19T16:13:49.083316Z",
     "start_time": "2021-04-19T16:13:49.065850Z"
    }
   },
   "outputs": [],
   "source": [
    "prediction_data['stay_put'] = 0.0\n",
    "prediction_data['go_out'] = 0.0"
   ]
  },
  {
   "cell_type": "code",
   "execution_count": 12,
   "metadata": {
    "ExecuteTime": {
     "end_time": "2021-04-19T16:13:49.100555Z",
     "start_time": "2021-04-19T16:13:49.089898Z"
    }
   },
   "outputs": [],
   "source": [
    "def add_go_out(row):\n",
    "    region = row['region']\n",
    "    go_out = data_mob[data_mob['polygon_name']==region]['all_day_bing_tiles_visited_relative_change']\n",
    "    return float(list(go_out)[0])\n",
    "     \n",
    "def add_stay_put(row):   \n",
    "    region = row['region']\n",
    "    stay_put = data_mob[data_mob['polygon_name']==region]['all_day_ratio_single_tile_users']\n",
    "    return float(list(stay_put)[0])"
   ]
  },
  {
   "cell_type": "code",
   "execution_count": 13,
   "metadata": {
    "ExecuteTime": {
     "end_time": "2021-04-19T16:13:49.348212Z",
     "start_time": "2021-04-19T16:13:49.112539Z"
    }
   },
   "outputs": [
    {
     "data": {
      "text/html": [
       "<div>\n",
       "<style scoped>\n",
       "    .dataframe tbody tr th:only-of-type {\n",
       "        vertical-align: middle;\n",
       "    }\n",
       "\n",
       "    .dataframe tbody tr th {\n",
       "        vertical-align: top;\n",
       "    }\n",
       "\n",
       "    .dataframe thead th {\n",
       "        text-align: right;\n",
       "    }\n",
       "</style>\n",
       "<table border=\"1\" class=\"dataframe\">\n",
       "  <thead>\n",
       "    <tr style=\"text-align: right;\">\n",
       "      <th></th>\n",
       "      <th>dep_num</th>\n",
       "      <th>name</th>\n",
       "      <th>region</th>\n",
       "      <th>capital</th>\n",
       "      <th>area</th>\n",
       "      <th>total</th>\n",
       "      <th>density</th>\n",
       "      <th>stay_put</th>\n",
       "      <th>go_out</th>\n",
       "    </tr>\n",
       "  </thead>\n",
       "  <tbody>\n",
       "    <tr>\n",
       "      <th>0</th>\n",
       "      <td>1</td>\n",
       "      <td>Ain</td>\n",
       "      <td>Auvergne-Rhône-Alpes</td>\n",
       "      <td>Bourg-en-Bresse</td>\n",
       "      <td>5762</td>\n",
       "      <td>631877</td>\n",
       "      <td>109.7</td>\n",
       "      <td>0.37066</td>\n",
       "      <td>-0.34622</td>\n",
       "    </tr>\n",
       "    <tr>\n",
       "      <th>1</th>\n",
       "      <td>2</td>\n",
       "      <td>Aisne</td>\n",
       "      <td>Hauts-de-France</td>\n",
       "      <td>Laon</td>\n",
       "      <td>7369</td>\n",
       "      <td>538659</td>\n",
       "      <td>73.1</td>\n",
       "      <td>0.34591</td>\n",
       "      <td>-0.19458</td>\n",
       "    </tr>\n",
       "    <tr>\n",
       "      <th>2</th>\n",
       "      <td>3</td>\n",
       "      <td>Allier</td>\n",
       "      <td>Auvergne-Rhône-Alpes</td>\n",
       "      <td>Moulins</td>\n",
       "      <td>7340</td>\n",
       "      <td>341613</td>\n",
       "      <td>46.5</td>\n",
       "      <td>0.37066</td>\n",
       "      <td>-0.34622</td>\n",
       "    </tr>\n",
       "    <tr>\n",
       "      <th>3</th>\n",
       "      <td>4</td>\n",
       "      <td>Alpes-de-Haute-Provence</td>\n",
       "      <td>Provence-Alpes-Côte d'Azur</td>\n",
       "      <td>Digne</td>\n",
       "      <td>6925</td>\n",
       "      <td>161799</td>\n",
       "      <td>23.4</td>\n",
       "      <td>0.35808</td>\n",
       "      <td>-0.32280</td>\n",
       "    </tr>\n",
       "    <tr>\n",
       "      <th>4</th>\n",
       "      <td>5</td>\n",
       "      <td>Hautes-Alpes</td>\n",
       "      <td>Provence-Alpes-Côte d'Azur</td>\n",
       "      <td>Gap</td>\n",
       "      <td>5549</td>\n",
       "      <td>140916</td>\n",
       "      <td>25.4</td>\n",
       "      <td>0.35808</td>\n",
       "      <td>-0.32280</td>\n",
       "    </tr>\n",
       "    <tr>\n",
       "      <th>...</th>\n",
       "      <td>...</td>\n",
       "      <td>...</td>\n",
       "      <td>...</td>\n",
       "      <td>...</td>\n",
       "      <td>...</td>\n",
       "      <td>...</td>\n",
       "      <td>...</td>\n",
       "      <td>...</td>\n",
       "      <td>...</td>\n",
       "    </tr>\n",
       "    <tr>\n",
       "      <th>93</th>\n",
       "      <td>93</td>\n",
       "      <td>Seine-Saint-Denis</td>\n",
       "      <td>Île-de-France</td>\n",
       "      <td>Bobigny</td>\n",
       "      <td>236</td>\n",
       "      <td>1592663</td>\n",
       "      <td>6742.9</td>\n",
       "      <td>0.33636</td>\n",
       "      <td>-0.24197</td>\n",
       "    </tr>\n",
       "    <tr>\n",
       "      <th>94</th>\n",
       "      <td>94</td>\n",
       "      <td>Val-de-Marne</td>\n",
       "      <td>Île-de-France</td>\n",
       "      <td>Créteil</td>\n",
       "      <td>245</td>\n",
       "      <td>1372389</td>\n",
       "      <td>5601.6</td>\n",
       "      <td>0.33636</td>\n",
       "      <td>-0.24197</td>\n",
       "    </tr>\n",
       "    <tr>\n",
       "      <th>95</th>\n",
       "      <td>95</td>\n",
       "      <td>Val-d'Oise</td>\n",
       "      <td>Île-de-France</td>\n",
       "      <td>Pontoise</td>\n",
       "      <td>1246</td>\n",
       "      <td>1215390</td>\n",
       "      <td>975.5</td>\n",
       "      <td>0.33636</td>\n",
       "      <td>-0.24197</td>\n",
       "    </tr>\n",
       "    <tr>\n",
       "      <th>19</th>\n",
       "      <td>201</td>\n",
       "      <td>Corse-du-Sud</td>\n",
       "      <td>Corse</td>\n",
       "      <td>Ajaccio</td>\n",
       "      <td>4014</td>\n",
       "      <td>152730</td>\n",
       "      <td>38.0</td>\n",
       "      <td>0.34819</td>\n",
       "      <td>-0.29520</td>\n",
       "    </tr>\n",
       "    <tr>\n",
       "      <th>20</th>\n",
       "      <td>202</td>\n",
       "      <td>Haute-Corse</td>\n",
       "      <td>Corse</td>\n",
       "      <td>Bastia</td>\n",
       "      <td>4666</td>\n",
       "      <td>174553</td>\n",
       "      <td>37.4</td>\n",
       "      <td>0.34819</td>\n",
       "      <td>-0.29520</td>\n",
       "    </tr>\n",
       "  </tbody>\n",
       "</table>\n",
       "<p>96 rows × 9 columns</p>\n",
       "</div>"
      ],
      "text/plain": [
       "    dep_num                     name                      region  \\\n",
       "0         1                      Ain        Auvergne-Rhône-Alpes   \n",
       "1         2                    Aisne             Hauts-de-France   \n",
       "2         3                   Allier        Auvergne-Rhône-Alpes   \n",
       "3         4  Alpes-de-Haute-Provence  Provence-Alpes-Côte d'Azur   \n",
       "4         5             Hautes-Alpes  Provence-Alpes-Côte d'Azur   \n",
       "..      ...                      ...                         ...   \n",
       "93       93        Seine-Saint-Denis               Île-de-France   \n",
       "94       94             Val-de-Marne               Île-de-France   \n",
       "95       95               Val-d'Oise               Île-de-France   \n",
       "19      201             Corse-du-Sud                       Corse   \n",
       "20      202              Haute-Corse                       Corse   \n",
       "\n",
       "            capital  area    total  density  stay_put   go_out  \n",
       "0   Bourg-en-Bresse  5762   631877    109.7   0.37066 -0.34622  \n",
       "1              Laon  7369   538659     73.1   0.34591 -0.19458  \n",
       "2           Moulins  7340   341613     46.5   0.37066 -0.34622  \n",
       "3             Digne  6925   161799     23.4   0.35808 -0.32280  \n",
       "4               Gap  5549   140916     25.4   0.35808 -0.32280  \n",
       "..              ...   ...      ...      ...       ...      ...  \n",
       "93          Bobigny   236  1592663   6742.9   0.33636 -0.24197  \n",
       "94          Créteil   245  1372389   5601.6   0.33636 -0.24197  \n",
       "95         Pontoise  1246  1215390    975.5   0.33636 -0.24197  \n",
       "19          Ajaccio  4014   152730     38.0   0.34819 -0.29520  \n",
       "20           Bastia  4666   174553     37.4   0.34819 -0.29520  \n",
       "\n",
       "[96 rows x 9 columns]"
      ]
     },
     "execution_count": 13,
     "metadata": {},
     "output_type": "execute_result"
    }
   ],
   "source": [
    "prediction_data['go_out'] = prediction_data.apply(add_go_out, axis=1)\n",
    "prediction_data['stay_put'] = prediction_data.apply(add_stay_put, axis=1)\n",
    "prediction_data"
   ]
  },
  {
   "cell_type": "markdown",
   "metadata": {},
   "source": [
    "# Vaccins"
   ]
  },
  {
   "cell_type": "code",
   "execution_count": 14,
   "metadata": {
    "ExecuteTime": {
     "end_time": "2021-04-19T16:13:49.831678Z",
     "start_time": "2021-04-19T16:13:49.364830Z"
    }
   },
   "outputs": [],
   "source": [
    "url_positive_test = 'https://www.data.gouv.fr/es/datasets/r/59aeab47-c364-462c-9087-ce233b6acbbc'\n",
    "download_url(url_positive_test, '../data/prediction/live_vaccins.csv')"
   ]
  },
  {
   "cell_type": "code",
   "execution_count": 15,
   "metadata": {
    "ExecuteTime": {
     "end_time": "2021-04-19T16:13:50.522352Z",
     "start_time": "2021-04-19T16:13:49.837281Z"
    }
   },
   "outputs": [
    {
     "ename": "NameError",
     "evalue": "name 'vacc_1_reg' is not defined",
     "output_type": "error",
     "traceback": [
      "\u001b[0;31m---------------------------------------------------------------------------\u001b[0m",
      "\u001b[0;31mNameError\u001b[0m                                 Traceback (most recent call last)",
      "\u001b[0;32m<ipython-input-15-e962e94bb3b8>\u001b[0m in \u001b[0;36m<module>\u001b[0;34m\u001b[0m\n\u001b[1;32m      1\u001b[0m \u001b[0mlive_vacc\u001b[0m \u001b[0;34m=\u001b[0m \u001b[0mpd\u001b[0m\u001b[0;34m.\u001b[0m\u001b[0mread_csv\u001b[0m\u001b[0;34m(\u001b[0m\u001b[0;34m'../data/prediction/live_vaccins.csv'\u001b[0m\u001b[0;34m)\u001b[0m\u001b[0;34m\u001b[0m\u001b[0;34m\u001b[0m\u001b[0m\n\u001b[0;32m----> 2\u001b[0;31m \u001b[0mlive_vacc\u001b[0m\u001b[0;34m[\u001b[0m\u001b[0;34m'date_debut_semaine'\u001b[0m\u001b[0;34m]\u001b[0m \u001b[0;34m=\u001b[0m \u001b[0mpd\u001b[0m\u001b[0;34m.\u001b[0m\u001b[0mto_datetime\u001b[0m\u001b[0;34m(\u001b[0m\u001b[0mvacc_1_reg\u001b[0m\u001b[0;34m[\u001b[0m\u001b[0;34m'date_debut_semaine'\u001b[0m\u001b[0;34m]\u001b[0m\u001b[0;34m)\u001b[0m\u001b[0;34m\u001b[0m\u001b[0;34m\u001b[0m\u001b[0m\n\u001b[0m\u001b[1;32m      3\u001b[0m \u001b[0mdate_max\u001b[0m \u001b[0;34m=\u001b[0m \u001b[0mvacc_1_reg\u001b[0m\u001b[0;34m[\u001b[0m\u001b[0;34m'date_debut_semaine'\u001b[0m\u001b[0;34m]\u001b[0m\u001b[0;34m.\u001b[0m\u001b[0mmax\u001b[0m\u001b[0;34m(\u001b[0m\u001b[0;34m)\u001b[0m\u001b[0;34m\u001b[0m\u001b[0;34m\u001b[0m\u001b[0m\n",
      "\u001b[0;31mNameError\u001b[0m: name 'vacc_1_reg' is not defined"
     ]
    }
   ],
   "source": [
    "live_vacc = pd.read_csv('../data/prediction/live_vaccins.csv')\n",
    "live_vacc['date_debut_semaine'] = pd.to_datetime(vacc_1_reg['date_debut_semaine'])\n",
    "date_max = vacc_1_reg['date_debut_semaine'].max()"
   ]
  },
  {
   "cell_type": "code",
   "execution_count": null,
   "metadata": {
    "ExecuteTime": {
     "end_time": "2021-04-19T16:13:50.545128Z",
     "start_time": "2021-04-19T16:12:33.724Z"
    }
   },
   "outputs": [],
   "source": [
    "vacc_1 = live_vacc[live_vacc['rang_vaccinal']==1]\n",
    "vacc_2 = live_vacc[live_vacc['rang_vaccinal']==2]"
   ]
  },
  {
   "cell_type": "code",
   "execution_count": null,
   "metadata": {
    "ExecuteTime": {
     "end_time": "2021-04-19T16:13:50.548860Z",
     "start_time": "2021-04-19T16:12:33.728Z"
    }
   },
   "outputs": [],
   "source": [
    "prediction_data"
   ]
  },
  {
   "cell_type": "code",
   "execution_count": null,
   "metadata": {
    "ExecuteTime": {
     "end_time": "2021-04-19T16:13:50.553426Z",
     "start_time": "2021-04-19T16:12:33.733Z"
    }
   },
   "outputs": [],
   "source": [
    "vacc_1_reg = vacc_1[vacc_1['code_region']==4]\n",
    "vacc_1_reg\n",
    "#vacc_1_reg[vacc_1_reg['date_debut_semaine']==date_max]['nb']"
   ]
  },
  {
   "cell_type": "code",
   "execution_count": null,
   "metadata": {
    "ExecuteTime": {
     "end_time": "2021-04-19T16:13:50.556950Z",
     "start_time": "2021-04-19T16:12:33.737Z"
    }
   },
   "outputs": [],
   "source": [
    "def live_vacc_1(row):\n",
    "    dep = row['dep_num']\n",
    "    vacc_1_reg = vacc_1[vacc_1['code_region']==dep]\n",
    "    if vacc_1_reg.shape[0]!=0:\n",
    "        nb_series = vacc_1_reg[vacc_1_reg['date_debut_semaine']==date_max]['nb']\n",
    "        nb = list(nb_series)[0]\n",
    "    else : \n",
    "        nb=0\n",
    "    return nb\n",
    "\n",
    "def live_vacc_2(row):\n",
    "    dep = row['dep_num']\n",
    "    vacc_2_reg = vacc_2[vacc_2['code_region']==dep]\n",
    "    if vacc_2_reg.shape[0]!=0:\n",
    "        nb_series = vacc_2_reg[vacc_2_reg['date_debut_semaine']==date_max]['nb']\n",
    "        nb = list(nb_series)[0]\n",
    "    else : \n",
    "        nb=0\n",
    "    return nb"
   ]
  },
  {
   "cell_type": "code",
   "execution_count": null,
   "metadata": {
    "ExecuteTime": {
     "end_time": "2021-04-19T16:13:50.560297Z",
     "start_time": "2021-04-19T16:12:33.741Z"
    }
   },
   "outputs": [],
   "source": [
    "prediction_data['vacc_1'] = prediction_data.apply(live_vacc_1, axis=1)\n",
    "prediction_data['vacc_2'] = prediction_data.apply(live_vacc_2, axis=1)\n",
    "prediction_data"
   ]
  },
  {
   "cell_type": "markdown",
   "metadata": {},
   "source": [
    "# Positive tests"
   ]
  },
  {
   "cell_type": "code",
   "execution_count": null,
   "metadata": {},
   "outputs": [],
   "source": []
  },
  {
   "cell_type": "code",
   "execution_count": null,
   "metadata": {},
   "outputs": [],
   "source": []
  }
 ],
 "metadata": {
  "kernelspec": {
   "display_name": "Python 3",
   "language": "python",
   "name": "python3"
  },
  "language_info": {
   "codemirror_mode": {
    "name": "ipython",
    "version": 3
   },
   "file_extension": ".py",
   "mimetype": "text/x-python",
   "name": "python",
   "nbconvert_exporter": "python",
   "pygments_lexer": "ipython3",
   "version": "3.8.5"
  },
  "toc": {
   "base_numbering": 1,
   "nav_menu": {},
   "number_sections": true,
   "sideBar": true,
   "skip_h1_title": false,
   "title_cell": "Table of Contents",
   "title_sidebar": "Contents",
   "toc_cell": false,
   "toc_position": {},
   "toc_section_display": true,
   "toc_window_display": false
  },
  "varInspector": {
   "cols": {
    "lenName": 16,
    "lenType": 16,
    "lenVar": 40
   },
   "kernels_config": {
    "python": {
     "delete_cmd_postfix": "",
     "delete_cmd_prefix": "del ",
     "library": "var_list.py",
     "varRefreshCmd": "print(var_dic_list())"
    },
    "r": {
     "delete_cmd_postfix": ") ",
     "delete_cmd_prefix": "rm(",
     "library": "var_list.r",
     "varRefreshCmd": "cat(var_dic_list()) "
    }
   },
   "types_to_exclude": [
    "module",
    "function",
    "builtin_function_or_method",
    "instance",
    "_Feature"
   ],
   "window_display": false
  }
 },
 "nbformat": 4,
 "nbformat_minor": 4
}
