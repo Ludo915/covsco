{
 "cells": [
  {
   "cell_type": "code",
   "execution_count": 1,
   "metadata": {
    "ExecuteTime": {
     "end_time": "2021-04-08T13:36:51.289428Z",
     "start_time": "2021-04-08T13:36:50.928735Z"
    }
   },
   "outputs": [],
   "source": [
    "import pandas as pd"
   ]
  },
  {
   "cell_type": "code",
   "execution_count": 2,
   "metadata": {
    "ExecuteTime": {
     "end_time": "2021-04-08T13:36:51.425901Z",
     "start_time": "2021-04-08T13:36:51.393311Z"
    }
   },
   "outputs": [],
   "source": [
    "df = pd.read_csv (\"../data/train/vaccination/fr/vaccination_hist_data.csv\", sep =\";\")\n",
    "df['departement'] = df['departement'].replace({'2A':'201','2B':'202'}).astype(int)\n",
    "df = df[df['departement']<203]\n",
    "df[\"date_debut_semaine\"]=pd.to_datetime(df[\"date_debut_semaine\"], dayfirst = True) "
   ]
  },
  {
   "cell_type": "code",
   "execution_count": 3,
   "metadata": {
    "ExecuteTime": {
     "end_time": "2021-04-08T13:36:58.088792Z",
     "start_time": "2021-04-08T13:36:57.537201Z"
    }
   },
   "outputs": [],
   "source": [
    "df2 = pd.read_csv(\"../data/train/all_data_merged/fr/Enriched_Covid_history_data.csv\", sep = \",\")\n",
    "df2[\"time\"]=pd.to_datetime(df2[\"time\"])"
   ]
  },
  {
   "cell_type": "code",
   "execution_count": 4,
   "metadata": {
    "ExecuteTime": {
     "end_time": "2021-04-08T13:36:58.400106Z",
     "start_time": "2021-04-08T13:36:58.388997Z"
    }
   },
   "outputs": [],
   "source": [
    "dfvac1 = df[df[\"rang_vaccinal\"]==1].reset_index()\n",
    "dfvac2 = df[df[\"rang_vaccinal\"]==2].reset_index()"
   ]
  },
  {
   "cell_type": "code",
   "execution_count": 5,
   "metadata": {
    "ExecuteTime": {
     "end_time": "2021-04-08T13:36:59.478346Z",
     "start_time": "2021-04-08T13:36:59.471183Z"
    }
   },
   "outputs": [],
   "source": [
    "referencedate1 = dfvac1['date_debut_semaine'].min()\n",
    "referencedate2 = dfvac2['date_debut_semaine'].min()\n",
    "#print('vac1 :', referencedate1, '\\n', 'vac2 :', referencedate2)"
   ]
  },
  {
   "cell_type": "code",
   "execution_count": 6,
   "metadata": {
    "ExecuteTime": {
     "end_time": "2021-04-08T13:37:00.329331Z",
     "start_time": "2021-04-08T13:37:00.269470Z"
    }
   },
   "outputs": [],
   "source": [
    "cum1 = dfvac1.groupby(['departement', 'date_debut_semaine']).sum().groupby(level=0).cumsum().sort_values(\"date_debut_semaine\").reset_index().drop(columns = \"index\")\n",
    "cum2 = dfvac2.groupby(['departement', 'date_debut_semaine']).sum().groupby(level=0).cumsum().sort_values(\"date_debut_semaine\").reset_index().drop(columns = \"index\")"
   ]
  },
  {
   "cell_type": "code",
   "execution_count": 7,
   "metadata": {
    "ExecuteTime": {
     "end_time": "2021-04-08T13:37:06.725450Z",
     "start_time": "2021-04-08T13:37:04.878858Z"
    }
   },
   "outputs": [],
   "source": [
    "def create_possibilities(row):\n",
    "    return pd.date_range(start=row['date_debut_semaine'], periods=7).tolist()\n",
    "\n",
    "\n",
    "cum1['7_days'] = cum1.apply(create_possibilities, axis=1)\n",
    "cum2['7_days'] = cum2.apply(create_possibilities, axis=1)"
   ]
  },
  {
   "cell_type": "code",
   "execution_count": 8,
   "metadata": {
    "ExecuteTime": {
     "end_time": "2021-04-08T13:37:07.205249Z",
     "start_time": "2021-04-08T13:37:07.195284Z"
    }
   },
   "outputs": [],
   "source": [
    "def check_variant(v_row, date):\n",
    "    if date in v_row['7_days']:\n",
    "#        print(v_row['nb'])\n",
    "        return v_row['nb']\n"
   ]
  },
  {
   "cell_type": "code",
   "execution_count": 9,
   "metadata": {
    "ExecuteTime": {
     "end_time": "2021-04-08T13:37:09.947601Z",
     "start_time": "2021-04-08T13:37:09.936046Z"
    }
   },
   "outputs": [],
   "source": [
    "def enriched_variant(row):\n",
    "    date = row['time']\n",
    "    depnum = row['numero']\n",
    "    if date < referencedate1:\n",
    "        row['vac1nb'], row['vac2nb'] = 0, 0\n",
    "    else:\n",
    "        cum1_dep = cum1[cum1['departement'] == depnum]\n",
    "        res1 = cum1_dep.apply(check_variant, date=date, axis=1)\n",
    "        first1 = [el for el in res1 if el == el][0]  #get the first non null element of res \n",
    "        \n",
    "        cum2_dep = cum2[cum2['departement'] == depnum]\n",
    "        res2 = cum2_dep.apply(check_variant, date=date, axis=1)\n",
    "#        print(res2)\n",
    "        first2 = next((el for el in res2 if el==el),None) #get the first non null element of res\n",
    "#        print(date)\n",
    "        if first2 is None:\n",
    "            first2 = 0\n",
    "#        print('both :',first1, first2)\n",
    "        row['vac1nb']= first1\n",
    "        row['vac2nb'] = first2\n",
    "    return None"
   ]
  },
  {
   "cell_type": "code",
   "execution_count": 10,
   "metadata": {
    "ExecuteTime": {
     "end_time": "2021-04-08T13:37:47.603204Z",
     "start_time": "2021-04-08T13:37:13.832967Z"
    }
   },
   "outputs": [
    {
     "data": {
      "text/plain": [
       "0        None\n",
       "1        None\n",
       "2        None\n",
       "3        None\n",
       "4        None\n",
       "         ... \n",
       "30490    None\n",
       "30491    None\n",
       "30492    None\n",
       "30493    None\n",
       "30494    None\n",
       "Length: 30495, dtype: object"
      ]
     },
     "execution_count": 10,
     "metadata": {},
     "output_type": "execute_result"
    }
   ],
   "source": [
    "df2.apply(enriched_variant, axis=1)"
   ]
  },
  {
   "cell_type": "code",
   "execution_count": null,
   "metadata": {
    "ExecuteTime": {
     "end_time": "2021-04-08T13:33:09.460224Z",
     "start_time": "2021-04-08T13:33:09.422853Z"
    }
   },
   "outputs": [],
   "source": [
    "df2"
   ]
  },
  {
   "cell_type": "code",
   "execution_count": 11,
   "metadata": {
    "ExecuteTime": {
     "end_time": "2021-04-08T13:37:48.613337Z",
     "start_time": "2021-04-08T13:37:48.049714Z"
    }
   },
   "outputs": [],
   "source": [
    "df3 = pd.read_csv(\"../data/train/all_data_merged/fr/Enriched_Covid_history_data.csv\", sep = \",\")\n",
    "df3[\"time\"]=pd.to_datetime(df3[\"time\"])\n",
    "test = df3[['time', 'vac1nb', 'vac2nb']] == df2[['time', 'vac1nb', 'vac2nb']]"
   ]
  },
  {
   "cell_type": "code",
   "execution_count": 13,
   "metadata": {
    "ExecuteTime": {
     "end_time": "2021-04-08T13:37:54.304635Z",
     "start_time": "2021-04-08T13:37:54.292427Z"
    }
   },
   "outputs": [
    {
     "data": {
      "text/plain": [
       "array([ True])"
      ]
     },
     "execution_count": 13,
     "metadata": {},
     "output_type": "execute_result"
    }
   ],
   "source": [
    "test['vac2nb'].unique()"
   ]
  },
  {
   "cell_type": "code",
   "execution_count": null,
   "metadata": {
    "ExecuteTime": {
     "end_time": "2021-04-08T13:35:00.441099Z",
     "start_time": "2021-04-08T13:35:00.418067Z"
    }
   },
   "outputs": [],
   "source": [
    "essai = pd.DataFrame([[1, 2, 3],[4, 5, 6]], columns=['a', 'b', 'c'])\n",
    "essai"
   ]
  },
  {
   "cell_type": "code",
   "execution_count": null,
   "metadata": {
    "ExecuteTime": {
     "end_time": "2021-04-08T13:35:48.140764Z",
     "start_time": "2021-04-08T13:35:48.134698Z"
    }
   },
   "outputs": [],
   "source": [
    "def my_func(row):\n",
    "    row['b']=10\n",
    "    return None"
   ]
  },
  {
   "cell_type": "code",
   "execution_count": null,
   "metadata": {
    "ExecuteTime": {
     "end_time": "2021-04-08T13:35:56.632458Z",
     "start_time": "2021-04-08T13:35:56.616551Z"
    }
   },
   "outputs": [],
   "source": [
    "essai.apply(my_func, axis=1)"
   ]
  },
  {
   "cell_type": "code",
   "execution_count": null,
   "metadata": {
    "ExecuteTime": {
     "end_time": "2021-04-08T13:36:00.932253Z",
     "start_time": "2021-04-08T13:36:00.910837Z"
    }
   },
   "outputs": [],
   "source": [
    "essai"
   ]
  }
 ],
 "metadata": {
  "kernelspec": {
   "display_name": "Python 3",
   "language": "python",
   "name": "python3"
  },
  "language_info": {
   "codemirror_mode": {
    "name": "ipython",
    "version": 3
   },
   "file_extension": ".py",
   "mimetype": "text/x-python",
   "name": "python",
   "nbconvert_exporter": "python",
   "pygments_lexer": "ipython3",
   "version": "3.8.5"
  },
  "toc": {
   "base_numbering": 1,
   "nav_menu": {},
   "number_sections": true,
   "sideBar": true,
   "skip_h1_title": false,
   "title_cell": "Table of Contents",
   "title_sidebar": "Contents",
   "toc_cell": false,
   "toc_position": {},
   "toc_section_display": true,
   "toc_window_display": false
  },
  "varInspector": {
   "cols": {
    "lenName": 16,
    "lenType": 16,
    "lenVar": 40
   },
   "kernels_config": {
    "python": {
     "delete_cmd_postfix": "",
     "delete_cmd_prefix": "del ",
     "library": "var_list.py",
     "varRefreshCmd": "print(var_dic_list())"
    },
    "r": {
     "delete_cmd_postfix": ") ",
     "delete_cmd_prefix": "rm(",
     "library": "var_list.r",
     "varRefreshCmd": "cat(var_dic_list()) "
    }
   },
   "types_to_exclude": [
    "module",
    "function",
    "builtin_function_or_method",
    "instance",
    "_Feature"
   ],
   "window_display": false
  }
 },
 "nbformat": 4,
 "nbformat_minor": 4
}
