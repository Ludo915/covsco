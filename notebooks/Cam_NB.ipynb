{
 "cells": [
  {
   "cell_type": "code",
   "execution_count": 1,
   "metadata": {
    "ExecuteTime": {
     "end_time": "2021-04-08T09:05:31.091073Z",
     "start_time": "2021-04-08T09:05:30.534822Z"
    }
   },
   "outputs": [],
   "source": [
    "import pandas as pd\n",
    "from tqdm import tqdm"
   ]
  },
  {
   "cell_type": "code",
   "execution_count": 2,
   "metadata": {
    "ExecuteTime": {
     "end_time": "2021-04-08T09:05:31.883028Z",
     "start_time": "2021-04-08T09:05:31.095681Z"
    }
   },
   "outputs": [
    {
     "data": {
      "text/html": [
       "<div>\n",
       "<style scoped>\n",
       "    .dataframe tbody tr th:only-of-type {\n",
       "        vertical-align: middle;\n",
       "    }\n",
       "\n",
       "    .dataframe tbody tr th {\n",
       "        vertical-align: top;\n",
       "    }\n",
       "\n",
       "    .dataframe thead th {\n",
       "        text-align: right;\n",
       "    }\n",
       "</style>\n",
       "<table border=\"1\" class=\"dataframe\">\n",
       "  <thead>\n",
       "    <tr style=\"text-align: right;\">\n",
       "      <th></th>\n",
       "      <th>dep</th>\n",
       "      <th>semaine</th>\n",
       "      <th>Nb_susp_501Y_V1</th>\n",
       "      <th>Nb_susp_501Y_V2_3</th>\n",
       "    </tr>\n",
       "  </thead>\n",
       "  <tbody>\n",
       "    <tr>\n",
       "      <th>0</th>\n",
       "      <td>1</td>\n",
       "      <td>2021-02-12-2021-02-18</td>\n",
       "      <td>686</td>\n",
       "      <td>42</td>\n",
       "    </tr>\n",
       "    <tr>\n",
       "      <th>1</th>\n",
       "      <td>1</td>\n",
       "      <td>2021-02-13-2021-02-19</td>\n",
       "      <td>706</td>\n",
       "      <td>46</td>\n",
       "    </tr>\n",
       "    <tr>\n",
       "      <th>2</th>\n",
       "      <td>1</td>\n",
       "      <td>2021-02-14-2021-02-20</td>\n",
       "      <td>730</td>\n",
       "      <td>46</td>\n",
       "    </tr>\n",
       "    <tr>\n",
       "      <th>3</th>\n",
       "      <td>1</td>\n",
       "      <td>2021-02-15-2021-02-21</td>\n",
       "      <td>748</td>\n",
       "      <td>48</td>\n",
       "    </tr>\n",
       "    <tr>\n",
       "      <th>4</th>\n",
       "      <td>1</td>\n",
       "      <td>2021-02-16-2021-02-22</td>\n",
       "      <td>852</td>\n",
       "      <td>52</td>\n",
       "    </tr>\n",
       "    <tr>\n",
       "      <th>...</th>\n",
       "      <td>...</td>\n",
       "      <td>...</td>\n",
       "      <td>...</td>\n",
       "      <td>...</td>\n",
       "    </tr>\n",
       "    <tr>\n",
       "      <th>4219</th>\n",
       "      <td>202</td>\n",
       "      <td>2021-03-23-2021-03-29</td>\n",
       "      <td>302</td>\n",
       "      <td>14</td>\n",
       "    </tr>\n",
       "    <tr>\n",
       "      <th>4220</th>\n",
       "      <td>202</td>\n",
       "      <td>2021-03-24-2021-03-30</td>\n",
       "      <td>302</td>\n",
       "      <td>18</td>\n",
       "    </tr>\n",
       "    <tr>\n",
       "      <th>4221</th>\n",
       "      <td>202</td>\n",
       "      <td>2021-03-25-2021-03-31</td>\n",
       "      <td>328</td>\n",
       "      <td>18</td>\n",
       "    </tr>\n",
       "    <tr>\n",
       "      <th>4222</th>\n",
       "      <td>202</td>\n",
       "      <td>2021-03-26-2021-04-01</td>\n",
       "      <td>318</td>\n",
       "      <td>16</td>\n",
       "    </tr>\n",
       "    <tr>\n",
       "      <th>4223</th>\n",
       "      <td>202</td>\n",
       "      <td>2021-03-27-2021-04-02</td>\n",
       "      <td>286</td>\n",
       "      <td>12</td>\n",
       "    </tr>\n",
       "  </tbody>\n",
       "</table>\n",
       "<p>4224 rows × 4 columns</p>\n",
       "</div>"
      ],
      "text/plain": [
       "      dep                semaine  Nb_susp_501Y_V1  Nb_susp_501Y_V2_3\n",
       "0       1  2021-02-12-2021-02-18              686                 42\n",
       "1       1  2021-02-13-2021-02-19              706                 46\n",
       "2       1  2021-02-14-2021-02-20              730                 46\n",
       "3       1  2021-02-15-2021-02-21              748                 48\n",
       "4       1  2021-02-16-2021-02-22              852                 52\n",
       "...   ...                    ...              ...                ...\n",
       "4219  202  2021-03-23-2021-03-29              302                 14\n",
       "4220  202  2021-03-24-2021-03-30              302                 18\n",
       "4221  202  2021-03-25-2021-03-31              328                 18\n",
       "4222  202  2021-03-26-2021-04-01              318                 16\n",
       "4223  202  2021-03-27-2021-04-02              286                 12\n",
       "\n",
       "[4224 rows x 4 columns]"
      ]
     },
     "execution_count": 2,
     "metadata": {},
     "output_type": "execute_result"
    }
   ],
   "source": [
    "df = pd.read_csv(\"../data/train/variants/fr/variants_hist_data.csv\", sep =';')\n",
    "df2 = pd.read_csv(\"../data/train/all_data_merged/fr/Enriched_Covid_history_data.csv\")\n",
    "df2[\"time\"] = pd.to_datetime(df2[\"time\"])\n",
    "df['dep'] = df['dep'].replace({'2A':'201','2B':'202'}).astype(int)\n",
    "df = df[df['dep']<203]\n",
    "#df = df.groupby([\"dep\",\"semaine\"], level = -1).sum()[\"dep\",\"semaine\",\"Nb_susp_501Y_V1\",\"Nb_susp_501Y_V2_3\"]\n",
    "df= df.groupby(['dep', 'semaine'])[[\"dep\",\"semaine\",\"Nb_susp_501Y_V1\",\"Nb_susp_501Y_V2_3\"]].sum().drop(columns = [\"dep\"]).reset_index()\n",
    "df"
   ]
  },
  {
   "cell_type": "code",
   "execution_count": 3,
   "metadata": {
    "ExecuteTime": {
     "end_time": "2021-04-08T09:05:33.100615Z",
     "start_time": "2021-04-08T09:05:31.899561Z"
    }
   },
   "outputs": [],
   "source": [
    "#10 premiers caractères datetime\n",
    "#réaffecter directement\n",
    "#récupérer la date minimum de variant_list (=df avec datetime)\n",
    "\n",
    "def to_datalist(row):\n",
    "    date = pd.to_datetime(row[\"semaine\"][0:10], yearfirst = True)\n",
    "    return date\n",
    "\n",
    "df['jour'] = df.apply(to_datalist, axis=1)\n",
    "df.drop(columns='semaine', inplace=True)\n",
    "df.rename(columns={'jour':'semaine'}, inplace=True)"
   ]
  },
  {
   "cell_type": "code",
   "execution_count": 4,
   "metadata": {
    "ExecuteTime": {
     "end_time": "2021-04-08T09:05:35.833289Z",
     "start_time": "2021-04-08T09:05:33.105089Z"
    }
   },
   "outputs": [
    {
     "data": {
      "text/html": [
       "<div>\n",
       "<style scoped>\n",
       "    .dataframe tbody tr th:only-of-type {\n",
       "        vertical-align: middle;\n",
       "    }\n",
       "\n",
       "    .dataframe tbody tr th {\n",
       "        vertical-align: top;\n",
       "    }\n",
       "\n",
       "    .dataframe thead th {\n",
       "        text-align: right;\n",
       "    }\n",
       "</style>\n",
       "<table border=\"1\" class=\"dataframe\">\n",
       "  <thead>\n",
       "    <tr style=\"text-align: right;\">\n",
       "      <th></th>\n",
       "      <th>dep</th>\n",
       "      <th>Nb_susp_501Y_V1</th>\n",
       "      <th>Nb_susp_501Y_V2_3</th>\n",
       "      <th>semaine</th>\n",
       "      <th>7_days</th>\n",
       "    </tr>\n",
       "  </thead>\n",
       "  <tbody>\n",
       "    <tr>\n",
       "      <th>0</th>\n",
       "      <td>1</td>\n",
       "      <td>686</td>\n",
       "      <td>42</td>\n",
       "      <td>2021-02-12</td>\n",
       "      <td>[2021-02-12 00:00:00, 2021-02-13 00:00:00, 202...</td>\n",
       "    </tr>\n",
       "    <tr>\n",
       "      <th>1</th>\n",
       "      <td>1</td>\n",
       "      <td>706</td>\n",
       "      <td>46</td>\n",
       "      <td>2021-02-13</td>\n",
       "      <td>[2021-02-13 00:00:00, 2021-02-14 00:00:00, 202...</td>\n",
       "    </tr>\n",
       "    <tr>\n",
       "      <th>2</th>\n",
       "      <td>1</td>\n",
       "      <td>730</td>\n",
       "      <td>46</td>\n",
       "      <td>2021-02-14</td>\n",
       "      <td>[2021-02-14 00:00:00, 2021-02-15 00:00:00, 202...</td>\n",
       "    </tr>\n",
       "    <tr>\n",
       "      <th>3</th>\n",
       "      <td>1</td>\n",
       "      <td>748</td>\n",
       "      <td>48</td>\n",
       "      <td>2021-02-15</td>\n",
       "      <td>[2021-02-15 00:00:00, 2021-02-16 00:00:00, 202...</td>\n",
       "    </tr>\n",
       "    <tr>\n",
       "      <th>4</th>\n",
       "      <td>1</td>\n",
       "      <td>852</td>\n",
       "      <td>52</td>\n",
       "      <td>2021-02-16</td>\n",
       "      <td>[2021-02-16 00:00:00, 2021-02-17 00:00:00, 202...</td>\n",
       "    </tr>\n",
       "    <tr>\n",
       "      <th>...</th>\n",
       "      <td>...</td>\n",
       "      <td>...</td>\n",
       "      <td>...</td>\n",
       "      <td>...</td>\n",
       "      <td>...</td>\n",
       "    </tr>\n",
       "    <tr>\n",
       "      <th>4219</th>\n",
       "      <td>202</td>\n",
       "      <td>302</td>\n",
       "      <td>14</td>\n",
       "      <td>2021-03-23</td>\n",
       "      <td>[2021-03-23 00:00:00, 2021-03-24 00:00:00, 202...</td>\n",
       "    </tr>\n",
       "    <tr>\n",
       "      <th>4220</th>\n",
       "      <td>202</td>\n",
       "      <td>302</td>\n",
       "      <td>18</td>\n",
       "      <td>2021-03-24</td>\n",
       "      <td>[2021-03-24 00:00:00, 2021-03-25 00:00:00, 202...</td>\n",
       "    </tr>\n",
       "    <tr>\n",
       "      <th>4221</th>\n",
       "      <td>202</td>\n",
       "      <td>328</td>\n",
       "      <td>18</td>\n",
       "      <td>2021-03-25</td>\n",
       "      <td>[2021-03-25 00:00:00, 2021-03-26 00:00:00, 202...</td>\n",
       "    </tr>\n",
       "    <tr>\n",
       "      <th>4222</th>\n",
       "      <td>202</td>\n",
       "      <td>318</td>\n",
       "      <td>16</td>\n",
       "      <td>2021-03-26</td>\n",
       "      <td>[2021-03-26 00:00:00, 2021-03-27 00:00:00, 202...</td>\n",
       "    </tr>\n",
       "    <tr>\n",
       "      <th>4223</th>\n",
       "      <td>202</td>\n",
       "      <td>286</td>\n",
       "      <td>12</td>\n",
       "      <td>2021-03-27</td>\n",
       "      <td>[2021-03-27 00:00:00, 2021-03-28 00:00:00, 202...</td>\n",
       "    </tr>\n",
       "  </tbody>\n",
       "</table>\n",
       "<p>4224 rows × 5 columns</p>\n",
       "</div>"
      ],
      "text/plain": [
       "      dep  Nb_susp_501Y_V1  Nb_susp_501Y_V2_3    semaine  \\\n",
       "0       1              686                 42 2021-02-12   \n",
       "1       1              706                 46 2021-02-13   \n",
       "2       1              730                 46 2021-02-14   \n",
       "3       1              748                 48 2021-02-15   \n",
       "4       1              852                 52 2021-02-16   \n",
       "...   ...              ...                ...        ...   \n",
       "4219  202              302                 14 2021-03-23   \n",
       "4220  202              302                 18 2021-03-24   \n",
       "4221  202              328                 18 2021-03-25   \n",
       "4222  202              318                 16 2021-03-26   \n",
       "4223  202              286                 12 2021-03-27   \n",
       "\n",
       "                                                 7_days  \n",
       "0     [2021-02-12 00:00:00, 2021-02-13 00:00:00, 202...  \n",
       "1     [2021-02-13 00:00:00, 2021-02-14 00:00:00, 202...  \n",
       "2     [2021-02-14 00:00:00, 2021-02-15 00:00:00, 202...  \n",
       "3     [2021-02-15 00:00:00, 2021-02-16 00:00:00, 202...  \n",
       "4     [2021-02-16 00:00:00, 2021-02-17 00:00:00, 202...  \n",
       "...                                                 ...  \n",
       "4219  [2021-03-23 00:00:00, 2021-03-24 00:00:00, 202...  \n",
       "4220  [2021-03-24 00:00:00, 2021-03-25 00:00:00, 202...  \n",
       "4221  [2021-03-25 00:00:00, 2021-03-26 00:00:00, 202...  \n",
       "4222  [2021-03-26 00:00:00, 2021-03-27 00:00:00, 202...  \n",
       "4223  [2021-03-27 00:00:00, 2021-03-28 00:00:00, 202...  \n",
       "\n",
       "[4224 rows x 5 columns]"
      ]
     },
     "execution_count": 4,
     "metadata": {},
     "output_type": "execute_result"
    }
   ],
   "source": [
    "def create_possibilities(row):\n",
    "    return pd.date_range(start = row['semaine'], periods=7).tolist()\n",
    "\n",
    "df['7_days'] = df.apply(create_possibilities, axis=1)\n",
    "df"
   ]
  },
  {
   "cell_type": "code",
   "execution_count": 5,
   "metadata": {
    "ExecuteTime": {
     "end_time": "2021-04-08T09:05:35.849444Z",
     "start_time": "2021-04-08T09:05:35.836739Z"
    }
   },
   "outputs": [],
   "source": [
    "referencedate = df['semaine'].min()"
   ]
  },
  {
   "cell_type": "code",
   "execution_count": 6,
   "metadata": {
    "ExecuteTime": {
     "end_time": "2021-04-08T09:05:35.868600Z",
     "start_time": "2021-04-08T09:05:35.855342Z"
    }
   },
   "outputs": [],
   "source": [
    "# regarder pour chaque row de Enriched si :\n",
    "# - le jour est avant le jour de début des variants\n",
    "# - le jour est dans la semaine suivant le row des variants\n",
    "# - append à Enriched+variant (= df de enriched + infos sur les variants)"
   ]
  },
  {
   "cell_type": "code",
   "execution_count": 7,
   "metadata": {
    "ExecuteTime": {
     "end_time": "2021-04-08T09:05:35.891824Z",
     "start_time": "2021-04-08T09:05:35.879945Z"
    }
   },
   "outputs": [],
   "source": [
    "def check_variant(v_row, date):\n",
    "    if date in v_row['7_days']:\n",
    "        return v_row['Nb_susp_501Y_V1'], v_row['Nb_susp_501Y_V2_3']\n",
    "  "
   ]
  },
  {
   "cell_type": "code",
   "execution_count": 8,
   "metadata": {
    "ExecuteTime": {
     "end_time": "2021-04-08T09:05:35.923279Z",
     "start_time": "2021-04-08T09:05:35.907819Z"
    }
   },
   "outputs": [],
   "source": [
    "def enriched_variant(row):\n",
    "    date = row['time']\n",
    "    depnum = row['numero']\n",
    "    if date < referencedate:\n",
    "        row['Nb_susp_501Y_V1'], row['Nb_susp_501Y_V2_3'] = 0, 0\n",
    "    else : \n",
    "        df_dep = df[df['dep']==depnum]\n",
    "        ans=[]\n",
    "        res = df_dep.apply(check_variant,date=date, axis=1)\n",
    "        ans.append(next((el for el in res if el is not None), None)) #get the first non null element of res\n",
    "        row['Nb_susp_501Y_V1'], row['Nb_susp_501Y_V2_3'] = ans[0][0], ans[0][1] \n",
    "    return None"
   ]
  },
  {
   "cell_type": "code",
   "execution_count": 9,
   "metadata": {
    "ExecuteTime": {
     "end_time": "2021-04-08T09:05:54.108518Z",
     "start_time": "2021-04-08T09:05:35.939217Z"
    }
   },
   "outputs": [
    {
     "data": {
      "text/plain": [
       "0        None\n",
       "1        None\n",
       "2        None\n",
       "3        None\n",
       "4        None\n",
       "         ... \n",
       "30585    None\n",
       "30586    None\n",
       "30587    None\n",
       "30588    None\n",
       "30589    None\n",
       "Length: 30590, dtype: object"
      ]
     },
     "execution_count": 9,
     "metadata": {},
     "output_type": "execute_result"
    }
   ],
   "source": [
    "df2.apply(enriched_variant, axis=1)"
   ]
  },
  {
   "cell_type": "code",
   "execution_count": 10,
   "metadata": {
    "ExecuteTime": {
     "end_time": "2021-04-08T09:05:54.139613Z",
     "start_time": "2021-04-08T09:05:54.112189Z"
    }
   },
   "outputs": [
    {
     "data": {
      "text/html": [
       "<div>\n",
       "<style scoped>\n",
       "    .dataframe tbody tr th:only-of-type {\n",
       "        vertical-align: middle;\n",
       "    }\n",
       "\n",
       "    .dataframe tbody tr th {\n",
       "        vertical-align: top;\n",
       "    }\n",
       "\n",
       "    .dataframe thead th {\n",
       "        text-align: right;\n",
       "    }\n",
       "</style>\n",
       "<table border=\"1\" class=\"dataframe\">\n",
       "  <thead>\n",
       "    <tr style=\"text-align: right;\">\n",
       "      <th></th>\n",
       "      <th>time</th>\n",
       "      <th>Nb_susp_501Y_V1</th>\n",
       "      <th>Nb_susp_501Y_V2_3</th>\n",
       "    </tr>\n",
       "  </thead>\n",
       "  <tbody>\n",
       "    <tr>\n",
       "      <th>0</th>\n",
       "      <td>2020-05-14</td>\n",
       "      <td>0</td>\n",
       "      <td>0</td>\n",
       "    </tr>\n",
       "    <tr>\n",
       "      <th>1</th>\n",
       "      <td>2020-05-15</td>\n",
       "      <td>0</td>\n",
       "      <td>0</td>\n",
       "    </tr>\n",
       "    <tr>\n",
       "      <th>2</th>\n",
       "      <td>2020-05-16</td>\n",
       "      <td>0</td>\n",
       "      <td>0</td>\n",
       "    </tr>\n",
       "    <tr>\n",
       "      <th>3</th>\n",
       "      <td>2020-05-17</td>\n",
       "      <td>0</td>\n",
       "      <td>0</td>\n",
       "    </tr>\n",
       "    <tr>\n",
       "      <th>4</th>\n",
       "      <td>2020-05-18</td>\n",
       "      <td>0</td>\n",
       "      <td>0</td>\n",
       "    </tr>\n",
       "    <tr>\n",
       "      <th>...</th>\n",
       "      <td>...</td>\n",
       "      <td>...</td>\n",
       "      <td>...</td>\n",
       "    </tr>\n",
       "    <tr>\n",
       "      <th>30585</th>\n",
       "      <td>2021-03-27</td>\n",
       "      <td>9561</td>\n",
       "      <td>432</td>\n",
       "    </tr>\n",
       "    <tr>\n",
       "      <th>30586</th>\n",
       "      <td>2021-03-28</td>\n",
       "      <td>9557</td>\n",
       "      <td>428</td>\n",
       "    </tr>\n",
       "    <tr>\n",
       "      <th>30587</th>\n",
       "      <td>2021-03-29</td>\n",
       "      <td>9496</td>\n",
       "      <td>396</td>\n",
       "    </tr>\n",
       "    <tr>\n",
       "      <th>30588</th>\n",
       "      <td>2021-03-30</td>\n",
       "      <td>8643</td>\n",
       "      <td>364</td>\n",
       "    </tr>\n",
       "    <tr>\n",
       "      <th>30589</th>\n",
       "      <td>2021-03-31</td>\n",
       "      <td>7915</td>\n",
       "      <td>332</td>\n",
       "    </tr>\n",
       "  </tbody>\n",
       "</table>\n",
       "<p>30590 rows × 3 columns</p>\n",
       "</div>"
      ],
      "text/plain": [
       "            time  Nb_susp_501Y_V1  Nb_susp_501Y_V2_3\n",
       "0     2020-05-14                0                  0\n",
       "1     2020-05-15                0                  0\n",
       "2     2020-05-16                0                  0\n",
       "3     2020-05-17                0                  0\n",
       "4     2020-05-18                0                  0\n",
       "...          ...              ...                ...\n",
       "30585 2021-03-27             9561                432\n",
       "30586 2021-03-28             9557                428\n",
       "30587 2021-03-29             9496                396\n",
       "30588 2021-03-30             8643                364\n",
       "30589 2021-03-31             7915                332\n",
       "\n",
       "[30590 rows x 3 columns]"
      ]
     },
     "execution_count": 10,
     "metadata": {},
     "output_type": "execute_result"
    }
   ],
   "source": [
    "df2[['time', 'Nb_susp_501Y_V1', 'Nb_susp_501Y_V2_3']]"
   ]
  }
 ],
 "metadata": {
  "kernelspec": {
   "display_name": "Python 3",
   "language": "python",
   "name": "python3"
  },
  "language_info": {
   "codemirror_mode": {
    "name": "ipython",
    "version": 3
   },
   "file_extension": ".py",
   "mimetype": "text/x-python",
   "name": "python",
   "nbconvert_exporter": "python",
   "pygments_lexer": "ipython3",
   "version": "3.8.5"
  },
  "toc": {
   "base_numbering": 1,
   "nav_menu": {},
   "number_sections": true,
   "sideBar": true,
   "skip_h1_title": false,
   "title_cell": "Table of Contents",
   "title_sidebar": "Contents",
   "toc_cell": false,
   "toc_position": {},
   "toc_section_display": true,
   "toc_window_display": false
  },
  "varInspector": {
   "cols": {
    "lenName": 16,
    "lenType": 16,
    "lenVar": 40
   },
   "kernels_config": {
    "python": {
     "delete_cmd_postfix": "",
     "delete_cmd_prefix": "del ",
     "library": "var_list.py",
     "varRefreshCmd": "print(var_dic_list())"
    },
    "r": {
     "delete_cmd_postfix": ") ",
     "delete_cmd_prefix": "rm(",
     "library": "var_list.r",
     "varRefreshCmd": "cat(var_dic_list()) "
    }
   },
   "types_to_exclude": [
    "module",
    "function",
    "builtin_function_or_method",
    "instance",
    "_Feature"
   ],
   "window_display": false
  }
 },
 "nbformat": 4,
 "nbformat_minor": 4
}
