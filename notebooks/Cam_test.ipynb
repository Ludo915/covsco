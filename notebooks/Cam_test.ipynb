{
 "cells": [
  {
   "cell_type": "code",
   "execution_count": 1,
   "metadata": {
    "ExecuteTime": {
     "end_time": "2021-04-09T15:19:53.225181Z",
     "start_time": "2021-04-09T15:02:52.308281Z"
    }
   },
   "outputs": [
    {
     "name": "stdout",
     "output_type": "stream",
     "text": [
      "Computing 1M trailing maximal pollution concentrations.. \n",
      "Computing maximal pollution concentrations.. \n",
      "\n",
      "\n",
      "compute_1M_MCs_assign_to_df 1019.23\n"
     ]
    }
   ],
   "source": [
    "import pandas as pd\n",
    "from datetime import timedelta\n",
    "from datetime import datetime\n",
    "from operator import itemgetter\n",
    "import time\n",
    "def simple_time_tracker(method):\n",
    "    def timed(*args, **kw):\n",
    "        ts = time.time()\n",
    "        result = method(*args, **kw)\n",
    "        te = time.time()\n",
    "        if 'log_time' in kw:\n",
    "            name = kw.get('log_name', method.__name__.upper())\n",
    "            kw['log_time'][name] = int(te - ts)\n",
    "        else:\n",
    "            print(method.__name__, round(te - ts, 2))\n",
    "        return result\n",
    "    return timed\n",
    "\n",
    "print(\"Computing 1M trailing maximal pollution concentrations.. \")\n",
    "data = pd.read_csv('../data/train/all_data_merged/fr/Enriched_Covid_history_data.csv')\n",
    "\n",
    "data[\"time\"]=pd.to_datetime(data[\"time\"])\n",
    "\n",
    "pm25tuple = (data['numero'], data['time'], data[\"pm25\"])\n",
    "no2tuple = (data['numero'], data['time'], data[\"no2\"])\n",
    "o3tuple = (data['numero'], data['time'], data[\"o3\"])\n",
    "pm10tuple = (data['numero'], data['time'], data[\"pm10\"])\n",
    "cotuple = (data['numero'], data['time'], data[\"co\"])\n",
    "\n",
    "dicpm25 = {(i, j) : k for (i, j, k) in zip(*pm25tuple)}\n",
    "dicno2 = {(i, j) : k for (i, j, k) in zip(*no2tuple)}\n",
    "dico3 = {(i, j) : k for (i, j, k) in zip(*o3tuple)}\n",
    "dicpm10 = {(i, j) : k for (i, j, k) in zip(*pm10tuple)}\n",
    "dicco = {(i, j) : k for (i, j, k) in zip(*cotuple)}\n",
    "\n",
    "referencedate = data[\"time\"].min()\n",
    "def compute_1M_Max_conc(row):\n",
    "    datalist = []\n",
    "    date2 = row['time'] - pd.Timedelta(\"30 days\")\n",
    "\n",
    "\n",
    "    dates = pd.date_range(start = date2, periods=31).tolist()\n",
    "\n",
    "    for valuedate in dates:\n",
    "        if(valuedate < referencedate):\n",
    "            datalist.append(('NaN','NaN','NaN','NaN','NaN'))\n",
    "        \n",
    "        else:\n",
    "            datalist.append((dicpm25[(row['numero'], pd.to_datetime(str(valuedate)))], \\\n",
    "                            dicno2[(row['numero'], pd.to_datetime(str(valuedate)))], \\\n",
    "                            dico3[(row['numero'], pd.to_datetime(str(valuedate)))], \\\n",
    "                            dicpm10[(row['numero'], pd.to_datetime(str(valuedate)))],\\\n",
    "                            dicco[(row['numero'], pd.to_datetime(str(valuedate)))]))\n",
    "    \n",
    "    cleanedList = [(x,y,z,w,v) for (x,y,z,w,v) in datalist if (str(x),str(y),str(z),str(w),str(v)) != ('NaN','NaN','NaN','NaN','NaN')]\n",
    "\n",
    "    return (max(cleanedList,key=itemgetter(0))[0],\\\n",
    "            max(cleanedList,key=itemgetter(1))[1],\\\n",
    "            max(cleanedList,key=itemgetter(2))[2],\\\n",
    "            max(cleanedList,key=itemgetter(3))[3],\\\n",
    "            max(cleanedList,key=itemgetter(4))[4])\n",
    "\n",
    "@simple_time_tracker\n",
    "def compute_1M_MCs_assign_to_df(data):\n",
    "    print(\"Computing maximal pollution concentrations.. \")\n",
    "    data[['1MMaxpm25','1MMaxno2','1MMaxo3','1MMaxpm10','1MMaxco']] = data.apply(compute_1M_Max_conc, axis=1).apply(pd.Series)\n",
    "    print(\"\\n\")\n",
    "    return data\n",
    "\n",
    "data =  compute_1M_MCs_assign_to_df(data)\n",
    "\n",
    "\n",
    "\n",
    "\n",
    "\n"
   ]
  }
 ],
 "metadata": {
  "kernelspec": {
   "display_name": "Python 3",
   "language": "python",
   "name": "python3"
  },
  "language_info": {
   "codemirror_mode": {
    "name": "ipython",
    "version": 3
   },
   "file_extension": ".py",
   "mimetype": "text/x-python",
   "name": "python",
   "nbconvert_exporter": "python",
   "pygments_lexer": "ipython3",
   "version": "3.8.5"
  },
  "toc": {
   "base_numbering": 1,
   "nav_menu": {},
   "number_sections": true,
   "sideBar": true,
   "skip_h1_title": false,
   "title_cell": "Table of Contents",
   "title_sidebar": "Contents",
   "toc_cell": false,
   "toc_position": {},
   "toc_section_display": true,
   "toc_window_display": false
  },
  "varInspector": {
   "cols": {
    "lenName": 16,
    "lenType": 16,
    "lenVar": 40
   },
   "kernels_config": {
    "python": {
     "delete_cmd_postfix": "",
     "delete_cmd_prefix": "del ",
     "library": "var_list.py",
     "varRefreshCmd": "print(var_dic_list())"
    },
    "r": {
     "delete_cmd_postfix": ") ",
     "delete_cmd_prefix": "rm(",
     "library": "var_list.r",
     "varRefreshCmd": "cat(var_dic_list()) "
    }
   },
   "types_to_exclude": [
    "module",
    "function",
    "builtin_function_or_method",
    "instance",
    "_Feature"
   ],
   "window_display": false
  }
 },
 "nbformat": 4,
 "nbformat_minor": 4
}
