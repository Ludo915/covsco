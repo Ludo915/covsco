{
 "cells": [
  {
   "cell_type": "code",
   "execution_count": 1,
   "metadata": {
    "ExecuteTime": {
     "end_time": "2021-04-07T12:40:48.259858Z",
     "start_time": "2021-04-07T12:40:47.781610Z"
    }
   },
   "outputs": [],
   "source": [
    "import pandas as pd\n",
    "from tqdm import tqdm"
   ]
  },
  {
   "cell_type": "code",
   "execution_count": 2,
   "metadata": {
    "ExecuteTime": {
     "end_time": "2021-04-07T12:40:49.053941Z",
     "start_time": "2021-04-07T12:40:48.263087Z"
    }
   },
   "outputs": [
    {
     "data": {
      "text/html": [
       "<div>\n",
       "<style scoped>\n",
       "    .dataframe tbody tr th:only-of-type {\n",
       "        vertical-align: middle;\n",
       "    }\n",
       "\n",
       "    .dataframe tbody tr th {\n",
       "        vertical-align: top;\n",
       "    }\n",
       "\n",
       "    .dataframe thead th {\n",
       "        text-align: right;\n",
       "    }\n",
       "</style>\n",
       "<table border=\"1\" class=\"dataframe\">\n",
       "  <thead>\n",
       "    <tr style=\"text-align: right;\">\n",
       "      <th></th>\n",
       "      <th>dep</th>\n",
       "      <th>semaine</th>\n",
       "      <th>Nb_susp_501Y_V1</th>\n",
       "      <th>Nb_susp_501Y_V2_3</th>\n",
       "    </tr>\n",
       "  </thead>\n",
       "  <tbody>\n",
       "    <tr>\n",
       "      <th>0</th>\n",
       "      <td>1</td>\n",
       "      <td>2021-02-12-2021-02-18</td>\n",
       "      <td>686</td>\n",
       "      <td>42</td>\n",
       "    </tr>\n",
       "    <tr>\n",
       "      <th>1</th>\n",
       "      <td>1</td>\n",
       "      <td>2021-02-13-2021-02-19</td>\n",
       "      <td>706</td>\n",
       "      <td>46</td>\n",
       "    </tr>\n",
       "    <tr>\n",
       "      <th>2</th>\n",
       "      <td>1</td>\n",
       "      <td>2021-02-14-2021-02-20</td>\n",
       "      <td>730</td>\n",
       "      <td>46</td>\n",
       "    </tr>\n",
       "    <tr>\n",
       "      <th>3</th>\n",
       "      <td>1</td>\n",
       "      <td>2021-02-15-2021-02-21</td>\n",
       "      <td>748</td>\n",
       "      <td>48</td>\n",
       "    </tr>\n",
       "    <tr>\n",
       "      <th>4</th>\n",
       "      <td>1</td>\n",
       "      <td>2021-02-16-2021-02-22</td>\n",
       "      <td>852</td>\n",
       "      <td>52</td>\n",
       "    </tr>\n",
       "    <tr>\n",
       "      <th>...</th>\n",
       "      <td>...</td>\n",
       "      <td>...</td>\n",
       "      <td>...</td>\n",
       "      <td>...</td>\n",
       "    </tr>\n",
       "    <tr>\n",
       "      <th>4219</th>\n",
       "      <td>202</td>\n",
       "      <td>2021-03-23-2021-03-29</td>\n",
       "      <td>302</td>\n",
       "      <td>14</td>\n",
       "    </tr>\n",
       "    <tr>\n",
       "      <th>4220</th>\n",
       "      <td>202</td>\n",
       "      <td>2021-03-24-2021-03-30</td>\n",
       "      <td>302</td>\n",
       "      <td>18</td>\n",
       "    </tr>\n",
       "    <tr>\n",
       "      <th>4221</th>\n",
       "      <td>202</td>\n",
       "      <td>2021-03-25-2021-03-31</td>\n",
       "      <td>328</td>\n",
       "      <td>18</td>\n",
       "    </tr>\n",
       "    <tr>\n",
       "      <th>4222</th>\n",
       "      <td>202</td>\n",
       "      <td>2021-03-26-2021-04-01</td>\n",
       "      <td>318</td>\n",
       "      <td>16</td>\n",
       "    </tr>\n",
       "    <tr>\n",
       "      <th>4223</th>\n",
       "      <td>202</td>\n",
       "      <td>2021-03-27-2021-04-02</td>\n",
       "      <td>286</td>\n",
       "      <td>12</td>\n",
       "    </tr>\n",
       "  </tbody>\n",
       "</table>\n",
       "<p>4224 rows × 4 columns</p>\n",
       "</div>"
      ],
      "text/plain": [
       "      dep                semaine  Nb_susp_501Y_V1  Nb_susp_501Y_V2_3\n",
       "0       1  2021-02-12-2021-02-18              686                 42\n",
       "1       1  2021-02-13-2021-02-19              706                 46\n",
       "2       1  2021-02-14-2021-02-20              730                 46\n",
       "3       1  2021-02-15-2021-02-21              748                 48\n",
       "4       1  2021-02-16-2021-02-22              852                 52\n",
       "...   ...                    ...              ...                ...\n",
       "4219  202  2021-03-23-2021-03-29              302                 14\n",
       "4220  202  2021-03-24-2021-03-30              302                 18\n",
       "4221  202  2021-03-25-2021-03-31              328                 18\n",
       "4222  202  2021-03-26-2021-04-01              318                 16\n",
       "4223  202  2021-03-27-2021-04-02              286                 12\n",
       "\n",
       "[4224 rows x 4 columns]"
      ]
     },
     "execution_count": 2,
     "metadata": {},
     "output_type": "execute_result"
    }
   ],
   "source": [
    "df = pd.read_csv(\"../data/train/variants/fr/variants_hist_data.csv\", sep =';')\n",
    "df2 = pd.read_csv(\"../data/train/all_data_merged/fr/Enriched_Covid_history_data.csv\")\n",
    "df2[\"time\"] = pd.to_datetime(df2[\"time\"])\n",
    "df['dep'] = df['dep'].replace({'2A':'201','2B':'202'}).astype(int)\n",
    "df = df[df['dep']<203]\n",
    "#df = df.groupby([\"dep\",\"semaine\"], level = -1).sum()[\"dep\",\"semaine\",\"Nb_susp_501Y_V1\",\"Nb_susp_501Y_V2_3\"]\n",
    "df= df.groupby(['dep', 'semaine'])[[\"dep\",\"semaine\",\"Nb_susp_501Y_V1\",\"Nb_susp_501Y_V2_3\"]].sum().drop(columns = [\"dep\"]).reset_index()\n",
    "df"
   ]
  },
  {
   "cell_type": "code",
   "execution_count": 3,
   "metadata": {
    "ExecuteTime": {
     "end_time": "2021-04-07T12:40:49.077377Z",
     "start_time": "2021-04-07T12:40:49.070457Z"
    }
   },
   "outputs": [],
   "source": [
    "datalist = []\n",
    "referencedate = pd.to_datetime(\"2021-02-12\")"
   ]
  },
  {
   "cell_type": "code",
   "execution_count": 4,
   "metadata": {
    "ExecuteTime": {
     "end_time": "2021-04-07T12:40:49.098559Z",
     "start_time": "2021-04-07T12:40:49.087547Z"
    }
   },
   "outputs": [],
   "source": [
    "#10 premiers caractères datetime\n",
    "#réaffecter directement\n",
    "#récupérer la date minimum de variant_list (=df avec datetime)\n",
    "\n",
    "def to_datalist(row):\n",
    "    date = pd.to_datetime(row[\"semaine\"][0:10], yearfirst = True)\n",
    "    datalist.append((date, row[\"dep\"], row[\"Nb_susp_501Y_V1\"],row[\"Nb_susp_501Y_V2_3\"]))\n",
    "    return None"
   ]
  },
  {
   "cell_type": "code",
   "execution_count": 5,
   "metadata": {
    "ExecuteTime": {
     "end_time": "2021-04-07T12:40:49.111979Z",
     "start_time": "2021-04-07T12:40:49.105032Z"
    }
   },
   "outputs": [],
   "source": [
    "#for i in tqdm(df.index):\n",
    "#    date = pd.to_datetime(df.loc[i,\"semaine\"][0:10], yearfirst = True)\n",
    "#    datalist.append((date, df.loc[i,\"dep\"], df.loc[i,\"Nb_susp_501Y_V1\"],df.loc[i,\"Nb_susp_501Y_V2_3\"]))"
   ]
  },
  {
   "cell_type": "code",
   "execution_count": 6,
   "metadata": {
    "ExecuteTime": {
     "end_time": "2021-04-07T12:40:50.392608Z",
     "start_time": "2021-04-07T12:40:49.119623Z"
    }
   },
   "outputs": [
    {
     "data": {
      "text/plain": [
       "0       None\n",
       "1       None\n",
       "2       None\n",
       "3       None\n",
       "4       None\n",
       "        ... \n",
       "4219    None\n",
       "4220    None\n",
       "4221    None\n",
       "4222    None\n",
       "4223    None\n",
       "Length: 4224, dtype: object"
      ]
     },
     "execution_count": 6,
     "metadata": {},
     "output_type": "execute_result"
    }
   ],
   "source": [
    "df.apply(to_datalist, axis=1)"
   ]
  },
  {
   "cell_type": "code",
   "execution_count": 7,
   "metadata": {
    "ExecuteTime": {
     "end_time": "2021-04-07T12:40:50.417522Z",
     "start_time": "2021-04-07T12:40:50.407049Z"
    }
   },
   "outputs": [
    {
     "data": {
      "text/plain": [
       "(4224, (4224, 4))"
      ]
     },
     "execution_count": 7,
     "metadata": {},
     "output_type": "execute_result"
    }
   ],
   "source": [
    "len(datalist), df.shape"
   ]
  },
  {
   "cell_type": "code",
   "execution_count": 8,
   "metadata": {
    "ExecuteTime": {
     "end_time": "2021-04-07T12:40:50.480261Z",
     "start_time": "2021-04-07T12:40:50.431554Z"
    }
   },
   "outputs": [
    {
     "data": {
      "text/html": [
       "<div>\n",
       "<style scoped>\n",
       "    .dataframe tbody tr th:only-of-type {\n",
       "        vertical-align: middle;\n",
       "    }\n",
       "\n",
       "    .dataframe tbody tr th {\n",
       "        vertical-align: top;\n",
       "    }\n",
       "\n",
       "    .dataframe thead th {\n",
       "        text-align: right;\n",
       "    }\n",
       "</style>\n",
       "<table border=\"1\" class=\"dataframe\">\n",
       "  <thead>\n",
       "    <tr style=\"text-align: right;\">\n",
       "      <th></th>\n",
       "      <th>semaine</th>\n",
       "      <th>dep</th>\n",
       "      <th>Nb_susp_501Y_V1</th>\n",
       "      <th>Nb_susp_501Y_V2_3</th>\n",
       "    </tr>\n",
       "  </thead>\n",
       "  <tbody>\n",
       "    <tr>\n",
       "      <th>0</th>\n",
       "      <td>2021-02-12</td>\n",
       "      <td>1</td>\n",
       "      <td>686</td>\n",
       "      <td>42</td>\n",
       "    </tr>\n",
       "    <tr>\n",
       "      <th>1</th>\n",
       "      <td>2021-02-13</td>\n",
       "      <td>1</td>\n",
       "      <td>706</td>\n",
       "      <td>46</td>\n",
       "    </tr>\n",
       "    <tr>\n",
       "      <th>2</th>\n",
       "      <td>2021-02-14</td>\n",
       "      <td>1</td>\n",
       "      <td>730</td>\n",
       "      <td>46</td>\n",
       "    </tr>\n",
       "    <tr>\n",
       "      <th>3</th>\n",
       "      <td>2021-02-15</td>\n",
       "      <td>1</td>\n",
       "      <td>748</td>\n",
       "      <td>48</td>\n",
       "    </tr>\n",
       "    <tr>\n",
       "      <th>4</th>\n",
       "      <td>2021-02-16</td>\n",
       "      <td>1</td>\n",
       "      <td>852</td>\n",
       "      <td>52</td>\n",
       "    </tr>\n",
       "    <tr>\n",
       "      <th>...</th>\n",
       "      <td>...</td>\n",
       "      <td>...</td>\n",
       "      <td>...</td>\n",
       "      <td>...</td>\n",
       "    </tr>\n",
       "    <tr>\n",
       "      <th>4219</th>\n",
       "      <td>2021-03-23</td>\n",
       "      <td>202</td>\n",
       "      <td>302</td>\n",
       "      <td>14</td>\n",
       "    </tr>\n",
       "    <tr>\n",
       "      <th>4220</th>\n",
       "      <td>2021-03-24</td>\n",
       "      <td>202</td>\n",
       "      <td>302</td>\n",
       "      <td>18</td>\n",
       "    </tr>\n",
       "    <tr>\n",
       "      <th>4221</th>\n",
       "      <td>2021-03-25</td>\n",
       "      <td>202</td>\n",
       "      <td>328</td>\n",
       "      <td>18</td>\n",
       "    </tr>\n",
       "    <tr>\n",
       "      <th>4222</th>\n",
       "      <td>2021-03-26</td>\n",
       "      <td>202</td>\n",
       "      <td>318</td>\n",
       "      <td>16</td>\n",
       "    </tr>\n",
       "    <tr>\n",
       "      <th>4223</th>\n",
       "      <td>2021-03-27</td>\n",
       "      <td>202</td>\n",
       "      <td>286</td>\n",
       "      <td>12</td>\n",
       "    </tr>\n",
       "  </tbody>\n",
       "</table>\n",
       "<p>4224 rows × 4 columns</p>\n",
       "</div>"
      ],
      "text/plain": [
       "        semaine  dep  Nb_susp_501Y_V1  Nb_susp_501Y_V2_3\n",
       "0    2021-02-12    1              686                 42\n",
       "1    2021-02-13    1              706                 46\n",
       "2    2021-02-14    1              730                 46\n",
       "3    2021-02-15    1              748                 48\n",
       "4    2021-02-16    1              852                 52\n",
       "...         ...  ...              ...                ...\n",
       "4219 2021-03-23  202              302                 14\n",
       "4220 2021-03-24  202              302                 18\n",
       "4221 2021-03-25  202              328                 18\n",
       "4222 2021-03-26  202              318                 16\n",
       "4223 2021-03-27  202              286                 12\n",
       "\n",
       "[4224 rows x 4 columns]"
      ]
     },
     "execution_count": 8,
     "metadata": {},
     "output_type": "execute_result"
    }
   ],
   "source": [
    "datalistdf = pd.DataFrame(datalist)\n",
    "datalistdf.columns=[\"semaine\",\"dep\", \"Nb_susp_501Y_V1\",\"Nb_susp_501Y_V2_3\"]\n",
    "datalistdf"
   ]
  },
  {
   "cell_type": "code",
   "execution_count": 9,
   "metadata": {
    "ExecuteTime": {
     "end_time": "2021-04-07T12:40:50.960848Z",
     "start_time": "2021-04-07T12:40:50.488322Z"
    }
   },
   "outputs": [
    {
     "ename": "NameError",
     "evalue": "name 'row' is not defined",
     "output_type": "error",
     "traceback": [
      "\u001b[0;31m---------------------------------------------------------------------------\u001b[0m",
      "\u001b[0;31mNameError\u001b[0m                                 Traceback (most recent call last)",
      "\u001b[0;32m<ipython-input-9-a1fa41476f9f>\u001b[0m in \u001b[0;36m<module>\u001b[0;34m\u001b[0m\n\u001b[1;32m      4\u001b[0m \u001b[0;31m# - append à Enriched+variant (= df de enriched + infos sur les variants)\u001b[0m\u001b[0;34m\u001b[0m\u001b[0;34m\u001b[0m\u001b[0;34m\u001b[0m\u001b[0m\n\u001b[1;32m      5\u001b[0m \u001b[0;34m\u001b[0m\u001b[0m\n\u001b[0;32m----> 6\u001b[0;31m \u001b[0mdate2\u001b[0m \u001b[0;34m=\u001b[0m \u001b[0mrow\u001b[0m\u001b[0;34m[\u001b[0m\u001b[0;34m'time'\u001b[0m\u001b[0;34m]\u001b[0m \u001b[0;34m-\u001b[0m \u001b[0mpd\u001b[0m\u001b[0;34m.\u001b[0m\u001b[0mTimedelta\u001b[0m\u001b[0;34m(\u001b[0m\u001b[0;34m\"30 days\"\u001b[0m\u001b[0;34m)\u001b[0m\u001b[0;34m\u001b[0m\u001b[0;34m\u001b[0m\u001b[0m\n\u001b[0m\u001b[1;32m      7\u001b[0m \u001b[0mdates\u001b[0m \u001b[0;34m=\u001b[0m \u001b[0mpd\u001b[0m\u001b[0;34m.\u001b[0m\u001b[0mdate_range\u001b[0m\u001b[0;34m(\u001b[0m\u001b[0mstart\u001b[0m \u001b[0;34m=\u001b[0m \u001b[0mdate2\u001b[0m\u001b[0;34m,\u001b[0m \u001b[0mperiods\u001b[0m\u001b[0;34m=\u001b[0m\u001b[0;36m31\u001b[0m\u001b[0;34m)\u001b[0m\u001b[0;34m.\u001b[0m\u001b[0mtolist\u001b[0m\u001b[0;34m(\u001b[0m\u001b[0;34m)\u001b[0m\u001b[0;34m\u001b[0m\u001b[0;34m\u001b[0m\u001b[0m\n\u001b[1;32m      8\u001b[0m \u001b[0;34m\u001b[0m\u001b[0m\n",
      "\u001b[0;31mNameError\u001b[0m: name 'row' is not defined"
     ]
    }
   ],
   "source": [
    "# regarder pour chaque row de Enriched si :\n",
    "# - le jour est avant le jour de début des variants\n",
    "# - le jour est dans la semaine suivant le row des variants\n",
    "# - append à Enriched+variant (= df de enriched + infos sur les variants)\n",
    "\n",
    "date2 = row['time'] - pd.Timedelta(\"30 days\")\n",
    "dates = pd.date_range(start = date2, periods=31).tolist()\n",
    "\n"
   ]
  },
  {
   "cell_type": "code",
   "execution_count": 10,
   "metadata": {
    "ExecuteTime": {
     "end_time": "2021-04-07T12:41:02.086471Z",
     "start_time": "2021-04-07T12:41:02.067933Z"
    }
   },
   "outputs": [
    {
     "ename": "SyntaxError",
     "evalue": "'break' outside loop (<ipython-input-10-9414be9b346b>, line 17)",
     "output_type": "error",
     "traceback": [
      "\u001b[0;36m  File \u001b[0;32m\"<ipython-input-10-9414be9b346b>\"\u001b[0;36m, line \u001b[0;32m17\u001b[0m\n\u001b[0;31m    break\u001b[0m\n\u001b[0m    ^\u001b[0m\n\u001b[0;31mSyntaxError\u001b[0m\u001b[0;31m:\u001b[0m 'break' outside loop\n"
     ]
    }
   ],
   "source": [
    "datalist3 = []\n",
    "\n",
    "def test (data_row):\n",
    "    counter=0\n",
    "    if data_row['dep']==depnum:\n",
    "        date1 = data_row['semaine']\n",
    "        if date<referencedate:\n",
    "            datalist3.append((date, 0,0))\n",
    "            counter +=1\n",
    "            datefound= True\n",
    "        elif ((date >= referencedate) & (date1 <= date) & (date < (date1 + pd.Timedelta(\"7 days\")))):\n",
    "            V1 = data_row['Nb_susp_501Y_V1']\n",
    "            V2 = data_row['Nb_susp_501Y_V2_3']\n",
    "            counter +=1\n",
    "            datefound=True\n",
    "        if counter==1:\n",
    "            break\n",
    "    return None\n",
    "\n",
    "\n",
    "def to_datalist2(row):\n",
    "    date = row['time']\n",
    "    depnum = row['numero']\n",
    "    datefound=False\n",
    "    \n",
    "    datalistdf.apply(test, axis=1)\n",
    "    \n",
    "    if datefound==False:\n",
    "        datalist2.append((date, V1, V2))\n",
    "    \n",
    "    \n",
    "    "
   ]
  },
  {
   "cell_type": "code",
   "execution_count": 11,
   "metadata": {
    "ExecuteTime": {
     "end_time": "2021-04-07T13:13:29.076513Z",
     "start_time": "2021-04-07T12:41:24.607636Z"
    }
   },
   "outputs": [
    {
     "name": "stderr",
     "output_type": "stream",
     "text": [
      "100%|██████████| 30590/30590 [32:04<00:00, 15.90it/s]  \n"
     ]
    }
   ],
   "source": [
    "datalist2 = []\n",
    "for i in tqdm(df2.index):\n",
    "    date = df2.loc[i,\"time\"]\n",
    "    depnum = df2.loc[i,\"numero\"]\n",
    "    datefound = False\n",
    "\n",
    "    for j in datalistdf.index:\n",
    "        counter = 0\n",
    "        if datalistdf.loc[j,\"dep\"]==depnum: \n",
    "            date1 = datalistdf.loc[j,\"semaine\"]\n",
    "            if (date < referencedate):\n",
    "                datalist2.append((date,0,0))\n",
    "                counter +=1\n",
    "                datefound = True\n",
    "\n",
    "            elif ((date >= referencedate) & (date1 <= date) & (date < (date1 + pd.Timedelta(\"7 days\")))):\n",
    "                V1 = datalistdf.loc[j,\"Nb_susp_501Y_V1\"]\n",
    "                V2 = datalistdf.loc[j,\"Nb_susp_501Y_V2_3\"]\n",
    "                datalist2.append((date,V1,V2))\n",
    "                counter += 1\n",
    "                datefound = True\n",
    "            if (counter == 1):\n",
    "                break\n",
    "    if datefound == False:\n",
    "        datalist2.append((date, V1,V2))  \n",
    "          "
   ]
  },
  {
   "cell_type": "code",
   "execution_count": 12,
   "metadata": {
    "ExecuteTime": {
     "end_time": "2021-04-07T13:13:31.833817Z",
     "start_time": "2021-04-07T13:13:31.779017Z"
    }
   },
   "outputs": [
    {
     "data": {
      "text/html": [
       "<div>\n",
       "<style scoped>\n",
       "    .dataframe tbody tr th:only-of-type {\n",
       "        vertical-align: middle;\n",
       "    }\n",
       "\n",
       "    .dataframe tbody tr th {\n",
       "        vertical-align: top;\n",
       "    }\n",
       "\n",
       "    .dataframe thead th {\n",
       "        text-align: right;\n",
       "    }\n",
       "</style>\n",
       "<table border=\"1\" class=\"dataframe\">\n",
       "  <thead>\n",
       "    <tr style=\"text-align: right;\">\n",
       "      <th></th>\n",
       "      <th>date</th>\n",
       "      <th>V1</th>\n",
       "      <th>V2</th>\n",
       "    </tr>\n",
       "  </thead>\n",
       "  <tbody>\n",
       "    <tr>\n",
       "      <th>0</th>\n",
       "      <td>2020-05-14</td>\n",
       "      <td>0</td>\n",
       "      <td>0</td>\n",
       "    </tr>\n",
       "    <tr>\n",
       "      <th>1</th>\n",
       "      <td>2020-05-15</td>\n",
       "      <td>0</td>\n",
       "      <td>0</td>\n",
       "    </tr>\n",
       "    <tr>\n",
       "      <th>2</th>\n",
       "      <td>2020-05-16</td>\n",
       "      <td>0</td>\n",
       "      <td>0</td>\n",
       "    </tr>\n",
       "    <tr>\n",
       "      <th>3</th>\n",
       "      <td>2020-05-17</td>\n",
       "      <td>0</td>\n",
       "      <td>0</td>\n",
       "    </tr>\n",
       "    <tr>\n",
       "      <th>4</th>\n",
       "      <td>2020-05-18</td>\n",
       "      <td>0</td>\n",
       "      <td>0</td>\n",
       "    </tr>\n",
       "    <tr>\n",
       "      <th>...</th>\n",
       "      <td>...</td>\n",
       "      <td>...</td>\n",
       "      <td>...</td>\n",
       "    </tr>\n",
       "    <tr>\n",
       "      <th>30585</th>\n",
       "      <td>2021-03-27</td>\n",
       "      <td>9561</td>\n",
       "      <td>432</td>\n",
       "    </tr>\n",
       "    <tr>\n",
       "      <th>30586</th>\n",
       "      <td>2021-03-28</td>\n",
       "      <td>9557</td>\n",
       "      <td>428</td>\n",
       "    </tr>\n",
       "    <tr>\n",
       "      <th>30587</th>\n",
       "      <td>2021-03-29</td>\n",
       "      <td>9496</td>\n",
       "      <td>396</td>\n",
       "    </tr>\n",
       "    <tr>\n",
       "      <th>30588</th>\n",
       "      <td>2021-03-30</td>\n",
       "      <td>8643</td>\n",
       "      <td>364</td>\n",
       "    </tr>\n",
       "    <tr>\n",
       "      <th>30589</th>\n",
       "      <td>2021-03-31</td>\n",
       "      <td>7915</td>\n",
       "      <td>332</td>\n",
       "    </tr>\n",
       "  </tbody>\n",
       "</table>\n",
       "<p>30590 rows × 3 columns</p>\n",
       "</div>"
      ],
      "text/plain": [
       "            date    V1   V2\n",
       "0     2020-05-14     0    0\n",
       "1     2020-05-15     0    0\n",
       "2     2020-05-16     0    0\n",
       "3     2020-05-17     0    0\n",
       "4     2020-05-18     0    0\n",
       "...          ...   ...  ...\n",
       "30585 2021-03-27  9561  432\n",
       "30586 2021-03-28  9557  428\n",
       "30587 2021-03-29  9496  396\n",
       "30588 2021-03-30  8643  364\n",
       "30589 2021-03-31  7915  332\n",
       "\n",
       "[30590 rows x 3 columns]"
      ]
     },
     "execution_count": 12,
     "metadata": {},
     "output_type": "execute_result"
    }
   ],
   "source": [
    "dfvar = pd.DataFrame(datalist2)\n",
    "dfvar.columns=[\"date\", \"V1\",\"V2\"]\n",
    "dfvar"
   ]
  },
  {
   "cell_type": "code",
   "execution_count": 13,
   "metadata": {
    "ExecuteTime": {
     "end_time": "2021-04-07T13:13:34.565152Z",
     "start_time": "2021-04-07T13:13:34.558864Z"
    }
   },
   "outputs": [],
   "source": [
    "df2[\"Nb_susp_501Y_V1\"]=dfvar[\"V1\"]\n",
    "df2[\"Nb_susp_501Y_V2_3\"]=dfvar[\"V2\"]"
   ]
  },
  {
   "cell_type": "code",
   "execution_count": 21,
   "metadata": {
    "ExecuteTime": {
     "end_time": "2021-04-08T09:17:28.198458Z",
     "start_time": "2021-04-08T09:17:28.184217Z"
    }
   },
   "outputs": [
    {
     "data": {
      "text/plain": [
       "0       2020-05-14\n",
       "1       2020-05-15\n",
       "2       2020-05-16\n",
       "3       2020-05-17\n",
       "4       2020-05-18\n",
       "           ...    \n",
       "30585   2021-03-27\n",
       "30586   2021-03-28\n",
       "30587   2021-03-29\n",
       "30588   2021-03-30\n",
       "30589   2021-03-31\n",
       "Name: time, Length: 30590, dtype: datetime64[ns]"
      ]
     },
     "execution_count": 21,
     "metadata": {},
     "output_type": "execute_result"
    }
   ],
   "source": [
    "df2['time']"
   ]
  },
  {
   "cell_type": "code",
   "execution_count": 35,
   "metadata": {
    "ExecuteTime": {
     "end_time": "2021-04-08T09:22:53.841499Z",
     "start_time": "2021-04-08T09:22:53.289598Z"
    }
   },
   "outputs": [],
   "source": [
    "cam = pd.read_csv('df2_cam.csv')"
   ]
  },
  {
   "cell_type": "code",
   "execution_count": 36,
   "metadata": {
    "ExecuteTime": {
     "end_time": "2021-04-08T09:23:01.608306Z",
     "start_time": "2021-04-08T09:22:56.910336Z"
    }
   },
   "outputs": [],
   "source": [
    "cam['time'] = cam['time'].apply(lambda x: pd.to_datetime(x))"
   ]
  },
  {
   "cell_type": "code",
   "execution_count": 37,
   "metadata": {
    "ExecuteTime": {
     "end_time": "2021-04-08T09:23:04.555034Z",
     "start_time": "2021-04-08T09:23:04.538356Z"
    }
   },
   "outputs": [
    {
     "data": {
      "text/plain": [
       "array([ True])"
      ]
     },
     "execution_count": 37,
     "metadata": {},
     "output_type": "execute_result"
    }
   ],
   "source": [
    "test = cam[['time','Nb_susp_501Y_V1','Nb_susp_501Y_V2_3']] == df2[['time','Nb_susp_501Y_V1','Nb_susp_501Y_V2_3']]\n",
    "test['Nb_susp_501Y_V2_3'].unique()"
   ]
  },
  {
   "cell_type": "code",
   "execution_count": null,
   "metadata": {},
   "outputs": [],
   "source": []
  }
 ],
 "metadata": {
  "kernelspec": {
   "display_name": "Python 3",
   "language": "python",
   "name": "python3"
  },
  "language_info": {
   "codemirror_mode": {
    "name": "ipython",
    "version": 3
   },
   "file_extension": ".py",
   "mimetype": "text/x-python",
   "name": "python",
   "nbconvert_exporter": "python",
   "pygments_lexer": "ipython3",
   "version": "3.8.5"
  },
  "toc": {
   "base_numbering": 1,
   "nav_menu": {},
   "number_sections": true,
   "sideBar": true,
   "skip_h1_title": false,
   "title_cell": "Table of Contents",
   "title_sidebar": "Contents",
   "toc_cell": false,
   "toc_position": {},
   "toc_section_display": true,
   "toc_window_display": false
  },
  "varInspector": {
   "cols": {
    "lenName": 16,
    "lenType": 16,
    "lenVar": 40
   },
   "kernels_config": {
    "python": {
     "delete_cmd_postfix": "",
     "delete_cmd_prefix": "del ",
     "library": "var_list.py",
     "varRefreshCmd": "print(var_dic_list())"
    },
    "r": {
     "delete_cmd_postfix": ") ",
     "delete_cmd_prefix": "rm(",
     "library": "var_list.r",
     "varRefreshCmd": "cat(var_dic_list()) "
    }
   },
   "types_to_exclude": [
    "module",
    "function",
    "builtin_function_or_method",
    "instance",
    "_Feature"
   ],
   "window_display": false
  }
 },
 "nbformat": 4,
 "nbformat_minor": 4
}
