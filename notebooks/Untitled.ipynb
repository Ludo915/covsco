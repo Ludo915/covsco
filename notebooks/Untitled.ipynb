{
 "cells": [
  {
   "cell_type": "code",
   "execution_count": 1,
   "metadata": {
    "ExecuteTime": {
     "end_time": "2021-04-06T14:31:06.797864Z",
     "start_time": "2021-04-06T14:31:06.788024Z"
    }
   },
   "outputs": [],
   "source": [
    "#regarder le enriched covid data history\n",
    "# mettre dans la population celle de popfr 2020 quand la date est en 2020\n",
    "# mettre dans la population celle de popfr 2021 quand la date est en 2021"
   ]
  },
  {
   "cell_type": "code",
   "execution_count": 2,
   "metadata": {
    "ExecuteTime": {
     "end_time": "2021-04-06T14:31:07.432718Z",
     "start_time": "2021-04-06T14:31:06.806347Z"
    }
   },
   "outputs": [],
   "source": [
    "import pandas as pd"
   ]
  },
  {
   "cell_type": "code",
   "execution_count": 3,
   "metadata": {
    "ExecuteTime": {
     "end_time": "2021-04-06T14:31:07.913045Z",
     "start_time": "2021-04-06T14:31:07.438905Z"
    }
   },
   "outputs": [],
   "source": [
    "data = pd.read_csv('../data/train/all_data_merged/fr/Enriched_Covid_history_data.csv')"
   ]
  },
  {
   "cell_type": "code",
   "execution_count": 4,
   "metadata": {
    "ExecuteTime": {
     "end_time": "2021-04-06T14:31:09.789974Z",
     "start_time": "2021-04-06T14:31:07.916509Z"
    }
   },
   "outputs": [],
   "source": [
    "pop2020 = pd.read_excel('../data/train/pop/fr/popfr.xls', sheet_name='2020')\n",
    "pop2021 = pd.read_excel('../data/train/pop/fr/popfr.xls', sheet_name='2021')"
   ]
  },
  {
   "cell_type": "code",
   "execution_count": 5,
   "metadata": {
    "ExecuteTime": {
     "end_time": "2021-04-06T14:31:09.802619Z",
     "start_time": "2021-04-06T14:31:09.792904Z"
    }
   },
   "outputs": [],
   "source": [
    "dic2020 = {k: v for k, v in zip(pop2020['depname'], pop2020['pop'])}\n",
    "dic2021 = {k: v for k, v in zip(pop2021['depname'], pop2021['pop'])}"
   ]
  },
  {
   "cell_type": "code",
   "execution_count": 6,
   "metadata": {
    "ExecuteTime": {
     "end_time": "2021-04-06T14:31:09.816263Z",
     "start_time": "2021-04-06T14:31:09.807562Z"
    }
   },
   "outputs": [],
   "source": [
    "def rectify_pop(row):\n",
    "    #print(row['jour'][:4])\n",
    "    if row['jour'][:4]=='2020':\n",
    "        ans = dic2020[row['name']]\n",
    "    elif row['jour'][:4]=='2021':\n",
    "        ans= dic2021[row['name']]\n",
    "    return ans"
   ]
  },
  {
   "cell_type": "code",
   "execution_count": 7,
   "metadata": {
    "ExecuteTime": {
     "end_time": "2021-04-06T14:31:10.801390Z",
     "start_time": "2021-04-06T14:31:09.820264Z"
    }
   },
   "outputs": [
    {
     "data": {
      "text/html": [
       "<div>\n",
       "<style scoped>\n",
       "    .dataframe tbody tr th:only-of-type {\n",
       "        vertical-align: middle;\n",
       "    }\n",
       "\n",
       "    .dataframe tbody tr th {\n",
       "        vertical-align: top;\n",
       "    }\n",
       "\n",
       "    .dataframe thead th {\n",
       "        text-align: right;\n",
       "    }\n",
       "</style>\n",
       "<table border=\"1\" class=\"dataframe\">\n",
       "  <thead>\n",
       "    <tr style=\"text-align: right;\">\n",
       "      <th></th>\n",
       "      <th>dep</th>\n",
       "      <th>jour</th>\n",
       "      <th>total</th>\n",
       "    </tr>\n",
       "  </thead>\n",
       "  <tbody>\n",
       "    <tr>\n",
       "      <th>0</th>\n",
       "      <td>1</td>\n",
       "      <td>2020-05-14</td>\n",
       "      <td>657907.0</td>\n",
       "    </tr>\n",
       "    <tr>\n",
       "      <th>1</th>\n",
       "      <td>1</td>\n",
       "      <td>2020-05-15</td>\n",
       "      <td>657907.0</td>\n",
       "    </tr>\n",
       "    <tr>\n",
       "      <th>2</th>\n",
       "      <td>1</td>\n",
       "      <td>2020-05-16</td>\n",
       "      <td>657907.0</td>\n",
       "    </tr>\n",
       "    <tr>\n",
       "      <th>3</th>\n",
       "      <td>1</td>\n",
       "      <td>2020-05-17</td>\n",
       "      <td>657907.0</td>\n",
       "    </tr>\n",
       "    <tr>\n",
       "      <th>4</th>\n",
       "      <td>1</td>\n",
       "      <td>2020-05-18</td>\n",
       "      <td>657907.0</td>\n",
       "    </tr>\n",
       "    <tr>\n",
       "      <th>...</th>\n",
       "      <td>...</td>\n",
       "      <td>...</td>\n",
       "      <td>...</td>\n",
       "    </tr>\n",
       "    <tr>\n",
       "      <th>30585</th>\n",
       "      <td>95</td>\n",
       "      <td>2021-03-27</td>\n",
       "      <td>1260269.0</td>\n",
       "    </tr>\n",
       "    <tr>\n",
       "      <th>30586</th>\n",
       "      <td>95</td>\n",
       "      <td>2021-03-28</td>\n",
       "      <td>1260269.0</td>\n",
       "    </tr>\n",
       "    <tr>\n",
       "      <th>30587</th>\n",
       "      <td>95</td>\n",
       "      <td>2021-03-29</td>\n",
       "      <td>1260269.0</td>\n",
       "    </tr>\n",
       "    <tr>\n",
       "      <th>30588</th>\n",
       "      <td>95</td>\n",
       "      <td>2021-03-30</td>\n",
       "      <td>1260269.0</td>\n",
       "    </tr>\n",
       "    <tr>\n",
       "      <th>30589</th>\n",
       "      <td>95</td>\n",
       "      <td>2021-03-31</td>\n",
       "      <td>1260269.0</td>\n",
       "    </tr>\n",
       "  </tbody>\n",
       "</table>\n",
       "<p>30590 rows × 3 columns</p>\n",
       "</div>"
      ],
      "text/plain": [
       "       dep        jour      total\n",
       "0        1  2020-05-14   657907.0\n",
       "1        1  2020-05-15   657907.0\n",
       "2        1  2020-05-16   657907.0\n",
       "3        1  2020-05-17   657907.0\n",
       "4        1  2020-05-18   657907.0\n",
       "...    ...         ...        ...\n",
       "30585   95  2021-03-27  1260269.0\n",
       "30586   95  2021-03-28  1260269.0\n",
       "30587   95  2021-03-29  1260269.0\n",
       "30588   95  2021-03-30  1260269.0\n",
       "30589   95  2021-03-31  1260269.0\n",
       "\n",
       "[30590 rows x 3 columns]"
      ]
     },
     "execution_count": 7,
     "metadata": {},
     "output_type": "execute_result"
    }
   ],
   "source": [
    "data['total'] = data.apply(rectify_pop, axis=1)\n",
    "data[['dep','jour', 'total']]"
   ]
  }
 ],
 "metadata": {
  "kernelspec": {
   "display_name": "Python 3",
   "language": "python",
   "name": "python3"
  },
  "language_info": {
   "codemirror_mode": {
    "name": "ipython",
    "version": 3
   },
   "file_extension": ".py",
   "mimetype": "text/x-python",
   "name": "python",
   "nbconvert_exporter": "python",
   "pygments_lexer": "ipython3",
   "version": "3.8.5"
  },
  "toc": {
   "base_numbering": 1,
   "nav_menu": {},
   "number_sections": true,
   "sideBar": true,
   "skip_h1_title": false,
   "title_cell": "Table of Contents",
   "title_sidebar": "Contents",
   "toc_cell": false,
   "toc_position": {},
   "toc_section_display": true,
   "toc_window_display": false
  },
  "varInspector": {
   "cols": {
    "lenName": 16,
    "lenType": 16,
    "lenVar": 40
   },
   "kernels_config": {
    "python": {
     "delete_cmd_postfix": "",
     "delete_cmd_prefix": "del ",
     "library": "var_list.py",
     "varRefreshCmd": "print(var_dic_list())"
    },
    "r": {
     "delete_cmd_postfix": ") ",
     "delete_cmd_prefix": "rm(",
     "library": "var_list.r",
     "varRefreshCmd": "cat(var_dic_list()) "
    }
   },
   "types_to_exclude": [
    "module",
    "function",
    "builtin_function_or_method",
    "instance",
    "_Feature"
   ],
   "window_display": false
  }
 },
 "nbformat": 4,
 "nbformat_minor": 4
}
